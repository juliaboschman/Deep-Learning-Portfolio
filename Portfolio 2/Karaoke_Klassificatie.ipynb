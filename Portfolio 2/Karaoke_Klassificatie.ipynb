{
 "cells": [
  {
   "cell_type": "markdown",
   "id": "6b90e3dc",
   "metadata": {},
   "source": [
    "<div style=\"background-color:\t#216375 ; text-align:center; vertical-align: middle; padding:40px 0; margin-top:30px\">\n",
    "<h1 style=\"color:white\">Deep Learning - Karaoke klassificatie</h1>\n",
    "<b style=\"color:black\"> Kaggle: Yoyoyoghurt(teamnaam), JortAkershoek, juliaboschman, Sam Keesen </b>\n",
    "   \n",
    "<b style=\"color:white\"> Jort Akershoek, Julia Boschman, Sam Keesen</b>\n",
    "    </div>\n",
    "\n",
    "<a name='start'></a>"
   ]
  },
  {
   "cell_type": "markdown",
   "id": "e46cb623",
   "metadata": {},
   "source": [
    "## Table of contents\n",
    "\n",
    "1. [H1: Inleiding](#1.0)\n",
    "2. [H2: EDA](#2.0)\n",
    "    - [&sect;2.1: Audio fragmenten](#2.1)\n",
    "    - [&sect;2.2: Eigenschappen audio fragmenten](#2.2)\n",
    "    - [&sect;2.3: Songteksten](#2.3)\n",
    "    - [&sect;2.4: Conclusie EDA](#2.4)\n",
    "3. [H3: LSTM voor audioclips](#3.0)\n",
    "    - [&sect;3.1: Het model](#3.1)\n",
    "    - [&sect;3.2: Modelarchitectuur](#3.2)\n",
    "    - [&sect;3.3: Stappen feature engineering](#3.3)\n",
    "    - [&sect;3.4: Onderbouwing keuzes parameters](#3.4)\n",
    "    - [&sect;3.5: Geschikte loss functie en optimizer](#3.5)\n",
    "    - [&sect;3.6: Model trainen](#3.6)\n",
    "4. [H4: LSTM voor songteksten](#4.0)\n",
    "    - [&sect;4.1: Datapipeline met data preprocessing, feature engineering, of/en data augmentation](#4.1)\n",
    "    - [&sect;4.2: Het model](#4.2)\n",
    "    - [&sect;4.3: Modelarchitectuur](#4.3)\n",
    "    - [&sect;4.4: Model trainen](#4.4)\n",
    "    - [&sect;4.5: Onderbouwing keuzes parameters](#4.5)\n",
    "5. [H5: Transformer voor songteksten](#5.0)\n",
    "    - [&sect;5.1: Het model](#5.1)\n",
    "    - [&sect;5.2: Fine-tuning Hugging Face](#5.2)\n",
    "    - [&sect;5.3: Naam modelarchitectuur en dataset](#5.3)\n",
    "    - [&sect;5.4: Voordelen vooraf getrainde tekst modellen](#4.4)\n",
    "    - [&sect;5.5: Stappen finetunen vooraf getraind model en motivaties](#5.5)\n",
    "6. [H6: Model naar keuze](#6.0)\n",
    "    - [&sect;6.1: Het model](#6.1)\n",
    "    - [&sect;6.2: Modelarchitectuur](#6.2)\n",
    "    - [&sect;6.3: Uitleg keuzes model](#6.3)\n",
    "7. [H7: Bevindingen](#7.0)\n",
    "    - [&sect;7.1: Samenvatting van de uitkomst](#7.1)\n",
    "8. [H8: Conclusie en aanbevelingen](#8.0)\n",
    "    - [&sect;8.1: Uitdagingen modelleringsproces](#8.1)\n",
    "    - [&sect;8.2: Prestaties modelarchitecturen](#8.2)\n",
    "    - [&sect;8.3: Beste model audio en tekst](#8.3)\n",
    "    - [&sect;8.4: Genres makkelijk te voorspellen met audio en tekst](#8.4)\n",
    "    - [&sect;8.5: Advies voor app](#8.5)\n",
    "    - [&sect;8.6: Conceptuele uitbreiding voor systeem](#8.6)\n",
    "9. [H9: Literatuurlijst](#9.0)"
   ]
  },
  {
   "cell_type": "code",
   "execution_count": 1,
   "id": "7e922036",
   "metadata": {},
   "outputs": [],
   "source": [
    "#alle nodige imports\n",
    "import os\n",
    "import pathlib\n",
    "import numpy as np\n",
    "import pandas as pd\n",
    "import seaborn as sns\n",
    "import soundfile as sf\n",
    "import tensorflow as tf\n",
    "from IPython import display\n",
    "import IPython.display as ipd\n",
    "import matplotlib.pyplot as plt\n",
    "from tensorflow.keras import models\n",
    "from tensorflow.keras import layers\n",
    "from tensorflow import keras\n",
    "from tensorflow.keras.layers import LSTM, Dropout, Dense\n",
    "from tensorflow.keras.callbacks import EarlyStopping"
   ]
  },
  {
   "cell_type": "code",
   "execution_count": 2,
   "id": "2bb79f5f",
   "metadata": {},
   "outputs": [],
   "source": [
    "os.environ[\"PATH\"] += os.pathsep + 'C:/Program Files/Graphviz/bin/'"
   ]
  },
  {
   "cell_type": "markdown",
   "id": "dbb7a048",
   "metadata": {},
   "source": [
    "[Back to the top](#start)\n",
    "<a name='1.0'></a>\n",
    "\n",
    "<div style=\"background-color:#216375; text-align:center; vertical-align:middle; padding:10px 0; margin-top:5px; margin-bottom:5px\">\n",
    "        <h2 style=\"color:white\"><strong>H1: Inleiding</strong></h2>\n",
    "</div>"
   ]
  },
  {
   "cell_type": "markdown",
   "id": "d1d60adf",
   "metadata": {},
   "source": [
    "Voor het vak Deep Learning wordt er in dit portfolio onderzoek gedaan naar de werking en toepassing van verschillende vormen van neurale netwerken. De opdracht voor dit portfolio is het voorspellen van genres van liedjes met de hulp van neurale netwerken. Dit kunnen neurale netwerken zijn die alleen maar werken met tekst data, juist alleen met audio data of zelfs met beide. Er worden 4 verschillende neurale netwerken gebruikt in dit notebook en dat zijn als volgt:\n",
    "\n",
    "- LSTM neuraal netwerk, alleen audio data.\n",
    "- LSTM neuraal netwerk, alleen tekst data.\n",
    "- Transformer model, alleen tekst data.\n",
    "- Multimodaal model, kan zowel audio als tekst data, of beide.\n",
    "\n",
    "Aan het einde van het notebook gaan wij reflecteren op de manier(en) die het beste resultaat heeft geleverd voor ons vraagstuk. Hier zal worden gekeken naar het model, maar ook wat de reden zou kunnen zijn dat het model beter werkt dan de andere."
   ]
  },
  {
   "cell_type": "markdown",
   "id": "3494cb4d",
   "metadata": {},
   "source": [
    "[Back to the top](#start)\n",
    "<a name='2.0'></a>\n",
    "\n",
    "<div style=\"background-color:#216375; text-align:center; vertical-align:middle; padding:10px 0; margin-top:5px; margin-bottom:5px\">\n",
    "        <h2 style=\"color:white\"><strong>H2: EDA</strong></h2>\n",
    "</div>"
   ]
  },
  {
   "cell_type": "markdown",
   "id": "260a399f",
   "metadata": {},
   "source": [
    "<a name='2.1'></a>\n",
    "<h3>&sect;2.1: Audio fragmenten</h3>"
   ]
  },
  {
   "cell_type": "code",
   "execution_count": 3,
   "id": "a82cfefe",
   "metadata": {},
   "outputs": [
    {
     "name": "stdout",
     "output_type": "stream",
     "text": [
      "Found 537 files belonging to 8 classes.\n",
      "Using 430 files for training.\n",
      "Using 107 files for validation.\n",
      "\n",
      "label names: ['blues' 'country' 'disco' 'hiphop' 'metal' 'pop' 'reggae' 'rock']\n"
     ]
    }
   ],
   "source": [
    "base_dir = \"Train\"\n",
    "\n",
    "data_dir = pathlib.Path(base_dir)\n",
    "\n",
    "train_ds, val_ds = tf.keras.utils.audio_dataset_from_directory(\n",
    "    directory=data_dir,\n",
    "    batch_size=4,\n",
    "    validation_split=0.2,\n",
    "    seed=0,\n",
    "    output_sequence_length=30*22050,\n",
    "    subset='both')\n",
    "\n",
    "label_names = np.array(train_ds.class_names)\n",
    "print()\n",
    "print(\"label names:\", label_names)"
   ]
  },
  {
   "cell_type": "code",
   "execution_count": 4,
   "id": "34ea0374",
   "metadata": {},
   "outputs": [],
   "source": [
    "test_ds = val_ds.shard(num_shards=2, index=0)\n",
    "val_ds = val_ds.shard(num_shards=2, index=1)"
   ]
  },
  {
   "cell_type": "code",
   "execution_count": 5,
   "id": "950ed77b",
   "metadata": {},
   "outputs": [
    {
     "name": "stdout",
     "output_type": "stream",
     "text": [
      "Test dataset created with 129 samples.\n"
     ]
    }
   ],
   "source": [
    "base_dir = \"Test\"\n",
    "data_dir_test = pathlib.Path(base_dir)\n",
    "file_paths = [str(path) for path in data_dir_test.glob(\"*.wav\")]\n",
    "\n",
    "test = tf.data.Dataset.from_tensor_slices(file_paths)\n",
    "test = test.map(lambda x: (x,))\n",
    "\n",
    "batch_size = 4\n",
    "test = test.batch(batch_size)\n",
    "print(\"Test dataset created with {} samples.\".format(len(file_paths)))"
   ]
  },
  {
   "cell_type": "code",
   "execution_count": 6,
   "id": "2dd27969",
   "metadata": {},
   "outputs": [
    {
     "data": {
      "text/plain": [
       "(TensorSpec(shape=(None, 661500, None), dtype=tf.float32, name=None),\n",
       " TensorSpec(shape=(None,), dtype=tf.int32, name=None))"
      ]
     },
     "execution_count": 6,
     "metadata": {},
     "output_type": "execute_result"
    }
   ],
   "source": [
    "train_ds.element_spec"
   ]
  },
  {
   "cell_type": "code",
   "execution_count": 7,
   "id": "53706b62",
   "metadata": {},
   "outputs": [],
   "source": [
    "def squeeze(audio, labels):\n",
    "    audio = tf.squeeze(audio, axis=-1)\n",
    "    return audio, labels\n",
    "\n",
    "train_ds = train_ds.map(squeeze, tf.data.AUTOTUNE)\n",
    "val_ds = val_ds.map(squeeze, tf.data.AUTOTUNE)"
   ]
  },
  {
   "cell_type": "code",
   "execution_count": 8,
   "id": "04e55f61",
   "metadata": {},
   "outputs": [
    {
     "name": "stdout",
     "output_type": "stream",
     "text": [
      "(4, 661500)\n",
      "(4,)\n"
     ]
    }
   ],
   "source": [
    "for example_audio, example_labels in train_ds.take(1):\n",
    "    print(example_audio.shape)\n",
    "    print(example_labels.shape)"
   ]
  },
  {
   "cell_type": "code",
   "execution_count": 9,
   "id": "54b87785",
   "metadata": {},
   "outputs": [],
   "source": [
    "train_ds = train_ds.cache().shuffle(10).prefetch(tf.data.AUTOTUNE)\n",
    "val_ds = val_ds.cache().prefetch(tf.data.AUTOTUNE)\n",
    "test_ds = test_ds.cache().prefetch(tf.data.AUTOTUNE)"
   ]
  },
  {
   "cell_type": "markdown",
   "id": "0b5298c0",
   "metadata": {},
   "source": [
    "Nu alle data is ingeladen willen we voor ieder genre een liedje laten horen. Dat doen we hier onder met een zelf gedefinieerde code die het eerste nummer pakt uit de map van het genre en hier het nummer klaar zet met een playbutton. Bij ieder lied staat de naam van het genre en de lengte van het fragment weergegeven. Ieder lied kan afgespeeld worden door op de playbutton te drukken."
   ]
  },
  {
   "cell_type": "code",
   "execution_count": 10,
   "id": "efbd2f98",
   "metadata": {},
   "outputs": [
    {
     "data": {
      "text/html": [
       "<p>Genre: blues</p><p>Audio Length: 30.013333333333332 seconds</p><audio controls><source src=\"Train\\blues\\blues.00001.wav\" type=\"audio/wav\"></audio><p>Genre: country</p><p>Audio Length: 30.011791383219954 seconds</p><audio controls><source src=\"Train\\country\\country.00001.wav\" type=\"audio/wav\"></audio><p>Genre: disco</p><p>Audio Length: 30.013333333333332 seconds</p><audio controls><source src=\"Train\\disco\\disco.00002.wav\" type=\"audio/wav\"></audio><p>Genre: hiphop</p><p>Audio Length: 30.00018140589569 seconds</p><audio controls><source src=\"Train\\hiphop\\hiphop.00001.wav\" type=\"audio/wav\"></audio><p>Genre: metal</p><p>Audio Length: 30.00018140589569 seconds</p><audio controls><source src=\"Train\\metal\\metal.00000.wav\" type=\"audio/wav\"></audio><p>Genre: pop</p><p>Audio Length: 30.00018140589569 seconds</p><audio controls><source src=\"Train\\pop\\pop.00000.wav\" type=\"audio/wav\"></audio><p>Genre: reggae</p><p>Audio Length: 30.013333333333332 seconds</p><audio controls><source src=\"Train\\reggae\\reggae.00000.wav\" type=\"audio/wav\"></audio><p>Genre: rock</p><p>Audio Length: 30.013333333333332 seconds</p><audio controls><source src=\"Train\\rock\\rock.00000.wav\" type=\"audio/wav\"></audio>"
      ],
      "text/plain": [
       "<IPython.core.display.HTML object>"
      ]
     },
     "metadata": {},
     "output_type": "display_data"
    }
   ],
   "source": [
    "def get_first_audio_per_class(class_dir):\n",
    "    class_audio_paths = []\n",
    "    for label in os.listdir(class_dir):\n",
    "        class_path = class_dir / label\n",
    "        class_audio_files = list(class_path.glob('*.wav'))\n",
    "        if class_audio_files:\n",
    "            class_audio_paths.append((label, class_audio_files[0]))\n",
    "    return class_audio_paths\n",
    "\n",
    "# Getting the first audio file from each class\n",
    "first_audio_per_class = get_first_audio_per_class(data_dir)\n",
    "\n",
    "html_code = \"\"\n",
    "for genre, audio_path in first_audio_per_class:\n",
    "    audio_length = sf.info(audio_path).duration\n",
    "    html_code += f'<p>Genre: {genre}</p>'\n",
    "    html_code += f'<p>Audio Length: {audio_length} seconds</p>'\n",
    "    html_code += f'<audio controls><source src=\"{audio_path}\" type=\"audio/wav\"></audio>'\n",
    "\n",
    "# Display the HTML code\n",
    "ipd.display(ipd.HTML(html_code))"
   ]
  },
  {
   "cell_type": "markdown",
   "id": "6611b5cf",
   "metadata": {},
   "source": [
    "<a name='2.2'></a>\n",
    "<h3>&sect;2.2: Eigenschappen audio fragmenten</h3>"
   ]
  },
  {
   "cell_type": "markdown",
   "id": "c81dbd8d",
   "metadata": {},
   "source": [
    "Alle audio fragmenten zijn ongeveer 30 seconde."
   ]
  },
  {
   "cell_type": "markdown",
   "id": "88554a64",
   "metadata": {},
   "source": [
    "<a name='2.3'></a>\n",
    "<h3>&sect;2.3: Songteksten</h3>"
   ]
  },
  {
   "cell_type": "code",
   "execution_count": 11,
   "id": "fbf42b17",
   "metadata": {
    "scrolled": false
   },
   "outputs": [
    {
     "data": {
      "text/html": [
       "<div>\n",
       "<style scoped>\n",
       "    .dataframe tbody tr th:only-of-type {\n",
       "        vertical-align: middle;\n",
       "    }\n",
       "\n",
       "    .dataframe tbody tr th {\n",
       "        vertical-align: top;\n",
       "    }\n",
       "\n",
       "    .dataframe thead th {\n",
       "        text-align: right;\n",
       "    }\n",
       "</style>\n",
       "<table border=\"1\" class=\"dataframe\">\n",
       "  <thead>\n",
       "    <tr style=\"text-align: right;\">\n",
       "      <th></th>\n",
       "      <th>filename</th>\n",
       "      <th>lyrics</th>\n",
       "      <th>genre</th>\n",
       "    </tr>\n",
       "  </thead>\n",
       "  <tbody>\n",
       "    <tr>\n",
       "      <th>0</th>\n",
       "      <td>blues.00001.wav</td>\n",
       "      <td>I’m in the Mood Lyrics[Verse 1]\\r\\nI'm in the ...</td>\n",
       "      <td>blues</td>\n",
       "    </tr>\n",
       "    <tr>\n",
       "      <th>1</th>\n",
       "      <td>blues.00002.wav</td>\n",
       "      <td>(John Lee Hooker)\\r\\nThink twice before you go...</td>\n",
       "      <td>blues</td>\n",
       "    </tr>\n",
       "    <tr>\n",
       "      <th>2</th>\n",
       "      <td>blues.00003.wav</td>\n",
       "      <td>[Intro, Spoken]\\r\\n...A little thing I'm going...</td>\n",
       "      <td>blues</td>\n",
       "    </tr>\n",
       "    <tr>\n",
       "      <th>3</th>\n",
       "      <td>blues.00005.wav</td>\n",
       "      <td>Sugar mama, sugar mama, sugar mama please come...</td>\n",
       "      <td>blues</td>\n",
       "    </tr>\n",
       "    <tr>\n",
       "      <th>4</th>\n",
       "      <td>blues.00006.wav</td>\n",
       "      <td>My baby left me this morning\\r\\nPeople just ar...</td>\n",
       "      <td>blues</td>\n",
       "    </tr>\n",
       "    <tr>\n",
       "      <th>...</th>\n",
       "      <td>...</td>\n",
       "      <td>...</td>\n",
       "      <td>...</td>\n",
       "    </tr>\n",
       "    <tr>\n",
       "      <th>532</th>\n",
       "      <td>rock.00094.wav</td>\n",
       "      <td>[Chorus]\\r\\nDon’t stop\\r\\nIsn’t it funny how y...</td>\n",
       "      <td>rock</td>\n",
       "    </tr>\n",
       "    <tr>\n",
       "      <th>533</th>\n",
       "      <td>rock.00096.wav</td>\n",
       "      <td>[Verse 1]\\r\\nHer hair, soft drifted snow\\r\\nDe...</td>\n",
       "      <td>rock</td>\n",
       "    </tr>\n",
       "    <tr>\n",
       "      <th>534</th>\n",
       "      <td>rock.00097.wav</td>\n",
       "      <td>[Verse 1]\\r\\nYour knuckles whiten on the wheel...</td>\n",
       "      <td>rock</td>\n",
       "    </tr>\n",
       "    <tr>\n",
       "      <th>535</th>\n",
       "      <td>rock.00098.wav</td>\n",
       "      <td>[Verse 1]\\r\\nYou know it\\r\\nYou show it\\r\\nAnd...</td>\n",
       "      <td>rock</td>\n",
       "    </tr>\n",
       "    <tr>\n",
       "      <th>536</th>\n",
       "      <td>rock.00099.wav</td>\n",
       "      <td>[Verse 1]\\r\\nA girl consumed by fire\\r\\nWe all...</td>\n",
       "      <td>rock</td>\n",
       "    </tr>\n",
       "  </tbody>\n",
       "</table>\n",
       "<p>537 rows × 3 columns</p>\n",
       "</div>"
      ],
      "text/plain": [
       "            filename                                             lyrics  genre\n",
       "0    blues.00001.wav  I’m in the Mood Lyrics[Verse 1]\\r\\nI'm in the ...  blues\n",
       "1    blues.00002.wav  (John Lee Hooker)\\r\\nThink twice before you go...  blues\n",
       "2    blues.00003.wav  [Intro, Spoken]\\r\\n...A little thing I'm going...  blues\n",
       "3    blues.00005.wav  Sugar mama, sugar mama, sugar mama please come...  blues\n",
       "4    blues.00006.wav  My baby left me this morning\\r\\nPeople just ar...  blues\n",
       "..               ...                                                ...    ...\n",
       "532   rock.00094.wav  [Chorus]\\r\\nDon’t stop\\r\\nIsn’t it funny how y...   rock\n",
       "533   rock.00096.wav  [Verse 1]\\r\\nHer hair, soft drifted snow\\r\\nDe...   rock\n",
       "534   rock.00097.wav  [Verse 1]\\r\\nYour knuckles whiten on the wheel...   rock\n",
       "535   rock.00098.wav  [Verse 1]\\r\\nYou know it\\r\\nYou show it\\r\\nAnd...   rock\n",
       "536   rock.00099.wav  [Verse 1]\\r\\nA girl consumed by fire\\r\\nWe all...   rock\n",
       "\n",
       "[537 rows x 3 columns]"
      ]
     },
     "execution_count": 11,
     "metadata": {},
     "output_type": "execute_result"
    }
   ],
   "source": [
    "tekst = pd.read_csv(\"train.csv\")\n",
    "tekst"
   ]
  },
  {
   "cell_type": "markdown",
   "id": "d4cac635",
   "metadata": {},
   "source": [
    "De kolommen bevatten het volgende:\n",
    "- filename: De bestandsnaam wat koppelt aan de bestanden die aan de audio's verbonden zijn. LET OP: Bij de train dataset staan de genres in de naam van de bestanden, bij de audiobestanden staat in de plek van de genres het woord \"train\".\n",
    "- lyrics: De songtekst die verbonden is aan het lied uit filename\n",
    "- genre: Het genre van het lied die verbonden is aan het lied uit de filename"
   ]
  },
  {
   "cell_type": "code",
   "execution_count": 12,
   "id": "3fa270fa",
   "metadata": {},
   "outputs": [
    {
     "data": {
      "text/plain": [
       "filename    0\n",
       "lyrics      0\n",
       "genre       0\n",
       "dtype: int64"
      ]
     },
     "execution_count": 12,
     "metadata": {},
     "output_type": "execute_result"
    }
   ],
   "source": [
    "tekst.isna().sum()"
   ]
  },
  {
   "cell_type": "markdown",
   "id": "bd85d751",
   "metadata": {},
   "source": [
    "Er zijn geen missende waardes in de dataset."
   ]
  },
  {
   "cell_type": "code",
   "execution_count": 13,
   "id": "b34ad24f",
   "metadata": {},
   "outputs": [
    {
     "data": {
      "text/plain": [
       "genre\n",
       "rock       79\n",
       "hiphop     73\n",
       "pop        73\n",
       "country    72\n",
       "disco      68\n",
       "metal      64\n",
       "reggae     64\n",
       "blues      44\n",
       "Name: count, dtype: int64"
      ]
     },
     "execution_count": 13,
     "metadata": {},
     "output_type": "execute_result"
    }
   ],
   "source": [
    "tekst[\"genre\"].value_counts()"
   ]
  },
  {
   "cell_type": "markdown",
   "id": "0987ef8d",
   "metadata": {},
   "source": [
    "In de dataset zitten in totaal 8 genres, waarvan de data niet helemaal goed is verdeeld. Zo zie je dat de genres rock, hiphop, pop en country ongeveer even veel liedjes heeft van ronde de 75. Het genre blues heeft echter maar 44 liedjes, dat is minder dan de helft, dus hopelijk zal dit niet voor problemen zorgen tijdens het trainen van de modelen."
   ]
  },
  {
   "cell_type": "code",
   "execution_count": 14,
   "id": "26fcbe60",
   "metadata": {},
   "outputs": [
    {
     "data": {
      "image/png": "[encoded data removed]",
      "text/plain": [
       "<Figure size 1000x600 with 1 Axes>"
      ]
     },
     "metadata": {},
     "output_type": "display_data"
    }
   ],
   "source": [
    "genres = tekst[\"genre\"].value_counts().index\n",
    "aantallen = tekst[\"genre\"].value_counts().values\n",
    "\n",
    "plt.figure(figsize=(10, 6))\n",
    "plt.bar(genres, aantallen, color='skyblue')\n",
    "plt.title('Aantal teksten per genre')\n",
    "plt.xlabel('Genre')\n",
    "plt.ylabel('Aantal teksten')\n",
    "plt.xticks(rotation=45, ha='right')\n",
    "plt.tight_layout()\n",
    "plt.show()"
   ]
  },
  {
   "cell_type": "code",
   "execution_count": 15,
   "id": "fb54e7ba",
   "metadata": {},
   "outputs": [
    {
     "data": {
      "text/plain": [
       "0      I’m in the Mood Lyrics[Verse 1]\\r\\nI'm in the ...\n",
       "1      (John Lee Hooker)\\r\\nThink twice before you go...\n",
       "2      [Intro, Spoken]\\r\\n...A little thing I'm going...\n",
       "3      Sugar mama, sugar mama, sugar mama please come...\n",
       "4      My baby left me this morning\\r\\nPeople just ar...\n",
       "                             ...                        \n",
       "532    [Chorus]\\r\\nDon’t stop\\r\\nIsn’t it funny how y...\n",
       "533    [Verse 1]\\r\\nHer hair, soft drifted snow\\r\\nDe...\n",
       "534    [Verse 1]\\r\\nYour knuckles whiten on the wheel...\n",
       "535    [Verse 1]\\r\\nYou know it\\r\\nYou show it\\r\\nAnd...\n",
       "536    [Verse 1]\\r\\nA girl consumed by fire\\r\\nWe all...\n",
       "Name: lyrics, Length: 537, dtype: object"
      ]
     },
     "execution_count": 15,
     "metadata": {},
     "output_type": "execute_result"
    }
   ],
   "source": [
    "tekst[\"lyrics\"]"
   ]
  },
  {
   "cell_type": "code",
   "execution_count": 16,
   "id": "3d7aa7d9",
   "metadata": {},
   "outputs": [
    {
     "data": {
      "text/html": [
       "<div>\n",
       "<style scoped>\n",
       "    .dataframe tbody tr th:only-of-type {\n",
       "        vertical-align: middle;\n",
       "    }\n",
       "\n",
       "    .dataframe tbody tr th {\n",
       "        vertical-align: top;\n",
       "    }\n",
       "\n",
       "    .dataframe thead th {\n",
       "        text-align: right;\n",
       "    }\n",
       "</style>\n",
       "<table border=\"1\" class=\"dataframe\">\n",
       "  <thead>\n",
       "    <tr style=\"text-align: right;\">\n",
       "      <th></th>\n",
       "      <th>filename</th>\n",
       "      <th>lyrics</th>\n",
       "      <th>genre</th>\n",
       "      <th>lyrics_length</th>\n",
       "    </tr>\n",
       "  </thead>\n",
       "  <tbody>\n",
       "    <tr>\n",
       "      <th>0</th>\n",
       "      <td>blues.00001.wav</td>\n",
       "      <td>I’m in the Mood Lyrics[Verse 1]\\r\\nI'm in the ...</td>\n",
       "      <td>blues</td>\n",
       "      <td>726</td>\n",
       "    </tr>\n",
       "    <tr>\n",
       "      <th>1</th>\n",
       "      <td>blues.00002.wav</td>\n",
       "      <td>(John Lee Hooker)\\r\\nThink twice before you go...</td>\n",
       "      <td>blues</td>\n",
       "      <td>773</td>\n",
       "    </tr>\n",
       "    <tr>\n",
       "      <th>2</th>\n",
       "      <td>blues.00003.wav</td>\n",
       "      <td>[Intro, Spoken]\\r\\n...A little thing I'm going...</td>\n",
       "      <td>blues</td>\n",
       "      <td>1521</td>\n",
       "    </tr>\n",
       "    <tr>\n",
       "      <th>3</th>\n",
       "      <td>blues.00005.wav</td>\n",
       "      <td>Sugar mama, sugar mama, sugar mama please come...</td>\n",
       "      <td>blues</td>\n",
       "      <td>1344</td>\n",
       "    </tr>\n",
       "    <tr>\n",
       "      <th>4</th>\n",
       "      <td>blues.00006.wav</td>\n",
       "      <td>My baby left me this morning\\r\\nPeople just ar...</td>\n",
       "      <td>blues</td>\n",
       "      <td>737</td>\n",
       "    </tr>\n",
       "    <tr>\n",
       "      <th>...</th>\n",
       "      <td>...</td>\n",
       "      <td>...</td>\n",
       "      <td>...</td>\n",
       "      <td>...</td>\n",
       "    </tr>\n",
       "    <tr>\n",
       "      <th>532</th>\n",
       "      <td>rock.00094.wav</td>\n",
       "      <td>[Chorus]\\r\\nDon’t stop\\r\\nIsn’t it funny how y...</td>\n",
       "      <td>rock</td>\n",
       "      <td>835</td>\n",
       "    </tr>\n",
       "    <tr>\n",
       "      <th>533</th>\n",
       "      <td>rock.00096.wav</td>\n",
       "      <td>[Verse 1]\\r\\nHer hair, soft drifted snow\\r\\nDe...</td>\n",
       "      <td>rock</td>\n",
       "      <td>1194</td>\n",
       "    </tr>\n",
       "    <tr>\n",
       "      <th>534</th>\n",
       "      <td>rock.00097.wav</td>\n",
       "      <td>[Verse 1]\\r\\nYour knuckles whiten on the wheel...</td>\n",
       "      <td>rock</td>\n",
       "      <td>1259</td>\n",
       "    </tr>\n",
       "    <tr>\n",
       "      <th>535</th>\n",
       "      <td>rock.00098.wav</td>\n",
       "      <td>[Verse 1]\\r\\nYou know it\\r\\nYou show it\\r\\nAnd...</td>\n",
       "      <td>rock</td>\n",
       "      <td>1046</td>\n",
       "    </tr>\n",
       "    <tr>\n",
       "      <th>536</th>\n",
       "      <td>rock.00099.wav</td>\n",
       "      <td>[Verse 1]\\r\\nA girl consumed by fire\\r\\nWe all...</td>\n",
       "      <td>rock</td>\n",
       "      <td>1514</td>\n",
       "    </tr>\n",
       "  </tbody>\n",
       "</table>\n",
       "<p>537 rows × 4 columns</p>\n",
       "</div>"
      ],
      "text/plain": [
       "            filename                                             lyrics  \\\n",
       "0    blues.00001.wav  I’m in the Mood Lyrics[Verse 1]\\r\\nI'm in the ...   \n",
       "1    blues.00002.wav  (John Lee Hooker)\\r\\nThink twice before you go...   \n",
       "2    blues.00003.wav  [Intro, Spoken]\\r\\n...A little thing I'm going...   \n",
       "3    blues.00005.wav  Sugar mama, sugar mama, sugar mama please come...   \n",
       "4    blues.00006.wav  My baby left me this morning\\r\\nPeople just ar...   \n",
       "..               ...                                                ...   \n",
       "532   rock.00094.wav  [Chorus]\\r\\nDon’t stop\\r\\nIsn’t it funny how y...   \n",
       "533   rock.00096.wav  [Verse 1]\\r\\nHer hair, soft drifted snow\\r\\nDe...   \n",
       "534   rock.00097.wav  [Verse 1]\\r\\nYour knuckles whiten on the wheel...   \n",
       "535   rock.00098.wav  [Verse 1]\\r\\nYou know it\\r\\nYou show it\\r\\nAnd...   \n",
       "536   rock.00099.wav  [Verse 1]\\r\\nA girl consumed by fire\\r\\nWe all...   \n",
       "\n",
       "     genre  lyrics_length  \n",
       "0    blues            726  \n",
       "1    blues            773  \n",
       "2    blues           1521  \n",
       "3    blues           1344  \n",
       "4    blues            737  \n",
       "..     ...            ...  \n",
       "532   rock            835  \n",
       "533   rock           1194  \n",
       "534   rock           1259  \n",
       "535   rock           1046  \n",
       "536   rock           1514  \n",
       "\n",
       "[537 rows x 4 columns]"
      ]
     },
     "execution_count": 16,
     "metadata": {},
     "output_type": "execute_result"
    }
   ],
   "source": [
    "tekst['lyrics_length'] = tekst['lyrics'].apply(lambda x: sum(len(line) for line in x))\n",
    "tekst"
   ]
  },
  {
   "cell_type": "code",
   "execution_count": 17,
   "id": "3828f72b",
   "metadata": {},
   "outputs": [
    {
     "data": {
      "text/plain": [
       "genre\n",
       "blues       921.795455\n",
       "country    2217.388889\n",
       "disco      2785.279412\n",
       "hiphop     4774.054795\n",
       "metal      4526.562500\n",
       "pop        2388.835616\n",
       "reggae     1694.062500\n",
       "rock       1322.341772\n",
       "Name: lyrics_length, dtype: float64"
      ]
     },
     "execution_count": 17,
     "metadata": {},
     "output_type": "execute_result"
    }
   ],
   "source": [
    "tekst_lens = tekst.groupby(\"genre\")[\"lyrics_length\"].mean()\n",
    "tekst_lens"
   ]
  },
  {
   "cell_type": "code",
   "execution_count": 18,
   "id": "5d875b20",
   "metadata": {},
   "outputs": [
    {
     "data": {
      "image/png": "[encoded data removed]",
      "text/plain": [
       "<Figure size 1000x600 with 1 Axes>"
      ]
     },
     "metadata": {},
     "output_type": "display_data"
    }
   ],
   "source": [
    "sorted_df = tekst_lens.sort_values(ascending=False)\n",
    "\n",
    "plt.figure(figsize=(10, 6))\n",
    "plt.bar(sorted_df.index, sorted_df.values, color='skyblue')\n",
    "plt.title('Length of Texts by Genre')\n",
    "plt.xlabel('Genre')\n",
    "plt.ylabel('Length')\n",
    "plt.xticks(rotation=45, ha='right')\n",
    "plt.tight_layout()\n",
    "plt.show()"
   ]
  },
  {
   "cell_type": "markdown",
   "id": "ab675e59",
   "metadata": {},
   "source": [
    "Wanneer er gekeken wordt naar de gemiddelde lengtes van de teksten per genre valt het meteen op dat er een stuk meer tekst zit in liedjes met het genre hiphop en pop dan in liedjes als reggae, rock en blues. Het is goed om te zien dat hier zo'n groot verschil in zit, omdat dit hoop geeft op de voorspellingen die uiteindelijk gemaakt moeten worden."
   ]
  },
  {
   "cell_type": "markdown",
   "id": "a212ccc3",
   "metadata": {},
   "source": [
    "<a name='2.4'></a>\n",
    "<h3>&sect;2.4: Conclusie EDA</h3>"
   ]
  },
  {
   "cell_type": "markdown",
   "id": "5b7458f8",
   "metadata": {},
   "source": [
    "[Back to the top](#start)\n",
    "<a name='3.0'></a>\n",
    "\n",
    "<div style=\"background-color:#216375; text-align:center; vertical-align:middle; padding:10px 0; margin-top:5px; margin-bottom:5px\">\n",
    "        <h2 style=\"color:white\"><strong>H3: LSTM voor audioclips</strong></h2>\n",
    "</div>"
   ]
  },
  {
   "cell_type": "markdown",
   "id": "fcad5a30",
   "metadata": {},
   "source": [
    "<a name='3.1'></a>\n",
    "<h3>&sect;3.1: Het model</h3>"
   ]
  },
  {
   "cell_type": "code",
   "execution_count": 19,
   "id": "f018200d",
   "metadata": {},
   "outputs": [
    {
     "name": "stdout",
     "output_type": "stream",
     "text": [
      "Shape of an audio sample: (661500,)\n"
     ]
    }
   ],
   "source": [
    "for audio_batch, label_batch in train_ds.take(1):\n",
    "    print(\"Shape of an audio sample:\", audio_batch[0].shape)"
   ]
  },
  {
   "cell_type": "code",
   "execution_count": 20,
   "id": "e09b1e34",
   "metadata": {},
   "outputs": [],
   "source": [
    "from tensorflow.keras.layers import Normalization, Reshape\n",
    "\n",
    "norm_layer = Normalization()\n",
    "# Fit the state of the layer to the spectrograms\n",
    "# with `Normalization.adapt`.\n",
    "norm_layer.adapt(data=train_ds.map(map_func=lambda audio, label: audio))\n",
    "\n",
    "lstm_model = keras.Sequential()\n",
    "lstm_model.add(norm_layer)\n",
    "lstm_model.add(Reshape((661500, 1)))\n",
    "lstm_model.add(LSTM(128))\n",
    "lstm_model.add(Dropout(0.2))\n",
    "lstm_model.add(Dense(128, activation='relu'))\n",
    "lstm_model.add(Dense(64, activation='relu'))\n",
    "lstm_model.add(Dropout(0.4))\n",
    "lstm_model.add(Dense(48, activation='relu'))\n",
    "lstm_model.add(Dropout(0.4))\n",
    "lstm_model.add(Dense(8, activation='softmax'))"
   ]
  },
  {
   "cell_type": "code",
   "execution_count": 21,
   "id": "9617a103",
   "metadata": {},
   "outputs": [],
   "source": [
    "def get_spectrogram(waveform):\n",
    "    # Convert the waveform to a spectrogram via a STFT.\n",
    "    spectrogram = tf.signal.stft(waveform, frame_length=512, frame_step=256)\n",
    "\n",
    "    # Obtain the magnitude of the STFT (use tf.abs).\n",
    "    spectrogram = tf.abs(spectrogram)\n",
    "\n",
    "    # Add a `channels` dimension, so that the spectrogram can be used\n",
    "    # as image-like input data with convolution layers (which expect\n",
    "    # shape (`batch_size`, `height`, `width`, `channels`).\n",
    "    spectrogram = spectrogram[..., tf.newaxis]\n",
    "\n",
    "    return spectrogram"
   ]
  },
  {
   "cell_type": "code",
   "execution_count": 22,
   "id": "95ac8261",
   "metadata": {},
   "outputs": [],
   "source": [
    "def make_spec_ds(ds):\n",
    "    return ds.map(\n",
    "      map_func=lambda audio,label: (get_spectrogram(audio), label),\n",
    "      num_parallel_calls=tf.data.AUTOTUNE)"
   ]
  },
  {
   "cell_type": "code",
   "execution_count": 23,
   "id": "681d59f3",
   "metadata": {},
   "outputs": [],
   "source": [
    "train_spectrogram_ds = make_spec_ds(train_ds)\n",
    "val_spectrogram_ds = make_spec_ds(val_ds)\n",
    "test_spectrogram_ds = make_spec_ds(test_ds)"
   ]
  },
  {
   "cell_type": "code",
   "execution_count": 24,
   "id": "f6b63ec3",
   "metadata": {},
   "outputs": [],
   "source": [
    "for example_spectrograms, example_spect_labels in train_spectrogram_ds.take(1):\n",
    "    break"
   ]
  },
  {
   "cell_type": "code",
   "execution_count": 25,
   "id": "97daac69",
   "metadata": {},
   "outputs": [
    {
     "data": {
      "text/plain": [
       "<tf.Tensor: shape=(4,), dtype=int32, numpy=array([3, 5, 4, 6])>"
      ]
     },
     "execution_count": 25,
     "metadata": {},
     "output_type": "execute_result"
    }
   ],
   "source": [
    "example_spect_labels"
   ]
  },
  {
   "cell_type": "code",
   "execution_count": 26,
   "id": "351eeabf",
   "metadata": {},
   "outputs": [],
   "source": [
    "train_spectrogram_ds =train_spectrogram_ds.cache().prefetch(buffer_size=tf.data.AUTOTUNE)\n",
    "val_spectrogram_ds = val_spectrogram_ds.cache().prefetch(buffer_size=tf.data.AUTOTUNE)\n",
    "test_spectrogram_ds = test_spectrogram_ds.cache().prefetch(buffer_size=tf.data.AUTOTUNE)"
   ]
  },
  {
   "cell_type": "code",
   "execution_count": 27,
   "id": "2c92ca06",
   "metadata": {},
   "outputs": [
    {
     "name": "stdout",
     "output_type": "stream",
     "text": [
      "Input shape: (2582, 257, 1)\n"
     ]
    }
   ],
   "source": [
    "from tensorflow.keras.layers import Conv2D, MaxPooling2D, Flatten\n",
    "input_shape = example_spectrograms.shape[1:]\n",
    "print('Input shape:', input_shape)\n",
    "num_labels = len(label_names)\n",
    "\n",
    "# Instantiate the `tf.keras.layers.Normalization` layer.\n",
    "norm_layer = layers.Normalization()\n",
    "# Fit the state of the layer to the spectrograms\n",
    "# with `Normalization.adapt`.\n",
    "norm_layer.adapt(data=train_spectrogram_ds.map(map_func=lambda spec, label: spec))\n",
    "\n",
    "model_spect = models.Sequential([\n",
    "    layers.Input(shape=input_shape),\n",
    "    # Downsample the input.\n",
    "    layers.Resizing(64, 64),\n",
    "    # Normalize.\n",
    "    norm_layer,\n",
    "    Conv2D(16, activation=\"relu\", kernel_size=3),\n",
    "    MaxPooling2D(),\n",
    "    Conv2D(32, activation=\"relu\", kernel_size=3),\n",
    "    MaxPooling2D(),\n",
    "    Conv2D(64, activation=\"relu\", kernel_size=3),\n",
    "    MaxPooling2D(),\n",
    "    Flatten(),\n",
    "    Dense(128, activation=\"relu\"),\n",
    "    Dense(1, activation=\"sigmoid\")\n",
    "])"
   ]
  },
  {
   "cell_type": "code",
   "execution_count": 28,
   "id": "62b4e48b",
   "metadata": {},
   "outputs": [],
   "source": [
    "def spectrogram_to_mfcc(spectrograms, num_mel_bins=128, num_coefficients=13, sample_rate=16000):\n",
    "    \"\"\"\n",
    "    Convert a batch of spectrograms to a batch of 1D time series of MFCCs.\n",
    "\n",
    "    Parameters:\n",
    "    - spectrograms: A TensorFlow Tensor representing a batch of spectrograms with shape (batch_size, 311, 257, 1).\n",
    "    - num_mel_bins: Number of Mel bins to use.\n",
    "    - num_coefficients: Number of MFCC coefficients to return.\n",
    "    - sample_rate: Sample rate of the audio.\n",
    "\n",
    "    Returns:\n",
    "    - A TensorFlow Tensor containing the MFCCs with shape (batch_size, num_frames, num_coefficients).\n",
    "    \"\"\"\n",
    "    # Remove the last dimension (channel dimension, if it's 1)\n",
    "    spectrograms = tf.squeeze(spectrograms, axis=-1)\n",
    "\n",
    "    # Compute Mel spectrograms\n",
    "    stfts_to_mel_matrix = tf.signal.linear_to_mel_weight_matrix(\n",
    "        num_mel_bins=num_mel_bins,\n",
    "        num_spectrogram_bins=spectrograms.shape[-1],\n",
    "        sample_rate=sample_rate,\n",
    "        lower_edge_hertz=20.0,\n",
    "        upper_edge_hertz=sample_rate / 2)\n",
    "    mel_spectrograms = tf.tensordot(spectrograms, stfts_to_mel_matrix, 1)\n",
    "    # Shape tuning for the mel spectrograms as expected\n",
    "    mel_spectrograms.set_shape(spectrograms.shape[:-1] + (num_mel_bins,))\n",
    "\n",
    "    # Logarithmic scaling\n",
    "    log_mel_spectrograms = tf.math.log(mel_spectrograms + 1e-6)\n",
    "\n",
    "    # Compute MFCCs\n",
    "    mfccs = tf.signal.mfccs_from_log_mel_spectrograms(log_mel_spectrograms)[..., :num_coefficients]\n",
    "\n",
    "    return mfccs"
   ]
  },
  {
   "cell_type": "code",
   "execution_count": 29,
   "id": "a7b447e2",
   "metadata": {},
   "outputs": [],
   "source": [
    "def make_MFCC_ds(ds):\n",
    "    return ds.map(\n",
    "      map_func=lambda spectrogram,label: (spectrogram_to_mfcc(spectrogram), label),\n",
    "      num_parallel_calls=tf.data.AUTOTUNE)"
   ]
  },
  {
   "cell_type": "code",
   "execution_count": 30,
   "id": "d0a037fe",
   "metadata": {},
   "outputs": [],
   "source": [
    "train_MFCC_ds = make_MFCC_ds(train_spectrogram_ds)\n",
    "val_MFCC_ds = make_MFCC_ds(val_spectrogram_ds)\n",
    "test_MFCC_ds = make_MFCC_ds(test_spectrogram_ds)"
   ]
  },
  {
   "cell_type": "code",
   "execution_count": 31,
   "id": "da959260",
   "metadata": {},
   "outputs": [],
   "source": [
    "for example_MFCC, example_MFCC_labels in train_MFCC_ds.take(1):\n",
    "    break"
   ]
  },
  {
   "cell_type": "code",
   "execution_count": 32,
   "id": "d2da0ed8",
   "metadata": {},
   "outputs": [],
   "source": [
    "train_MFCC_ds = train_MFCC_ds.cache().prefetch(buffer_size=tf.data.AUTOTUNE)\n",
    "val_MFCC_ds = val_MFCC_ds.cache().prefetch(buffer_size=tf.data.AUTOTUNE)\n",
    "test_MFCC_ds = test_MFCC_ds.cache().prefetch(buffer_size=tf.data.AUTOTUNE)"
   ]
  },
  {
   "cell_type": "code",
   "execution_count": 33,
   "id": "3c16d015",
   "metadata": {},
   "outputs": [
    {
     "name": "stdout",
     "output_type": "stream",
     "text": [
      "Model: \"sequential_2\"\n",
      "_________________________________________________________________\n",
      " Layer (type)                Output Shape              Param #   \n",
      "=================================================================\n",
      " bidirectional (Bidirectiona  (None, 2582, 128)        39936     \n",
      " l)                                                              \n",
      "                                                                 \n",
      " bidirectional_1 (Bidirectio  (None, 64)               41216     \n",
      " nal)                                                            \n",
      "                                                                 \n",
      " dense_6 (Dense)             (None, 8)                 520       \n",
      "                                                                 \n",
      "=================================================================\n",
      "Total params: 81,672\n",
      "Trainable params: 81,672\n",
      "Non-trainable params: 0\n",
      "_________________________________________________________________\n"
     ]
    }
   ],
   "source": [
    "from tensorflow.keras.layers import Bidirectional\n",
    "\n",
    "input_shape = example_MFCC.shape[1:]\n",
    "\n",
    "model_lstm = models.Sequential([\n",
    "    layers.Input(shape=input_shape),\n",
    "    #Reshape((661500, 1)),\n",
    "    Bidirectional(LSTM(64, return_sequences=True)),\n",
    "    Bidirectional(LSTM(32, return_sequences=False)),\n",
    "    Dense(8, activation='softmax')\n",
    "])\n",
    "model_lstm.summary()"
   ]
  },
  {
   "cell_type": "markdown",
   "id": "5ae46ffc",
   "metadata": {},
   "source": [
    "<a name='3.2'></a>\n",
    "<h3>&sect;3.2: Modelarchitectuur</h3>"
   ]
  },
  {
   "cell_type": "code",
   "execution_count": 34,
   "id": "69cc7406",
   "metadata": {},
   "outputs": [
    {
     "data": {
      "image/png": "[encoded data removed]",
      "text/plain": [
       "<IPython.core.display.Image object>"
      ]
     },
     "execution_count": 34,
     "metadata": {},
     "output_type": "execute_result"
    }
   ],
   "source": [
    "tf.keras.utils.plot_model(model_lstm, to_file='LSTM_audio.png', show_shapes=True, show_layer_names=True)"
   ]
  },
  {
   "cell_type": "markdown",
   "id": "f35e5ac9",
   "metadata": {},
   "source": [
    "<a name='3.3'></a>\n",
    "<h3>&sect;3.3: Stappen feature engineering</h3>"
   ]
  },
  {
   "cell_type": "markdown",
   "id": "8099fe82",
   "metadata": {},
   "source": [
    "<a name='3.4'></a>\n",
    "<h3>&sect;3.4: Onderbouwing keuzes parameters</h3>"
   ]
  },
  {
   "cell_type": "markdown",
   "id": "96f50f1d",
   "metadata": {},
   "source": [
    "<a name='3.5'></a>\n",
    "<h3>&sect;3.5: Geschikte loss functie en optimizer</h3>"
   ]
  },
  {
   "cell_type": "markdown",
   "id": "ad6a1d87",
   "metadata": {},
   "source": [
    "<a name='3.6'></a>\n",
    "<h3>&sect;3.6: Model trainen</h3>"
   ]
  },
  {
   "cell_type": "code",
   "execution_count": 35,
   "id": "221319b0",
   "metadata": {},
   "outputs": [],
   "source": [
    "stop_early = EarlyStopping(monitor='val_loss', patience=5)"
   ]
  },
  {
   "cell_type": "code",
   "execution_count": 36,
   "id": "cac4af9e",
   "metadata": {},
   "outputs": [
    {
     "name": "stdout",
     "output_type": "stream",
     "text": [
      "Epoch 1/3\n",
      "108/108 [==============================] - 35s 276ms/step - loss: 1.8384 - accuracy: 0.3186 - val_loss: 1.6444 - val_accuracy: 0.3462\n",
      "Epoch 2/3\n",
      "108/108 [==============================] - 28s 258ms/step - loss: 1.4779 - accuracy: 0.4651 - val_loss: 1.6253 - val_accuracy: 0.4231\n",
      "Epoch 3/3\n",
      "108/108 [==============================] - 27s 255ms/step - loss: 1.2890 - accuracy: 0.5512 - val_loss: 1.5822 - val_accuracy: 0.3846\n"
     ]
    }
   ],
   "source": [
    "model_lstm.compile(optimizer=tf.keras.optimizers.Adam(learning_rate=0.001),\n",
    "                   loss=\"sparse_categorical_crossentropy\",\n",
    "                   metrics=[\"accuracy\"])\n",
    "history = model_lstm.fit(train_MFCC_ds, epochs=3, validation_data=val_MFCC_ds)"
   ]
  },
  {
   "cell_type": "code",
   "execution_count": null,
   "id": "0f2d5187",
   "metadata": {},
   "outputs": [],
   "source": []
  },
  {
   "cell_type": "markdown",
   "id": "be652bb8",
   "metadata": {},
   "source": [
    "[Back to the top](#start)\n",
    "<a name='4.0'></a>\n",
    "\n",
    "<div style=\"background-color:#216375; text-align:center; vertical-align:middle; padding:10px 0; margin-top:5px; margin-bottom:5px\">\n",
    "        <h2 style=\"color:white\"><strong>H4: LSTM voor songteksten</strong></h2>\n",
    "</div>"
   ]
  },
  {
   "cell_type": "markdown",
   "id": "cd30285d",
   "metadata": {},
   "source": [
    "<a name='4.1'></a>\n",
    "<h3>&sect;4.1: Datapipeline met data preprocessing, feature engineering, of/en data\n",
    "augmentation</h3>"
   ]
  },
  {
   "cell_type": "markdown",
   "id": "ad1c685d",
   "metadata": {},
   "source": [
    "Bron voor inspiratie data preprocessing: https://www.kaggle.com/code/ngyptr/multi-class-classification-with-lstm en https://towardsdatascience.com/multi-class-text-classification-with-lstm-1590bee1bd17"
   ]
  },
  {
   "cell_type": "code",
   "execution_count": 77,
   "id": "d6daa321",
   "metadata": {},
   "outputs": [
    {
     "data": {
      "text/html": [
       "<div>\n",
       "<style scoped>\n",
       "    .dataframe tbody tr th:only-of-type {\n",
       "        vertical-align: middle;\n",
       "    }\n",
       "\n",
       "    .dataframe tbody tr th {\n",
       "        vertical-align: top;\n",
       "    }\n",
       "\n",
       "    .dataframe thead th {\n",
       "        text-align: right;\n",
       "    }\n",
       "</style>\n",
       "<table border=\"1\" class=\"dataframe\">\n",
       "  <thead>\n",
       "    <tr style=\"text-align: right;\">\n",
       "      <th></th>\n",
       "      <th>filename</th>\n",
       "      <th>lyrics</th>\n",
       "      <th>genre</th>\n",
       "      <th>lyrics_length</th>\n",
       "      <th>genre_encoded</th>\n",
       "    </tr>\n",
       "  </thead>\n",
       "  <tbody>\n",
       "    <tr>\n",
       "      <th>0</th>\n",
       "      <td>blues.00001.wav</td>\n",
       "      <td>I’m in the Mood Lyrics[Verse 1]\\r\\nI'm in the ...</td>\n",
       "      <td>blues</td>\n",
       "      <td>726</td>\n",
       "      <td>0</td>\n",
       "    </tr>\n",
       "    <tr>\n",
       "      <th>1</th>\n",
       "      <td>blues.00002.wav</td>\n",
       "      <td>(John Lee Hooker)\\r\\nThink twice before you go...</td>\n",
       "      <td>blues</td>\n",
       "      <td>773</td>\n",
       "      <td>0</td>\n",
       "    </tr>\n",
       "    <tr>\n",
       "      <th>2</th>\n",
       "      <td>blues.00003.wav</td>\n",
       "      <td>[Intro, Spoken]\\r\\n...A little thing I'm going...</td>\n",
       "      <td>blues</td>\n",
       "      <td>1521</td>\n",
       "      <td>0</td>\n",
       "    </tr>\n",
       "    <tr>\n",
       "      <th>3</th>\n",
       "      <td>blues.00005.wav</td>\n",
       "      <td>Sugar mama, sugar mama, sugar mama please come...</td>\n",
       "      <td>blues</td>\n",
       "      <td>1344</td>\n",
       "      <td>0</td>\n",
       "    </tr>\n",
       "    <tr>\n",
       "      <th>4</th>\n",
       "      <td>blues.00006.wav</td>\n",
       "      <td>My baby left me this morning\\r\\nPeople just ar...</td>\n",
       "      <td>blues</td>\n",
       "      <td>737</td>\n",
       "      <td>0</td>\n",
       "    </tr>\n",
       "    <tr>\n",
       "      <th>...</th>\n",
       "      <td>...</td>\n",
       "      <td>...</td>\n",
       "      <td>...</td>\n",
       "      <td>...</td>\n",
       "      <td>...</td>\n",
       "    </tr>\n",
       "    <tr>\n",
       "      <th>532</th>\n",
       "      <td>rock.00094.wav</td>\n",
       "      <td>[Chorus]\\r\\nDon’t stop\\r\\nIsn’t it funny how y...</td>\n",
       "      <td>rock</td>\n",
       "      <td>835</td>\n",
       "      <td>7</td>\n",
       "    </tr>\n",
       "    <tr>\n",
       "      <th>533</th>\n",
       "      <td>rock.00096.wav</td>\n",
       "      <td>[Verse 1]\\r\\nHer hair, soft drifted snow\\r\\nDe...</td>\n",
       "      <td>rock</td>\n",
       "      <td>1194</td>\n",
       "      <td>7</td>\n",
       "    </tr>\n",
       "    <tr>\n",
       "      <th>534</th>\n",
       "      <td>rock.00097.wav</td>\n",
       "      <td>[Verse 1]\\r\\nYour knuckles whiten on the wheel...</td>\n",
       "      <td>rock</td>\n",
       "      <td>1259</td>\n",
       "      <td>7</td>\n",
       "    </tr>\n",
       "    <tr>\n",
       "      <th>535</th>\n",
       "      <td>rock.00098.wav</td>\n",
       "      <td>[Verse 1]\\r\\nYou know it\\r\\nYou show it\\r\\nAnd...</td>\n",
       "      <td>rock</td>\n",
       "      <td>1046</td>\n",
       "      <td>7</td>\n",
       "    </tr>\n",
       "    <tr>\n",
       "      <th>536</th>\n",
       "      <td>rock.00099.wav</td>\n",
       "      <td>[Verse 1]\\r\\nA girl consumed by fire\\r\\nWe all...</td>\n",
       "      <td>rock</td>\n",
       "      <td>1514</td>\n",
       "      <td>7</td>\n",
       "    </tr>\n",
       "  </tbody>\n",
       "</table>\n",
       "<p>537 rows × 5 columns</p>\n",
       "</div>"
      ],
      "text/plain": [
       "            filename                                             lyrics  \\\n",
       "0    blues.00001.wav  I’m in the Mood Lyrics[Verse 1]\\r\\nI'm in the ...   \n",
       "1    blues.00002.wav  (John Lee Hooker)\\r\\nThink twice before you go...   \n",
       "2    blues.00003.wav  [Intro, Spoken]\\r\\n...A little thing I'm going...   \n",
       "3    blues.00005.wav  Sugar mama, sugar mama, sugar mama please come...   \n",
       "4    blues.00006.wav  My baby left me this morning\\r\\nPeople just ar...   \n",
       "..               ...                                                ...   \n",
       "532   rock.00094.wav  [Chorus]\\r\\nDon’t stop\\r\\nIsn’t it funny how y...   \n",
       "533   rock.00096.wav  [Verse 1]\\r\\nHer hair, soft drifted snow\\r\\nDe...   \n",
       "534   rock.00097.wav  [Verse 1]\\r\\nYour knuckles whiten on the wheel...   \n",
       "535   rock.00098.wav  [Verse 1]\\r\\nYou know it\\r\\nYou show it\\r\\nAnd...   \n",
       "536   rock.00099.wav  [Verse 1]\\r\\nA girl consumed by fire\\r\\nWe all...   \n",
       "\n",
       "     genre  lyrics_length  genre_encoded  \n",
       "0    blues            726              0  \n",
       "1    blues            773              0  \n",
       "2    blues           1521              0  \n",
       "3    blues           1344              0  \n",
       "4    blues            737              0  \n",
       "..     ...            ...            ...  \n",
       "532   rock            835              7  \n",
       "533   rock           1194              7  \n",
       "534   rock           1259              7  \n",
       "535   rock           1046              7  \n",
       "536   rock           1514              7  \n",
       "\n",
       "[537 rows x 5 columns]"
      ]
     },
     "execution_count": 77,
     "metadata": {},
     "output_type": "execute_result"
    }
   ],
   "source": [
    "tekst"
   ]
  },
  {
   "cell_type": "markdown",
   "id": "8aba98d6",
   "metadata": {},
   "source": [
    "Eerste stap is om de target kolom te encoden."
   ]
  },
  {
   "cell_type": "markdown",
   "id": "61c14394",
   "metadata": {},
   "source": [
    "De eerste stap van het preprocessing is om de lyrics the \"tokenizen\". Dit zet alle woorden om naar getallen zodat een model het kan gebruiken. Verder filteren we ook onnodige tekens etc. uit de woorden."
   ]
  },
  {
   "cell_type": "code",
   "execution_count": 115,
   "id": "d0e56ec0",
   "metadata": {},
   "outputs": [
    {
     "name": "stdout",
     "output_type": "stream",
     "text": [
      "Found 19728 unique tokens.\n"
     ]
    }
   ],
   "source": [
    "from tensorflow.keras.preprocessing.text import Tokenizer\n",
    "from tensorflow.keras.preprocessing.sequence import pad_sequences\n",
    "\n",
    "# Parameters\n",
    "# we pakken hier de 3000 meest voorkomende woorden\n",
    "max_words = 3000\n",
    "# maximale lengte van de tekst\n",
    "max_sequence_length = 250\n",
    "embedding_dim = 100\n",
    "\n",
    "tokenizer = Tokenizer(num_words=max_words, filters='!\"#$%&()*+,-./:;<=>?@[\\\\]^_`{|}~\\t\\n', lower=True)\n",
    "tokenizer.fit_on_texts(tekst['lyrics'])\n",
    "word_index = tokenizer.word_index\n",
    "print('Found %s unique tokens.' % len(word_index))"
   ]
  },
  {
   "cell_type": "markdown",
   "id": "115b0850",
   "metadata": {},
   "source": [
    "Hier truncaten (inkorten) en padden (opvullen) we de inputs zodat ze allemaal dezelfde lengte hebben."
   ]
  },
  {
   "cell_type": "code",
   "execution_count": 116,
   "id": "2719b1b3",
   "metadata": {},
   "outputs": [
    {
     "name": "stdout",
     "output_type": "stream",
     "text": [
      "Shape of data tensor: (537, 250)\n"
     ]
    }
   ],
   "source": [
    "X = tokenizer.texts_to_sequences(tekst['lyrics'].values)\n",
    "X = tf.keras.preprocessing.sequence.pad_sequences(X, maxlen=max_sequence_length)\n",
    "print('Shape of data tensor:', X.shape)"
   ]
  },
  {
   "cell_type": "markdown",
   "id": "34fa2687",
   "metadata": {},
   "source": [
    "Labels encoden"
   ]
  },
  {
   "cell_type": "code",
   "execution_count": 126,
   "id": "c64b88ba",
   "metadata": {},
   "outputs": [
    {
     "name": "stdout",
     "output_type": "stream",
     "text": [
      "Shape of label tensor: (537, 8)\n"
     ]
    }
   ],
   "source": [
    "Y = pd.get_dummies(tekst['genre']).values\n",
    "print('Shape of label tensor:', Y.shape)"
   ]
  },
  {
   "cell_type": "markdown",
   "id": "a7605759",
   "metadata": {},
   "source": [
    "Train test split"
   ]
  },
  {
   "cell_type": "code",
   "execution_count": 118,
   "id": "5f21df81",
   "metadata": {},
   "outputs": [
    {
     "name": "stdout",
     "output_type": "stream",
     "text": [
      "(483, 250) (483, 8)\n",
      "(54, 250) (54, 8)\n"
     ]
    }
   ],
   "source": [
    "X_train, X_test, Y_train, Y_test = train_test_split(X,Y, test_size = 0.10, random_state = 42)\n",
    "print(X_train.shape,Y_train.shape)\n",
    "print(X_test.shape,Y_test.shape)"
   ]
  },
  {
   "cell_type": "markdown",
   "id": "b67a2121",
   "metadata": {},
   "source": [
    "<a name='4.2'></a>\n",
    "<h3>&sect;4.2: Het model</h3>"
   ]
  },
  {
   "cell_type": "code",
   "execution_count": 119,
   "id": "cb392a82",
   "metadata": {},
   "outputs": [
    {
     "name": "stdout",
     "output_type": "stream",
     "text": [
      "WARNING:tensorflow:Layer lstm_11 will not use cuDNN kernels since it doesn't meet the criteria. It will use a generic GPU kernel as fallback when running on GPU.\n"
     ]
    }
   ],
   "source": [
    "from tensorflow.keras.layers import Embedding, LSTM, Dense, SpatialDropout1D\n",
    "from tensorflow.keras.models import Sequential\n",
    "from tensorflow.keras.callbacks import EarlyStopping\n",
    "\n",
    "model = Sequential()\n",
    "model.add(Embedding(max_words, embedding_dim, input_length=X.shape[1]))\n",
    "model.add(SpatialDropout1D(0.7))\n",
    "model.add(LSTM(64, dropout=0.7, recurrent_dropout=0.7))\n",
    "model.add(Dense(8, activation='softmax'))"
   ]
  },
  {
   "cell_type": "markdown",
   "id": "4c9a4eba",
   "metadata": {},
   "source": [
    "<a name='4.3'></a>\n",
    "<h3>&sect;4.3: Modelarchitectuur</h3>"
   ]
  },
  {
   "cell_type": "code",
   "execution_count": 120,
   "id": "9c67c584",
   "metadata": {},
   "outputs": [
    {
     "data": {
      "image/png": "[encoded data removed]",
      "text/plain": [
       "<IPython.core.display.Image object>"
      ]
     },
     "execution_count": 120,
     "metadata": {},
     "output_type": "execute_result"
    }
   ],
   "source": [
    "tf.keras.utils.plot_model(model, to_file='LSTM_tekst.png', show_shapes=True, show_layer_names=True)"
   ]
  },
  {
   "cell_type": "markdown",
   "id": "6af2c08c",
   "metadata": {},
   "source": [
    "<a name='4.4'></a>\n",
    "<h3>&sect;4.4: Model trainen</h3>"
   ]
  },
  {
   "cell_type": "code",
   "execution_count": 121,
   "id": "c4cfc624",
   "metadata": {},
   "outputs": [
    {
     "name": "stdout",
     "output_type": "stream",
     "text": [
      "Epoch 1/100\n",
      "4/4 [==============================] - 7s 1s/step - loss: 2.0799 - accuracy: 0.1166 - val_loss: 2.0751 - val_accuracy: 0.1753\n",
      "Epoch 2/100\n",
      "4/4 [==============================] - 6s 2s/step - loss: 2.0761 - accuracy: 0.1192 - val_loss: 2.0729 - val_accuracy: 0.2268\n",
      "Epoch 3/100\n",
      "4/4 [==============================] - 6s 2s/step - loss: 2.0715 - accuracy: 0.1684 - val_loss: 2.0707 - val_accuracy: 0.2165\n",
      "Epoch 4/100\n",
      "4/4 [==============================] - 6s 2s/step - loss: 2.0701 - accuracy: 0.1762 - val_loss: 2.0686 - val_accuracy: 0.2062\n",
      "Epoch 5/100\n",
      "4/4 [==============================] - 6s 2s/step - loss: 2.0651 - accuracy: 0.1813 - val_loss: 2.0659 - val_accuracy: 0.1856\n",
      "Epoch 6/100\n",
      "4/4 [==============================] - 6s 2s/step - loss: 2.0582 - accuracy: 0.2202 - val_loss: 2.0633 - val_accuracy: 0.2577\n",
      "Epoch 7/100\n",
      "4/4 [==============================] - 6s 2s/step - loss: 2.0563 - accuracy: 0.2461 - val_loss: 2.0606 - val_accuracy: 0.3093\n",
      "Epoch 8/100\n",
      "4/4 [==============================] - 6s 1s/step - loss: 2.0522 - accuracy: 0.2150 - val_loss: 2.0574 - val_accuracy: 0.2680\n",
      "Epoch 9/100\n",
      "4/4 [==============================] - 6s 2s/step - loss: 2.0460 - accuracy: 0.2461 - val_loss: 2.0536 - val_accuracy: 0.2474\n",
      "Epoch 10/100\n",
      "4/4 [==============================] - 7s 2s/step - loss: 2.0455 - accuracy: 0.2487 - val_loss: 2.0498 - val_accuracy: 0.2474\n",
      "Epoch 11/100\n",
      "4/4 [==============================] - 6s 2s/step - loss: 2.0329 - accuracy: 0.2668 - val_loss: 2.0466 - val_accuracy: 0.2990\n",
      "Epoch 12/100\n",
      "4/4 [==============================] - 6s 2s/step - loss: 2.0290 - accuracy: 0.2746 - val_loss: 2.0435 - val_accuracy: 0.3093\n",
      "Epoch 13/100\n",
      "4/4 [==============================] - 6s 2s/step - loss: 2.0270 - accuracy: 0.2953 - val_loss: 2.0400 - val_accuracy: 0.3196\n",
      "Epoch 14/100\n",
      "4/4 [==============================] - 6s 2s/step - loss: 2.0198 - accuracy: 0.2694 - val_loss: 2.0361 - val_accuracy: 0.2680\n",
      "Epoch 15/100\n",
      "4/4 [==============================] - 6s 2s/step - loss: 2.0043 - accuracy: 0.2953 - val_loss: 2.0325 - val_accuracy: 0.1856\n",
      "Epoch 16/100\n",
      "4/4 [==============================] - 6s 2s/step - loss: 2.0009 - accuracy: 0.2720 - val_loss: 2.0281 - val_accuracy: 0.1856\n",
      "Epoch 17/100\n",
      "4/4 [==============================] - 6s 2s/step - loss: 1.9807 - accuracy: 0.2902 - val_loss: 2.0199 - val_accuracy: 0.1856\n",
      "Epoch 18/100\n",
      "4/4 [==============================] - 6s 2s/step - loss: 1.9689 - accuracy: 0.2383 - val_loss: 2.0026 - val_accuracy: 0.1546\n",
      "Epoch 19/100\n",
      "4/4 [==============================] - 6s 2s/step - loss: 1.9344 - accuracy: 0.2513 - val_loss: 2.3089 - val_accuracy: 0.1649\n",
      "Epoch 20/100\n",
      "4/4 [==============================] - 6s 2s/step - loss: 1.9912 - accuracy: 0.2383 - val_loss: 1.9317 - val_accuracy: 0.2887\n",
      "Epoch 21/100\n",
      "4/4 [==============================] - 7s 2s/step - loss: 1.8884 - accuracy: 0.3808 - val_loss: 1.9813 - val_accuracy: 0.2577\n",
      "Epoch 22/100\n",
      "4/4 [==============================] - 6s 2s/step - loss: 1.8901 - accuracy: 0.4093 - val_loss: 1.9714 - val_accuracy: 0.2474\n",
      "Epoch 23/100\n",
      "4/4 [==============================] - 6s 2s/step - loss: 1.8695 - accuracy: 0.3964 - val_loss: 1.9367 - val_accuracy: 0.2990\n"
     ]
    }
   ],
   "source": [
    "model.compile(loss='categorical_crossentropy', optimizer='adam', metrics=['accuracy'])\n",
    "\n",
    "epochs = 100\n",
    "batch_size = 128\n",
    "\n",
    "history = model.fit(X_train, Y_train, epochs=epochs, batch_size=batch_size,validation_split=0.2,callbacks=[EarlyStopping(monitor='val_loss', patience=3, min_delta=0.0001)])"
   ]
  },
  {
   "cell_type": "code",
   "execution_count": 123,
   "id": "c464c636",
   "metadata": {},
   "outputs": [
    {
     "data": {
      "text/plain": [
       "<matplotlib.legend.Legend at 0x27bbe8946d0>"
      ]
     },
     "execution_count": 123,
     "metadata": {},
     "output_type": "execute_result"
    },
    {
     "data": {
      "image/png": "[encoded data removed]",
      "text/plain": [
       "<Figure size 640x480 with 1 Axes>"
      ]
     },
     "metadata": {},
     "output_type": "display_data"
    }
   ],
   "source": [
    "plt.title('Loss')\n",
    "plt.plot(history.history['loss'], label='train')\n",
    "plt.plot(history.history['val_loss'], label='test')\n",
    "plt.legend()"
   ]
  },
  {
   "cell_type": "code",
   "execution_count": 124,
   "id": "8d442c23",
   "metadata": {},
   "outputs": [
    {
     "data": {
      "text/plain": [
       "<matplotlib.legend.Legend at 0x27b0f3b8190>"
      ]
     },
     "execution_count": 124,
     "metadata": {},
     "output_type": "execute_result"
    },
    {
     "data": {
      "image/png": "[encoded data removed]",
      "text/plain": [
       "<Figure size 640x480 with 1 Axes>"
      ]
     },
     "metadata": {},
     "output_type": "display_data"
    }
   ],
   "source": [
    "plt.title('Accuracy')\n",
    "plt.plot(history.history['accuracy'], label='train')\n",
    "plt.plot(history.history['val_accuracy'], label='test')\n",
    "plt.legend()"
   ]
  },
  {
   "cell_type": "markdown",
   "id": "cee774c6",
   "metadata": {},
   "source": [
    "<a name='4.5'></a>\n",
    "<h3>&sect;4.5: Onderbouwing keuzes parameters</h3>"
   ]
  },
  {
   "cell_type": "markdown",
   "id": "1eca648c",
   "metadata": {},
   "source": [
    "- Sequential: Om een LSTM model te maken moeten we eerst een Sequentieel model initieren.\n",
    "\n",
    "- We beginnen met een embedded layer die 100 vectoren gebruikt om "
   ]
  },
  {
   "cell_type": "markdown",
   "id": "9515ce2f",
   "metadata": {},
   "source": [
    "[Back to the top](#start)\n",
    "<a name='5.0'></a>\n",
    "\n",
    "<div style=\"background-color:#216375; text-align:center; vertical-align:middle; padding:10px 0; margin-top:5px; margin-bottom:5px\">\n",
    "        <h2 style=\"color:white\"><strong>H5: Transformer voor songteksten</strong></h2>\n",
    "</div>"
   ]
  },
  {
   "cell_type": "markdown",
   "id": "d093b339",
   "metadata": {},
   "source": [
    "<a name='5.1'></a>\n",
    "<h3>&sect;5.1: Het model</h3>"
   ]
  },
  {
   "cell_type": "markdown",
   "id": "06e8ea3d",
   "metadata": {},
   "source": [
    "<a name='5.2'></a>\n",
    "<h3>&sect;5.2: Fine-tuning Hugging Face</h3>"
   ]
  },
  {
   "cell_type": "markdown",
   "id": "339833de",
   "metadata": {},
   "source": [
    "<a name='5.3'></a>\n",
    "<h3>&sect;5.3: Naam modelarchitectuur en dataset</h3>"
   ]
  },
  {
   "cell_type": "markdown",
   "id": "424ca908",
   "metadata": {},
   "source": [
    "<a name='5.4'></a>\n",
    "<h3>&sect;5.4: Voordelen vooraf getrainde tekstmodellen</h3>"
   ]
  },
  {
   "cell_type": "markdown",
   "id": "a1ce47a2",
   "metadata": {},
   "source": [
    "<a name='5.5'></a>\n",
    "<h3>&sect;5.5: Stappen finetunen vooraf getraind model en motivatie keuzes</h3>"
   ]
  },
  {
   "cell_type": "markdown",
   "id": "15929fb8",
   "metadata": {},
   "source": [
    "[Back to the top](#start)\n",
    "<a name='6.0'></a>\n",
    "\n",
    "<div style=\"background-color:#216375; text-align:center; vertical-align:middle; padding:10px 0; margin-top:5px; margin-bottom:5px\">\n",
    "        <h2 style=\"color:white\"><strong>H6: Model naar keuze</strong></h2>\n",
    "</div>"
   ]
  },
  {
   "cell_type": "markdown",
   "id": "f67b9afd",
   "metadata": {},
   "source": [
    "<a name='6.1'></a>\n",
    "<h3>&sect;6.1: Het model</h3>"
   ]
  },
  {
   "cell_type": "markdown",
   "id": "c6f09383",
   "metadata": {},
   "source": [
    "<a name='6.2'></a>\n",
    "<h3>&sect;6.2: Modelarchitectuur</h3>"
   ]
  },
  {
   "cell_type": "markdown",
   "id": "ea70d90c",
   "metadata": {},
   "source": [
    "<a name='6.3'></a>\n",
    "<h3>&sect;6.3: Uitleg keuzes model</h3>"
   ]
  },
  {
   "cell_type": "markdown",
   "id": "08c5241f",
   "metadata": {},
   "source": [
    "[Back to the top](#start)\n",
    "<a name='7.0'></a>\n",
    "\n",
    "<div style=\"background-color:#216375; text-align:center; vertical-align:middle; padding:10px 0; margin-top:5px; margin-bottom:5px\">\n",
    "        <h2 style=\"color:white\"><strong>H7: Bevindingen</strong></h2>\n",
    "</div>"
   ]
  },
  {
   "cell_type": "markdown",
   "id": "08688965",
   "metadata": {},
   "source": [
    "<a name='7.1'></a>\n",
    "<h3>&sect;7.1: Samenvatting van de uitkomsten</h3>"
   ]
  },
  {
   "cell_type": "markdown",
   "id": "40b2fa47",
   "metadata": {},
   "source": [
    "##### Geef een beknopt overzicht van de resultaten"
   ]
  },
  {
   "cell_type": "markdown",
   "id": "cec894e4",
   "metadata": {},
   "source": [
    "##### Welke model presteert het beste? Bij welke parameters?"
   ]
  },
  {
   "cell_type": "markdown",
   "id": "c76c39b6",
   "metadata": {},
   "source": [
    "##### Toon je scores op Kaggle en laat zien wat de resultaten waren van je verbeteringen op je score op Kaggle."
   ]
  },
  {
   "cell_type": "markdown",
   "id": "a2aadbd2",
   "metadata": {},
   "source": [
    "[Back to the top](#start)\n",
    "<a name='8.0'></a>\n",
    "\n",
    "<div style=\"background-color:#216375; text-align:center; vertical-align:middle; padding:10px 0; margin-top:5px; margin-bottom:5px\">\n",
    "        <h2 style=\"color:white\"><strong>H8: Conclusie en aanbevelingen</strong></h2>\n",
    "</div>"
   ]
  },
  {
   "cell_type": "markdown",
   "id": "8eb6ad8d",
   "metadata": {},
   "source": [
    "<a name='8.1'></a>\n",
    "<h3>&sect;8.1: Uitdagingen modelleringsproces</h3>"
   ]
  },
  {
   "cell_type": "markdown",
   "id": "33e8273e",
   "metadata": {},
   "source": [
    "<a name='8.2'></a>\n",
    "<h3>&sect;8.2: Prestaties modelarchitecturen</h3>"
   ]
  },
  {
   "cell_type": "markdown",
   "id": "0649c07c",
   "metadata": {},
   "source": [
    "<a name='8.3'></a>\n",
    "<h3>&sect;8.3: Beste modellen audio en tekst</h3>"
   ]
  },
  {
   "cell_type": "markdown",
   "id": "e18fae6f",
   "metadata": {},
   "source": [
    "<a name='8.4'></a>\n",
    "<h3>&sect;8.4: Genres makkelijk te voorspellen met audio en tekst</h3>"
   ]
  },
  {
   "cell_type": "markdown",
   "id": "025e1217",
   "metadata": {},
   "source": [
    "<a name='8.5'></a>\n",
    "<h3>&sect;8.5: Advies voor app</h3>"
   ]
  },
  {
   "cell_type": "markdown",
   "id": "1fe3379a",
   "metadata": {},
   "source": [
    "<a name='8.6'></a>\n",
    "<h3>&sect;8.6: Conceptuele uitbreiding voor systeem</h3>"
   ]
  },
  {
   "cell_type": "markdown",
   "id": "124aabbc",
   "metadata": {},
   "source": [
    "[Back to the top](#start)\n",
    "<a name='9.0'></a>\n",
    "\n",
    "<div style=\"background-color:#216375; text-align:center; vertical-align:middle; padding:10px 0; margin-top:5px; margin-bottom:5px\">\n",
    "        <h2 style=\"color:white\"><strong>H9: Literatuurlijst</strong></h2>\n",
    "</div>"
   ]
  },
  {
   "cell_type": "markdown",
   "id": "8aaafefb",
   "metadata": {},
   "source": []
  }
 ],
 "metadata": {
  "kernelspec": {
   "display_name": "Python 3 (ipykernel)",
   "language": "python",
   "name": "python3"
  },
  "language_info": {
   "codemirror_mode": {
    "name": "ipython",
    "version": 3
   },
   "file_extension": ".py",
   "mimetype": "text/x-python",
   "name": "python",
   "nbconvert_exporter": "python",
   "pygments_lexer": "ipython3",
   "version": "3.9.19"
  }
 },
 "nbformat": 4,
 "nbformat_minor": 5
}
