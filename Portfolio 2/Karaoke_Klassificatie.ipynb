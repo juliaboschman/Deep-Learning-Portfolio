{
 "cells": [
  {
   "cell_type": "markdown",
   "id": "6b90e3dc",
   "metadata": {},
   "source": [
    "<div style=\"background-color:\t#216375 ; text-align:center; vertical-align: middle; padding:40px 0; margin-top:30px\">\n",
    "<h1 style=\"color:white\">Deep Learning - Karaoke klassificatie</h1>\n",
    "<b style=\"color:black\"> Kaggle: Yoyoyoghurt(teamnaam), JortAkershoek, juliaboschman, Sam Keesen </b>\n",
    "   \n",
    "<b style=\"color:white\"> Jort Akershoek, Julia Boschman, Sam Keesen</b>\n",
    "    </div>\n",
    "\n",
    "<a name='start'></a>"
   ]
  },
  {
   "cell_type": "markdown",
   "id": "e46cb623",
   "metadata": {},
   "source": [
    "## Table of contents\n",
    "\n",
    "1. [H1: Inleiding](#1.0)\n",
    "2. [H2: EDA](#2.0)\n",
    "    - [&sect;2.1: Audio fragmenten](#2.1)\n",
    "    - [&sect;2.2: Eigenschappen audio fragmenten](#2.2)\n",
    "    - [&sect;2.3: Songteksten](#2.3)\n",
    "    - [&sect;2.4: Conclusie EDA](#2.4)\n",
    "3. [H3: LSTM voor audioclips](#3.0)\n",
    "    - [&sect;3.1: Feature engineering](#3.1)\n",
    "    - [&sect;3.2: Het model](#3.2)\n",
    "    - [&sect;3.3: Modelarchitectuur](#3.3)\n",
    "    - [&sect;3.4: Stappen feature engineering](#3.4)\n",
    "    - [&sect;3.5: Onderbouwing keuzes parameters](#3.5)\n",
    "    - [&sect;3.6: Geschikte loss functie en optimizer](#3.6)\n",
    "    - [&sect;3.7: Model trainen](#3.7)\n",
    "    - [&sect;3.8: Loss visualisatie](#3.8)\n",
    "    - [&sect;3.9: Functie voor kaggle](#3.9)\n",
    "4. [H4: LSTM voor songteksten](#4.0)\n",
    "    - [&sect;4.1: Datapipeline met data preprocessing, feature engineering, of/en data augmentation](#4.1)\n",
    "    - [&sect;4.2: Het model](#4.2)\n",
    "    - [&sect;4.3: Modelarchitectuur](#4.3)\n",
    "    - [&sect;4.4: Onderbouwing keuzes parameters](#4.4)\n",
    "    - [&sect;4.5: Model trainen](#4.5)\n",
    "5. [H5: Transformer voor songteksten](#5.0)\n",
    "    - [&sect;5.1: Het model](#5.1)\n",
    "    - [&sect;5.2: Fine-tuning Hugging Face](#5.2)\n",
    "    - [&sect;5.3: Naam modelarchitectuur en dataset](#5.3)\n",
    "    - [&sect;5.4: Voordelen vooraf getrainde tekst modellen](#4.4)\n",
    "    - [&sect;5.5: Stappen finetunen vooraf getraind model en motivaties](#5.5)\n",
    "6. [H6: Model naar keuze](#6.0)\n",
    "    - [&sect;6.1: Het model](#6.1)\n",
    "    - [&sect;6.2: Modelarchitectuur](#6.2)\n",
    "    - [&sect;6.3: Uitleg keuzes model](#6.3)\n",
    "7. [H7: Bevindingen](#7.0)\n",
    "    - [&sect;7.1: Samenvatting van de uitkomst](#7.1)\n",
    "8. [H8: Conclusie en aanbevelingen](#8.0)\n",
    "    - [&sect;8.1: Uitdagingen modelleringsproces](#8.1)\n",
    "    - [&sect;8.2: Prestaties modelarchitecturen](#8.2)\n",
    "    - [&sect;8.3: Beste model audio en tekst](#8.3)\n",
    "    - [&sect;8.4: Genres makkelijk te voorspellen met audio en tekst](#8.4)\n",
    "    - [&sect;8.5: Advies voor app](#8.5)\n",
    "    - [&sect;8.6: Conceptuele uitbreiding voor systeem](#8.6)\n",
    "9. [H9: Literatuurlijst](#9.0)"
   ]
  },
  {
   "cell_type": "code",
   "execution_count": 10,
   "id": "7e922036",
   "metadata": {},
   "outputs": [],
   "source": [
    "#alle nodige imports\n",
    "import os\n",
    "import wave\n",
    "import random\n",
    "import pathlib\n",
    "import numpy as np\n",
    "import pandas as pd\n",
    "import seaborn as sns\n",
    "import soundfile as sf\n",
    "import tensorflow as tf\n",
    "from IPython import display\n",
    "from tensorflow import keras\n",
    "import IPython.display as ipd\n",
    "from collections import Counter\n",
    "import matplotlib.pyplot as plt\n",
    "from tensorflow.keras import regularizers\n",
    "from tensorflow.keras import layers, models\n",
    "from tensorflow.keras.models import Sequential\n",
    "from tensorflow.keras.callbacks import EarlyStopping\n",
    "from sklearn.model_selection import train_test_split\n",
    "from tensorflow.keras.preprocessing.text import Tokenizer\n",
    "from tensorflow.keras.layers import Embedding, SpatialDropout1D\n",
    "from tensorflow.keras.preprocessing.sequence import pad_sequences\n",
    "from tensorflow.keras.layers import LSTM, Dropout, Dense, Bidirectional, BatchNormalization"
   ]
  },
  {
   "cell_type": "code",
   "execution_count": 3,
   "id": "2bb79f5f",
   "metadata": {},
   "outputs": [],
   "source": [
    "os.environ[\"PATH\"] += os.pathsep + 'C:/Program Files/Graphviz/bin/'"
   ]
  },
  {
   "cell_type": "markdown",
   "id": "a0c7e84d",
   "metadata": {},
   "source": [
    "Voor het plotten van de model architectuur voeren wij aan het begin van ons notebook een regel code uit die verwijs naar de plek waar het bestand staat opgeslagen. Zo kunnen wij makkelijk iedere model architectuur laten zien wanneer deze getoond moet worden, na elk opgesteld model."
   ]
  },
  {
   "cell_type": "markdown",
   "id": "dbb7a048",
   "metadata": {},
   "source": [
    "[Back to the top](#start)\n",
    "<a name='1.0'></a>\n",
    "\n",
    "<div style=\"background-color:#216375; text-align:center; vertical-align:middle; padding:10px 0; margin-top:5px; margin-bottom:5px\">\n",
    "        <h2 style=\"color:white\"><strong>H1: Inleiding</strong></h2>\n",
    "</div>"
   ]
  },
  {
   "cell_type": "markdown",
   "id": "d1d60adf",
   "metadata": {},
   "source": [
    "Voor het vak Deep Learning wordt er in dit portfolio onderzoek gedaan naar de werking en toepassing van verschillende vormen van neurale netwerken. De opdracht voor dit portfolio is het voorspellen van genres van liedjes met de hulp van neurale netwerken. Dit kunnen neurale netwerken zijn die alleen werken met tekst data, juist alleen met audio data of zelfs met beide. Er worden 4 verschillende neurale netwerken gebruikt in dit notebook en dat zijn als volgt:\n",
    "\n",
    "- LSTM neuraal netwerk, alleen audio data.\n",
    "- LSTM neuraal netwerk, alleen tekst data.\n",
    "- Transformer model, alleen tekst data.\n",
    "- Een model naar keuze, kan zowel audio als tekst data, of beide.\n",
    "\n",
    "Aan het einde van het notebook gaan wij reflecteren op de manier(en) die het beste resultaat heeft geleverd voor ons vraagstuk. Hier zal worden gekeken naar het model, maar ook wat de reden zou kunnen zijn dat het model beter werkt dan de andere."
   ]
  },
  {
   "cell_type": "markdown",
   "id": "3494cb4d",
   "metadata": {},
   "source": [
    "[Back to the top](#start)\n",
    "<a name='2.0'></a>\n",
    "\n",
    "<div style=\"background-color:#216375; text-align:center; vertical-align:middle; padding:10px 0; margin-top:5px; margin-bottom:5px\">\n",
    "        <h2 style=\"color:white\"><strong>H2: EDA</strong></h2>\n",
    "</div>"
   ]
  },
  {
   "cell_type": "markdown",
   "id": "260a399f",
   "metadata": {},
   "source": [
    "<a name='2.1'></a>\n",
    "<h3>&sect;2.1: Audio fragmenten</h3>"
   ]
  },
  {
   "cell_type": "markdown",
   "id": "53b0d56e",
   "metadata": {},
   "source": [
    "Als aller eerste stap zullen wij de audio data inladen, zodat wij deze later kunnen gebruiken in een LSTM model. Hierin verdelen wij de data onder train en validation data. Deze validation data wordt in de cel daaronder weer onderverdeeld in validation en test data. Wij hebben er voor gekozen om de data te verwerken in batches van 8, zodat het model niet te veel kracht nodig heeft om te kunnen runnen."
   ]
  },
  {
   "cell_type": "code",
   "execution_count": 3,
   "id": "a82cfefe",
   "metadata": {},
   "outputs": [
    {
     "name": "stdout",
     "output_type": "stream",
     "text": [
      "Found 537 files belonging to 8 classes.\n",
      "Using 430 files for training.\n",
      "Using 107 files for validation.\n",
      "\n",
      "label names: ['blues' 'country' 'disco' 'hiphop' 'metal' 'pop' 'reggae' 'rock']\n"
     ]
    }
   ],
   "source": [
    "base_dir = \"Train\"\n",
    "\n",
    "data_dir = pathlib.Path(base_dir)\n",
    "\n",
    "train_ds, val_ds = tf.keras.utils.audio_dataset_from_directory(\n",
    "    directory=data_dir,\n",
    "    batch_size=8,\n",
    "    validation_split=0.2,\n",
    "    seed=0,\n",
    "    output_sequence_length=30*22050,\n",
    "    subset='both')\n",
    "\n",
    "label_names = np.array(train_ds.class_names)\n",
    "print()\n",
    "print(\"label names:\", label_names)"
   ]
  },
  {
   "cell_type": "code",
   "execution_count": 4,
   "id": "c666cb8e",
   "metadata": {},
   "outputs": [],
   "source": [
    "test_ds = val_ds.shard(num_shards=2, index=0)\n",
    "val_ds = val_ds.shard(num_shards=2, index=1)"
   ]
  },
  {
   "cell_type": "markdown",
   "id": "574f3e1d",
   "metadata": {},
   "source": [
    "Na het bekijken van de data zien wij dat er 8 genres in onze data zitten. Dit zijn de genres blues, country, disco, hiphop, metal, pop, reggae en rock. Wij zullen later in het notebook modellen samenstellen die de data kan onderscheiden in deze 8 verschillende genres."
   ]
  },
  {
   "cell_type": "code",
   "execution_count": 5,
   "id": "a6c63afe",
   "metadata": {},
   "outputs": [
    {
     "name": "stdout",
     "output_type": "stream",
     "text": [
      "Found 129 files belonging to 1 classes.\n"
     ]
    }
   ],
   "source": [
    "test_dir = \"Test\"\n",
    "\n",
    "data_dir_test = pathlib.Path(test_dir)\n",
    "\n",
    "test_ds_kaggle = tf.keras.utils.audio_dataset_from_directory(\n",
    "    directory=data_dir_test,\n",
    "    batch_size=8,\n",
    "    seed=0,\n",
    "    output_sequence_length=30*22050,\n",
    "    label_mode=None)"
   ]
  },
  {
   "cell_type": "markdown",
   "id": "f80226d6",
   "metadata": {},
   "source": [
    "Om onze modellen te kunnen testen moeten wij als groep mee doen aan een Kaggle competitie. Er is voor dit testen een aparte dataset gemaakt, en die wordt los gebruikt als nog niet geziene data. Daarom laden wij dit op een iets andere manier in, zodat er gewoon 1 dataset overblijft. Het valt op dat er nu aangegeven staat dat er maar 1 class toebehoord aan de data, maar dat komt omdat wij met ons model de goede genres nog aan de data toe moeten wijzen."
   ]
  },
  {
   "cell_type": "code",
   "execution_count": 6,
   "id": "53706b62",
   "metadata": {},
   "outputs": [],
   "source": [
    "def squeeze(audio, labels=None):\n",
    "    \"\"\"\n",
    "    Squeezes the last dimention of the input audio tensor.\n",
    "    \n",
    "    Parameters:\n",
    "    -----------\n",
    "    audio, (tf.Tensor): The audio file that needs to be squeezed.\n",
    "    labels, (tf.Tensor, optional): The labels corresponding to the audio files.\n",
    "        default=None.\n",
    "        \n",
    "    Returns:\n",
    "    --------\n",
    "    A tuple containing the squeezed audio files and the corresponding labels if provided.\n",
    "    \"\"\"\n",
    "    audio = tf.squeeze(audio, axis=-1)\n",
    "    if labels is not None:\n",
    "        return audio, labels\n",
    "    else:\n",
    "        return audio"
   ]
  },
  {
   "cell_type": "markdown",
   "id": "008268b8",
   "metadata": {},
   "source": [
    "Om uiteindelijk een model te kunnen trainen met de audio gegevens moet er een squeeze methode worden toegepast op de data. Zo wordt de data naar een kleinere dimensie gebracht en kunnen neurale netwerk modellen beter omgaan met de input data."
   ]
  },
  {
   "cell_type": "code",
   "execution_count": 7,
   "id": "848c06fb",
   "metadata": {},
   "outputs": [],
   "source": [
    "train_ds = train_ds.map(squeeze, tf.data.AUTOTUNE)\n",
    "val_ds = val_ds.map(squeeze, tf.data.AUTOTUNE)\n",
    "test_ds = test_ds.map(squeeze, tf.data.AUTOTUNE)"
   ]
  },
  {
   "cell_type": "code",
   "execution_count": 8,
   "id": "dc2f01d7",
   "metadata": {},
   "outputs": [],
   "source": [
    "test_ds_kaggle = test_ds_kaggle.map(squeeze, tf.data.AUTOTUNE)"
   ]
  },
  {
   "cell_type": "code",
   "execution_count": 9,
   "id": "04e55f61",
   "metadata": {},
   "outputs": [
    {
     "name": "stdout",
     "output_type": "stream",
     "text": [
      "(8, 661500)\n",
      "(8,)\n"
     ]
    }
   ],
   "source": [
    "for example_audio, example_labels in train_ds.take(1):\n",
    "    print(example_audio.shape)\n",
    "    print(example_labels.shape)"
   ]
  },
  {
   "cell_type": "code",
   "execution_count": 10,
   "id": "54b87785",
   "metadata": {},
   "outputs": [],
   "source": [
    "train_ds = train_ds.cache().shuffle(10).prefetch(tf.data.AUTOTUNE)\n",
    "val_ds = val_ds.cache().prefetch(tf.data.AUTOTUNE)\n",
    "test_ds = test_ds.cache().prefetch(tf.data.AUTOTUNE)"
   ]
  },
  {
   "cell_type": "code",
   "execution_count": 11,
   "id": "f83e11e7",
   "metadata": {},
   "outputs": [],
   "source": [
    "test_ds_kaggle = test_ds_kaggle.cache().prefetch(tf.data.AUTOTUNE)"
   ]
  },
  {
   "cell_type": "markdown",
   "id": "6611b5cf",
   "metadata": {},
   "source": [
    "<a name='2.2'></a>\n",
    "<h3>&sect;2.2: Eigenschappen audio fragmenten</h3>"
   ]
  },
  {
   "cell_type": "markdown",
   "id": "0b5298c0",
   "metadata": {},
   "source": [
    "Nu alle data is ingeladen willen we voor ieder genre een liedje laten horen. Dat doen we hier onder met een zelf gedefinieerde code die het eerste nummer pakt uit de map van het genre en hier het nummer klaar zet met een playbutton. Bij ieder lied staat de naam van het genre en de lengte van het fragment weergegeven. Ieder lied kan afgespeeld worden door op de playbutton te drukken."
   ]
  },
  {
   "cell_type": "code",
   "execution_count": 12,
   "id": "efbd2f98",
   "metadata": {
    "scrolled": true
   },
   "outputs": [],
   "source": [
    "def get_first_audio_per_class(class_dir):\n",
    "    \"\"\"\n",
    "    Retrieve the first audio file path for each class within the given directory.\n",
    "\n",
    "    Parameters:\n",
    "    -----------\n",
    "    class_dir (str or Path): Path to the directory containing subdirectories for each class,\n",
    "        with audio files inside each class subdirectory.\n",
    "\n",
    "    Returns:\n",
    "    --------\n",
    "    list: A list of tuples, where each tuple contains the class label and the path to the first\n",
    "        audio file found within the corresponding class subdirectory.\n",
    "    \"\"\"\n",
    "    class_audio_paths = []\n",
    "    for label in os.listdir(class_dir):\n",
    "        class_path = class_dir / label\n",
    "        class_audio_files = list(class_path.glob('*.wav'))\n",
    "        if class_audio_files:\n",
    "            class_audio_paths.append((label, class_audio_files[0]))\n",
    "    return class_audio_paths"
   ]
  },
  {
   "cell_type": "code",
   "execution_count": 13,
   "id": "0275b180",
   "metadata": {},
   "outputs": [
    {
     "data": {
      "text/html": [
       "<p>Genre: blues</p><p>Audio Length: 30.013333333333332 seconds</p><audio controls><source src=\"Train\\blues\\blues.00001.wav\" type=\"audio/wav\"></audio><p>Genre: country</p><p>Audio Length: 30.011791383219954 seconds</p><audio controls><source src=\"Train\\country\\country.00001.wav\" type=\"audio/wav\"></audio><p>Genre: disco</p><p>Audio Length: 30.013333333333332 seconds</p><audio controls><source src=\"Train\\disco\\disco.00002.wav\" type=\"audio/wav\"></audio><p>Genre: hiphop</p><p>Audio Length: 30.00018140589569 seconds</p><audio controls><source src=\"Train\\hiphop\\hiphop.00001.wav\" type=\"audio/wav\"></audio><p>Genre: metal</p><p>Audio Length: 30.00018140589569 seconds</p><audio controls><source src=\"Train\\metal\\metal.00000.wav\" type=\"audio/wav\"></audio><p>Genre: pop</p><p>Audio Length: 30.00018140589569 seconds</p><audio controls><source src=\"Train\\pop\\pop.00000.wav\" type=\"audio/wav\"></audio><p>Genre: reggae</p><p>Audio Length: 30.013333333333332 seconds</p><audio controls><source src=\"Train\\reggae\\reggae.00000.wav\" type=\"audio/wav\"></audio><p>Genre: rock</p><p>Audio Length: 30.013333333333332 seconds</p><audio controls><source src=\"Train\\rock\\rock.00000.wav\" type=\"audio/wav\"></audio>"
      ],
      "text/plain": [
       "<IPython.core.display.HTML object>"
      ]
     },
     "metadata": {},
     "output_type": "display_data"
    }
   ],
   "source": [
    "first_audio_per_class = get_first_audio_per_class(data_dir)\n",
    "html_code = \"\"\n",
    "for genre, audio_path in first_audio_per_class:\n",
    "    audio_length = sf.info(audio_path).duration\n",
    "    html_code += f'<p>Genre: {genre}</p>'\n",
    "    html_code += f'<p>Audio Length: {audio_length} seconds</p>'\n",
    "    html_code += f'<audio controls><source src=\"{audio_path}\" type=\"audio/wav\"></audio>'\n",
    "ipd.display(ipd.HTML(html_code))"
   ]
  },
  {
   "cell_type": "markdown",
   "id": "608d62e2",
   "metadata": {},
   "source": [
    "Als eerst laten wij het eerste fragment horen van ieder genre die in onze dataset staat. Dit zijn allemaal audioclips van ongeveer 30 seconden. Het is belangrijk dat de code vanaf hierboven gerund wordt om de audiobestanden te kunnen beluisteren. Dan is het een simpele knop op de playbotton en hoor je het gehele fragment bij het genre."
   ]
  },
  {
   "cell_type": "code",
   "execution_count": 14,
   "id": "b7c4fd49",
   "metadata": {},
   "outputs": [],
   "source": [
    "def get_sampling_frequency(audio_file_path):\n",
    "    \"\"\"\n",
    "    Get the sampling frequency (in Hertz) of the audio file.\n",
    "\n",
    "    Parameters:\n",
    "    -----------\n",
    "    audio_file_path (Path): Path to the audio file.\n",
    "\n",
    "    Returns:\n",
    "    --------\n",
    "    int: The sampling frequency of the audio file.\n",
    "    \"\"\"\n",
    "    with wave.open(audio_file_path, 'rb') as audio_file:\n",
    "        return audio_file.getframerate()"
   ]
  },
  {
   "cell_type": "code",
   "execution_count": 15,
   "id": "3a639487",
   "metadata": {},
   "outputs": [
    {
     "data": {
      "text/plain": [
       "22050"
      ]
     },
     "execution_count": 15,
     "metadata": {},
     "output_type": "execute_result"
    }
   ],
   "source": [
    "get_sampling_frequency(base_dir + \"/blues/blues.00001.wav\")"
   ]
  },
  {
   "cell_type": "markdown",
   "id": "b6451bb5",
   "metadata": {},
   "source": [
    "Voor het berekenen van de sampling frequentie, het aantal samples per seconde, hebben wij een simpele functie gedefinieerd die de sampling frequentie kan berekenen van een audio bestand. Dit laten wij zien voor het eerste nummer in onze dataset, om aan te kunnen tonen wat de sampling frequentie is van onze data. Dit komt uit op een getal van 22050. (Check Audio’s Sample Rate Using Python, n.d.)"
   ]
  },
  {
   "cell_type": "markdown",
   "id": "c81dbd8d",
   "metadata": {},
   "source": [
    "##### Korte conclusie audiofragmenten\n",
    "Alle audio fragmenten zijn ongeveer 30 seconden en een sampling frequentie van 22050 Hz in ieder genre. Vandaar dat we de data inladen met: output_sequence_length=30*22050."
   ]
  },
  {
   "cell_type": "markdown",
   "id": "88554a64",
   "metadata": {},
   "source": [
    "<a name='2.3'></a>\n",
    "<h3>&sect;2.3: Songteksten</h3>"
   ]
  },
  {
   "cell_type": "code",
   "execution_count": 4,
   "id": "fbf42b17",
   "metadata": {
    "scrolled": false
   },
   "outputs": [
    {
     "data": {
      "text/html": [
       "<div>\n",
       "<style scoped>\n",
       "    .dataframe tbody tr th:only-of-type {\n",
       "        vertical-align: middle;\n",
       "    }\n",
       "\n",
       "    .dataframe tbody tr th {\n",
       "        vertical-align: top;\n",
       "    }\n",
       "\n",
       "    .dataframe thead th {\n",
       "        text-align: right;\n",
       "    }\n",
       "</style>\n",
       "<table border=\"1\" class=\"dataframe\">\n",
       "  <thead>\n",
       "    <tr style=\"text-align: right;\">\n",
       "      <th></th>\n",
       "      <th>filename</th>\n",
       "      <th>lyrics</th>\n",
       "      <th>genre</th>\n",
       "    </tr>\n",
       "  </thead>\n",
       "  <tbody>\n",
       "    <tr>\n",
       "      <th>0</th>\n",
       "      <td>blues.00001.wav</td>\n",
       "      <td>I’m in the Mood Lyrics[Verse 1]\\nI'm in the mo...</td>\n",
       "      <td>blues</td>\n",
       "    </tr>\n",
       "    <tr>\n",
       "      <th>1</th>\n",
       "      <td>blues.00002.wav</td>\n",
       "      <td>(John Lee Hooker)\\nThink twice before you go, ...</td>\n",
       "      <td>blues</td>\n",
       "    </tr>\n",
       "    <tr>\n",
       "      <th>2</th>\n",
       "      <td>blues.00003.wav</td>\n",
       "      <td>[Intro, Spoken]\\n...A little thing I'm going t...</td>\n",
       "      <td>blues</td>\n",
       "    </tr>\n",
       "    <tr>\n",
       "      <th>3</th>\n",
       "      <td>blues.00005.wav</td>\n",
       "      <td>Sugar mama, sugar mama, sugar mama please come...</td>\n",
       "      <td>blues</td>\n",
       "    </tr>\n",
       "    <tr>\n",
       "      <th>4</th>\n",
       "      <td>blues.00006.wav</td>\n",
       "      <td>My baby left me this morning\\nPeople just arou...</td>\n",
       "      <td>blues</td>\n",
       "    </tr>\n",
       "    <tr>\n",
       "      <th>...</th>\n",
       "      <td>...</td>\n",
       "      <td>...</td>\n",
       "      <td>...</td>\n",
       "    </tr>\n",
       "    <tr>\n",
       "      <th>532</th>\n",
       "      <td>rock.00094.wav</td>\n",
       "      <td>[Chorus]\\nDon’t stop\\nIsn’t it funny how you s...</td>\n",
       "      <td>rock</td>\n",
       "    </tr>\n",
       "    <tr>\n",
       "      <th>533</th>\n",
       "      <td>rock.00096.wav</td>\n",
       "      <td>[Verse 1]\\nHer hair, soft drifted snow\\nDeath ...</td>\n",
       "      <td>rock</td>\n",
       "    </tr>\n",
       "    <tr>\n",
       "      <th>534</th>\n",
       "      <td>rock.00097.wav</td>\n",
       "      <td>[Verse 1]\\nYour knuckles whiten on the wheel\\n...</td>\n",
       "      <td>rock</td>\n",
       "    </tr>\n",
       "    <tr>\n",
       "      <th>535</th>\n",
       "      <td>rock.00098.wav</td>\n",
       "      <td>[Verse 1]\\nYou know it\\nYou show it\\nAnd the t...</td>\n",
       "      <td>rock</td>\n",
       "    </tr>\n",
       "    <tr>\n",
       "      <th>536</th>\n",
       "      <td>rock.00099.wav</td>\n",
       "      <td>[Verse 1]\\nA girl consumed by fire\\nWe all kno...</td>\n",
       "      <td>rock</td>\n",
       "    </tr>\n",
       "  </tbody>\n",
       "</table>\n",
       "<p>537 rows × 3 columns</p>\n",
       "</div>"
      ],
      "text/plain": [
       "            filename                                             lyrics  genre\n",
       "0    blues.00001.wav  I’m in the Mood Lyrics[Verse 1]\\nI'm in the mo...  blues\n",
       "1    blues.00002.wav  (John Lee Hooker)\\nThink twice before you go, ...  blues\n",
       "2    blues.00003.wav  [Intro, Spoken]\\n...A little thing I'm going t...  blues\n",
       "3    blues.00005.wav  Sugar mama, sugar mama, sugar mama please come...  blues\n",
       "4    blues.00006.wav  My baby left me this morning\\nPeople just arou...  blues\n",
       "..               ...                                                ...    ...\n",
       "532   rock.00094.wav  [Chorus]\\nDon’t stop\\nIsn’t it funny how you s...   rock\n",
       "533   rock.00096.wav  [Verse 1]\\nHer hair, soft drifted snow\\nDeath ...   rock\n",
       "534   rock.00097.wav  [Verse 1]\\nYour knuckles whiten on the wheel\\n...   rock\n",
       "535   rock.00098.wav  [Verse 1]\\nYou know it\\nYou show it\\nAnd the t...   rock\n",
       "536   rock.00099.wav  [Verse 1]\\nA girl consumed by fire\\nWe all kno...   rock\n",
       "\n",
       "[537 rows x 3 columns]"
      ]
     },
     "execution_count": 4,
     "metadata": {},
     "output_type": "execute_result"
    }
   ],
   "source": [
    "tekst = pd.read_csv(\"train.csv\")\n",
    "tekst"
   ]
  },
  {
   "cell_type": "markdown",
   "id": "d4cac635",
   "metadata": {},
   "source": [
    "De kolommen bevatten het volgende:\n",
    "- filename: De bestandsnaam wat koppelt aan de bestanden die aan de audio's verbonden zijn. LET OP: Bij de train dataset staan de genres in de naam van de bestanden, bij de audiobestanden staat in de plek van de genres het woord \"train\".\n",
    "- lyrics: De songtekst die verbonden is aan het lied uit filename\n",
    "- genre: Het genre van het lied die verbonden is aan het lied uit de filename"
   ]
  },
  {
   "cell_type": "code",
   "execution_count": 17,
   "id": "3fa270fa",
   "metadata": {},
   "outputs": [
    {
     "data": {
      "text/plain": [
       "filename    0\n",
       "lyrics      0\n",
       "genre       0\n",
       "dtype: int64"
      ]
     },
     "execution_count": 17,
     "metadata": {},
     "output_type": "execute_result"
    }
   ],
   "source": [
    "tekst.isna().sum()"
   ]
  },
  {
   "cell_type": "markdown",
   "id": "bd85d751",
   "metadata": {},
   "source": [
    "Er zijn geen missende waardes in de dataset."
   ]
  },
  {
   "cell_type": "code",
   "execution_count": 18,
   "id": "b34ad24f",
   "metadata": {},
   "outputs": [
    {
     "data": {
      "text/plain": [
       "rock       79\n",
       "hiphop     73\n",
       "pop        73\n",
       "country    72\n",
       "disco      68\n",
       "metal      64\n",
       "reggae     64\n",
       "blues      44\n",
       "Name: genre, dtype: int64"
      ]
     },
     "execution_count": 18,
     "metadata": {},
     "output_type": "execute_result"
    }
   ],
   "source": [
    "tekst[\"genre\"].value_counts()"
   ]
  },
  {
   "cell_type": "code",
   "execution_count": 19,
   "id": "26fcbe60",
   "metadata": {},
   "outputs": [
    {
     "data": {
      "image/png": "[encoded data removed]",
      "text/plain": [
       "<Figure size 1000x600 with 1 Axes>"
      ]
     },
     "metadata": {},
     "output_type": "display_data"
    }
   ],
   "source": [
    "genres = tekst[\"genre\"].value_counts().index\n",
    "aantallen = tekst[\"genre\"].value_counts().values\n",
    "\n",
    "plt.figure(figsize=(10, 6))\n",
    "plt.bar(genres, aantallen, color='skyblue')\n",
    "plt.title('Amount of songs per genre')\n",
    "plt.xlabel('Genre')\n",
    "plt.ylabel('Amount of songs')\n",
    "plt.xticks(rotation=45, ha='right')\n",
    "plt.tight_layout()\n",
    "plt.show()"
   ]
  },
  {
   "cell_type": "markdown",
   "id": "0987ef8d",
   "metadata": {},
   "source": [
    "In de dataset zitten in totaal 8 genres, waarvan de data niet helemaal goed is verdeeld. Zo zie je dat de genres rock, hiphop, pop en country ongeveer even veel liedjes heeft van ronde de 75. Het genre blues heeft echter maar 44 liedjes, dat is minder dan de helft, dus hopelijk zal dit niet voor problemen zorgen tijdens het trainen van de modelen."
   ]
  },
  {
   "cell_type": "code",
   "execution_count": 20,
   "id": "3d7aa7d9",
   "metadata": {
    "scrolled": false
   },
   "outputs": [
    {
     "data": {
      "text/html": [
       "<div>\n",
       "<style scoped>\n",
       "    .dataframe tbody tr th:only-of-type {\n",
       "        vertical-align: middle;\n",
       "    }\n",
       "\n",
       "    .dataframe tbody tr th {\n",
       "        vertical-align: top;\n",
       "    }\n",
       "\n",
       "    .dataframe thead th {\n",
       "        text-align: right;\n",
       "    }\n",
       "</style>\n",
       "<table border=\"1\" class=\"dataframe\">\n",
       "  <thead>\n",
       "    <tr style=\"text-align: right;\">\n",
       "      <th></th>\n",
       "      <th>filename</th>\n",
       "      <th>lyrics</th>\n",
       "      <th>genre</th>\n",
       "      <th>lyrics_length</th>\n",
       "    </tr>\n",
       "  </thead>\n",
       "  <tbody>\n",
       "    <tr>\n",
       "      <th>0</th>\n",
       "      <td>blues.00001.wav</td>\n",
       "      <td>I’m in the Mood Lyrics[Verse 1]\\nI'm in the mo...</td>\n",
       "      <td>blues</td>\n",
       "      <td>706</td>\n",
       "    </tr>\n",
       "    <tr>\n",
       "      <th>1</th>\n",
       "      <td>blues.00002.wav</td>\n",
       "      <td>(John Lee Hooker)\\nThink twice before you go, ...</td>\n",
       "      <td>blues</td>\n",
       "      <td>755</td>\n",
       "    </tr>\n",
       "    <tr>\n",
       "      <th>2</th>\n",
       "      <td>blues.00003.wav</td>\n",
       "      <td>[Intro, Spoken]\\n...A little thing I'm going t...</td>\n",
       "      <td>blues</td>\n",
       "      <td>1456</td>\n",
       "    </tr>\n",
       "    <tr>\n",
       "      <th>3</th>\n",
       "      <td>blues.00005.wav</td>\n",
       "      <td>Sugar mama, sugar mama, sugar mama please come...</td>\n",
       "      <td>blues</td>\n",
       "      <td>1318</td>\n",
       "    </tr>\n",
       "    <tr>\n",
       "      <th>4</th>\n",
       "      <td>blues.00006.wav</td>\n",
       "      <td>My baby left me this morning\\nPeople just arou...</td>\n",
       "      <td>blues</td>\n",
       "      <td>713</td>\n",
       "    </tr>\n",
       "    <tr>\n",
       "      <th>...</th>\n",
       "      <td>...</td>\n",
       "      <td>...</td>\n",
       "      <td>...</td>\n",
       "      <td>...</td>\n",
       "    </tr>\n",
       "    <tr>\n",
       "      <th>532</th>\n",
       "      <td>rock.00094.wav</td>\n",
       "      <td>[Chorus]\\nDon’t stop\\nIsn’t it funny how you s...</td>\n",
       "      <td>rock</td>\n",
       "      <td>793</td>\n",
       "    </tr>\n",
       "    <tr>\n",
       "      <th>533</th>\n",
       "      <td>rock.00096.wav</td>\n",
       "      <td>[Verse 1]\\nHer hair, soft drifted snow\\nDeath ...</td>\n",
       "      <td>rock</td>\n",
       "      <td>1155</td>\n",
       "    </tr>\n",
       "    <tr>\n",
       "      <th>534</th>\n",
       "      <td>rock.00097.wav</td>\n",
       "      <td>[Verse 1]\\nYour knuckles whiten on the wheel\\n...</td>\n",
       "      <td>rock</td>\n",
       "      <td>1214</td>\n",
       "    </tr>\n",
       "    <tr>\n",
       "      <th>535</th>\n",
       "      <td>rock.00098.wav</td>\n",
       "      <td>[Verse 1]\\nYou know it\\nYou show it\\nAnd the t...</td>\n",
       "      <td>rock</td>\n",
       "      <td>1002</td>\n",
       "    </tr>\n",
       "    <tr>\n",
       "      <th>536</th>\n",
       "      <td>rock.00099.wav</td>\n",
       "      <td>[Verse 1]\\nA girl consumed by fire\\nWe all kno...</td>\n",
       "      <td>rock</td>\n",
       "      <td>1439</td>\n",
       "    </tr>\n",
       "  </tbody>\n",
       "</table>\n",
       "<p>537 rows × 4 columns</p>\n",
       "</div>"
      ],
      "text/plain": [
       "            filename                                             lyrics  \\\n",
       "0    blues.00001.wav  I’m in the Mood Lyrics[Verse 1]\\nI'm in the mo...   \n",
       "1    blues.00002.wav  (John Lee Hooker)\\nThink twice before you go, ...   \n",
       "2    blues.00003.wav  [Intro, Spoken]\\n...A little thing I'm going t...   \n",
       "3    blues.00005.wav  Sugar mama, sugar mama, sugar mama please come...   \n",
       "4    blues.00006.wav  My baby left me this morning\\nPeople just arou...   \n",
       "..               ...                                                ...   \n",
       "532   rock.00094.wav  [Chorus]\\nDon’t stop\\nIsn’t it funny how you s...   \n",
       "533   rock.00096.wav  [Verse 1]\\nHer hair, soft drifted snow\\nDeath ...   \n",
       "534   rock.00097.wav  [Verse 1]\\nYour knuckles whiten on the wheel\\n...   \n",
       "535   rock.00098.wav  [Verse 1]\\nYou know it\\nYou show it\\nAnd the t...   \n",
       "536   rock.00099.wav  [Verse 1]\\nA girl consumed by fire\\nWe all kno...   \n",
       "\n",
       "     genre  lyrics_length  \n",
       "0    blues            706  \n",
       "1    blues            755  \n",
       "2    blues           1456  \n",
       "3    blues           1318  \n",
       "4    blues            713  \n",
       "..     ...            ...  \n",
       "532   rock            793  \n",
       "533   rock           1155  \n",
       "534   rock           1214  \n",
       "535   rock           1002  \n",
       "536   rock           1439  \n",
       "\n",
       "[537 rows x 4 columns]"
      ]
     },
     "execution_count": 20,
     "metadata": {},
     "output_type": "execute_result"
    }
   ],
   "source": [
    "tekst['lyrics_length'] = tekst['lyrics'].apply(lambda x: sum(len(line) for line in x))\n",
    "tekst"
   ]
  },
  {
   "cell_type": "markdown",
   "id": "8d9e3b5d",
   "metadata": {},
   "source": [
    "Om te kunnen kijken op welke plekken er nog meer onderscheid is tussen de genres berekenen wij de lengte van een songtekst. Zo kunnen wij berekenen welk genre gemiddeld het meeste aantal woorden gebruikt in hun teksten en zo misschien betere voorspellingen kan doen."
   ]
  },
  {
   "cell_type": "code",
   "execution_count": 21,
   "id": "3828f72b",
   "metadata": {},
   "outputs": [
    {
     "data": {
      "text/plain": [
       "genre\n",
       "blues       893.704545\n",
       "country    2174.333333\n",
       "disco      2699.058824\n",
       "hiphop     4677.986301\n",
       "metal      4417.203125\n",
       "pop        2312.410959\n",
       "reggae     1638.734375\n",
       "rock       1274.594937\n",
       "Name: lyrics_length, dtype: float64"
      ]
     },
     "execution_count": 21,
     "metadata": {},
     "output_type": "execute_result"
    }
   ],
   "source": [
    "tekst_lens = tekst.groupby(\"genre\")[\"lyrics_length\"].mean()\n",
    "tekst_lens"
   ]
  },
  {
   "cell_type": "code",
   "execution_count": 22,
   "id": "5d875b20",
   "metadata": {},
   "outputs": [
    {
     "data": {
      "image/png": "[encoded data removed]",
      "text/plain": [
       "<Figure size 1000x600 with 1 Axes>"
      ]
     },
     "metadata": {},
     "output_type": "display_data"
    }
   ],
   "source": [
    "sorted_df = tekst_lens.sort_values(ascending=False)\n",
    "\n",
    "plt.figure(figsize=(10, 6))\n",
    "plt.bar(sorted_df.index, sorted_df.values, color='skyblue')\n",
    "plt.title('Length of Texts by Genre')\n",
    "plt.xlabel('Genre')\n",
    "plt.ylabel('Length')\n",
    "plt.xticks(rotation=45, ha='right')\n",
    "plt.tight_layout()\n",
    "plt.show()"
   ]
  },
  {
   "cell_type": "markdown",
   "id": "ab675e59",
   "metadata": {},
   "source": [
    "Wanneer er gekeken wordt naar de gemiddelde lengtes van de teksten per genre valt het meteen op dat er een stuk meer tekst zit in liedjes met het genre hiphop en pop dan in liedjes als reggae, rock en blues. Het is goed om te zien dat hier zo'n groot verschil in zit, omdat dit hoop geeft op de voorspellingen die uiteindelijk gemaakt moeten worden."
   ]
  },
  {
   "cell_type": "code",
   "execution_count": 23,
   "id": "60efcbe7",
   "metadata": {},
   "outputs": [],
   "source": [
    "def top_5_common_words(df):\n",
    "    \"\"\"\n",
    "    Find the top 5 most common words in the lyrics for each genre in the dataframe.\n",
    "\n",
    "    Parameters:\n",
    "    -----------\n",
    "    df (DataFrame): A pandas DataFrame containing 'genre' and 'lyrics' columns.\n",
    "\n",
    "    Returns:\n",
    "    --------\n",
    "    dict: A dictionary where keys are genres and values are lists of the top 5 most common words\n",
    "        in the lyrics associated with each genre.\n",
    "    \"\"\"\n",
    "    top_5_per_genre = {}\n",
    "\n",
    "    for genre, text in zip(df['genre'], df['lyrics']):\n",
    "        words = text.lower().split()\n",
    "        words = [word.strip('.,!?;:\"()[]{}') for word in words]\n",
    "\n",
    "        # Top 5 meest voorkomende woorden per genre\n",
    "        top_5_words = Counter(words).most_common(5)\n",
    "        top_5_per_genre[genre] = [word for word, freq in top_5_words]\n",
    "\n",
    "    return top_5_per_genre"
   ]
  },
  {
   "cell_type": "code",
   "execution_count": 24,
   "id": "35f51eed",
   "metadata": {
    "scrolled": true
   },
   "outputs": [
    {
     "name": "stdout",
     "output_type": "stream",
     "text": [
      "De meest voorkomende woorden in het genre 'blues' zijn: [\"i'm\", 'your', 'iceman', 'my', 'baby']\n",
      "De meest voorkomende woorden in het genre 'country' zijn: ['to', 'this', 'we', 'be', 'the']\n",
      "De meest voorkomende woorden in het genre 'disco' zijn: ['hey', 'he', 'was', 'a', 'the']\n",
      "De meest voorkomende woorden in het genre 'hiphop' zijn: ['the', 'fight', 'power', 'to', 'you']\n",
      "De meest voorkomende woorden in het genre 'metal' zijn: ['the', 'on', 'yeah', 'come', 'a']\n",
      "De meest voorkomende woorden in het genre 'pop' zijn: ['do', 'you', 'be', 'baby', 'always']\n",
      "De meest voorkomende woorden in het genre 'reggae' zijn: ['capone', 'al', \"don't\", 'my', 'name']\n",
      "De meest voorkomende woorden in het genre 'rock' zijn: ['the', 'this', 'is', 'one', 'for']\n"
     ]
    }
   ],
   "source": [
    "most_common = top_5_common_words(tekst)\n",
    "for genre, common in most_common.items():\n",
    "    print(f\"De meest voorkomende woorden in het genre '{genre}' zijn: {common}\")"
   ]
  },
  {
   "cell_type": "markdown",
   "id": "c3394bb9",
   "metadata": {},
   "source": [
    "Als laatste onderscheid dat wij willen maken kijken wij nog naar de top 5 van de meest voorkomende woorden per genre. Hieruit kan niet een heel groot onderscheid gemaakt worden, omdat de top 5 bestaat uit random, veel voorkomende woorden en je ziet woorden als \"the\", \"do\"/\"don't\", \"be\" in meerdere teksten terug komen. Daarom verwachten wij niet dat het model met enkel de woorden goede voorspellingen kan maken.\n",
    "\n",
    "https://chat.openai.com/c/bafd8dfa-3131-44be-a5da-6483beeb7f48"
   ]
  },
  {
   "cell_type": "markdown",
   "id": "a212ccc3",
   "metadata": {},
   "source": [
    "<a name='2.4'></a>\n",
    "<h3>&sect;2.4: Conclusie EDA</h3>"
   ]
  },
  {
   "cell_type": "markdown",
   "id": "16fe968e",
   "metadata": {},
   "source": [
    "Uit onze EDA zijn een aantal belangrijke punten naar boven gekomen. Zo weten wij dat ieder audio bestand ongeveer 30 seconden lang is. Dat is fijn wanneer wij met de data moeten gaan modelleren, omdat het dan een stuk sneller gaat dan met audio bestanden van 30 seconden. Daarnaast zijn wij er achter gekomen dat er een groot verschil is in de genres wanneer er gekeken wordt naar de lengte van de teksten van een lied. Gemiddeld heeft een hiphop nummer meer tekst van een blues nummer. Deze informatie laat ons geloven dat een model relatief goed kan voorspellen met tekst data als deze de lengte van de teksten mee neemt tijdens het trainen. Verder weten wij nu ook hoe veel genres in de dataset zitten, wat helpt bij het maken van een model. Zo weten wij precies wat de laatste (output) laag van ons model moet zijn. Om de data nog beter voor te bereiden op het trainen zijn er nog een aantal toevoegingen die gedaan kunnen worden om meer duidelijke verschillen te kunnen zien in de data. Deze voegen wij toe in het volgende hoofdstuk waar wij ook uiteindelijk de data gaan trainen en onze eerste voorspellingen gaan maken."
   ]
  },
  {
   "cell_type": "markdown",
   "id": "5b7458f8",
   "metadata": {},
   "source": [
    "[Back to the top](#start)\n",
    "<a name='3.0'></a>\n",
    "\n",
    "<div style=\"background-color:#216375; text-align:center; vertical-align:middle; padding:10px 0; margin-top:5px; margin-bottom:5px\">\n",
    "        <h2 style=\"color:white\"><strong>H3: LSTM voor audioclips</strong></h2>\n",
    "</div>"
   ]
  },
  {
   "cell_type": "markdown",
   "id": "fcad5a30",
   "metadata": {},
   "source": [
    "<a name='3.1'></a>\n",
    "<h3>&sect;3.1: Feature engineering</h3>"
   ]
  },
  {
   "cell_type": "markdown",
   "id": "99788852",
   "metadata": {},
   "source": [
    "Voor het voorbereiden van de data hebben wij insprantie gehaald uit de lesopdracht van week 7, les 1 (LSTM_voor_timeseries_data_–_classificatie_van_audioclips, 2024)"
   ]
  },
  {
   "cell_type": "code",
   "execution_count": 25,
   "id": "f018200d",
   "metadata": {},
   "outputs": [
    {
     "name": "stdout",
     "output_type": "stream",
     "text": [
      "Shape of an audio sample: (661500,)\n"
     ]
    }
   ],
   "source": [
    "for audio_batch, label_batch in train_ds.take(1):\n",
    "    print(\"Shape of an audio sample:\", audio_batch[0].shape)"
   ]
  },
  {
   "cell_type": "code",
   "execution_count": 26,
   "id": "a000b05b",
   "metadata": {},
   "outputs": [],
   "source": [
    "def get_spectrogram(waveform):\n",
    "    \"\"\"\n",
    "    Convert a waveform into a spectrogram representation.\n",
    "\n",
    "    Parameters:\n",
    "    -----------\n",
    "    waveform (Tensor): The input audio waveform.\n",
    "\n",
    "    Returns:\n",
    "    --------\n",
    "    Tensor: The spectrogram representation of the input waveform.\n",
    "    \"\"\"\n",
    "    spectrogram = tf.signal.stft(waveform, frame_length=512, frame_step=256)\n",
    "    spectrogram = tf.abs(spectrogram)\n",
    "    spectrogram = spectrogram[..., tf.newaxis]\n",
    "    return spectrogram"
   ]
  },
  {
   "cell_type": "markdown",
   "id": "df16bb2a",
   "metadata": {},
   "source": [
    "Als eerste stap in het feature engineeren maken wij een functie aan die de spectrogram van ieder audio bestand berekend. Dit is een feature die veel kan zeggen over een bepaald audio bestand. In een andere paragraaf wordt er dieper ingegaan op de specrogrammen en de reden waarom wij deze hebben gekozen om toe te voegen aan onze data."
   ]
  },
  {
   "cell_type": "code",
   "execution_count": 27,
   "id": "4da5ac83",
   "metadata": {},
   "outputs": [],
   "source": [
    "def make_spec_ds(ds):\n",
    "    def map_func(audio, *args):\n",
    "        \"\"\"\n",
    "        Map function to convert audio samples to spectrograms.\n",
    "\n",
    "        Parameters:\n",
    "        -----------\n",
    "        audio: Audio waveform.\n",
    "        *args: Additional arguments, if any.\n",
    "\n",
    "        Returns:\n",
    "        --------\n",
    "        tuple or Tensor: If additional arguments are provided, returns a tuple containing\n",
    "            the spectrogram and the first additional argument. Otherwise, returns just the spectrogram.\n",
    "        \"\"\"\n",
    "        spectrogram = get_spectrogram(audio)\n",
    "        if len(args) > 0:\n",
    "            return spectrogram, args[0]\n",
    "        else:\n",
    "            return spectrogram\n",
    "    return ds.map(\n",
    "        map_func,\n",
    "        num_parallel_calls=tf.data.AUTOTUNE)"
   ]
  },
  {
   "cell_type": "markdown",
   "id": "ee24a96c",
   "metadata": {},
   "source": [
    "Na het berekenen van de spectrogrammen bij de data moeten ze worden toegewezen aan de data. Dat gebeurd met de functie die hierboven is gedefinieerd."
   ]
  },
  {
   "cell_type": "code",
   "execution_count": 28,
   "id": "d5dfea56",
   "metadata": {},
   "outputs": [],
   "source": [
    "train_spectrogram_ds = make_spec_ds(train_ds)\n",
    "val_spectrogram_ds = make_spec_ds(val_ds)\n",
    "test_spectrogram_ds = make_spec_ds(test_ds)\n",
    "test_spectrogram_ds_kaggle = make_spec_ds(test_ds_kaggle)"
   ]
  },
  {
   "cell_type": "code",
   "execution_count": 29,
   "id": "31dcbf12",
   "metadata": {},
   "outputs": [],
   "source": [
    "train_spectrogram_ds =train_spectrogram_ds.cache().prefetch(buffer_size=tf.data.AUTOTUNE)\n",
    "val_spectrogram_ds = val_spectrogram_ds.cache().prefetch(buffer_size=tf.data.AUTOTUNE)\n",
    "test_spectrogram_ds = test_spectrogram_ds.cache().prefetch(buffer_size=tf.data.AUTOTUNE)\n",
    "test_spectrogram_ds_kaggle = test_spectrogram_ds_kaggle.cache().prefetch(buffer_size=tf.data.AUTOTUNE)"
   ]
  },
  {
   "cell_type": "code",
   "execution_count": 30,
   "id": "607417a4",
   "metadata": {},
   "outputs": [
    {
     "name": "stdout",
     "output_type": "stream",
     "text": [
      "Shape of an audio sample: (2582, 257, 1)\n"
     ]
    }
   ],
   "source": [
    "for audio_batch, label_batch in train_spectrogram_ds.take(1):\n",
    "    print(\"Shape of an audio sample:\", audio_batch[0].shape)"
   ]
  },
  {
   "cell_type": "markdown",
   "id": "25b91878",
   "metadata": {},
   "source": [
    "Na het maken van de functies moeten ze nog gebruikt worden. In de cellen hierboven worden eerst de spectrogrammen berekend van de audio bestanden. In de cel daaronder worden de waardes toegevoegd aan de data en als laatste wordt er weergeven hoe de data er uit ziet na het toevoegen van de spectrogrammen."
   ]
  },
  {
   "cell_type": "code",
   "execution_count": 31,
   "id": "fc5cf19c",
   "metadata": {},
   "outputs": [],
   "source": [
    "def spectrogram_to_mfcc(spectrograms, num_mel_bins=128, num_coefficients=20, sample_rate=16000):\n",
    "    \"\"\"\n",
    "    Convert a batch of spectrograms to a batch of 1D time series of MFCCs.\n",
    "\n",
    "    Parameters:\n",
    "    - spectrograms: A TensorFlow Tensor representing a batch of spectrograms with shape (batch_size, 311, 257, 1).\n",
    "    - num_mel_bins: Number of Mel bins to use.\n",
    "    - num_coefficients: Number of MFCC coefficients to return.\n",
    "    - sample_rate: Sample rate of the audio.\n",
    "\n",
    "    Returns:\n",
    "    - A TensorFlow Tensor containing the MFCCs with shape (batch_size, num_frames, num_coefficients).\n",
    "    \"\"\"\n",
    "    spectrograms = tf.squeeze(spectrograms, axis=-1)\n",
    "    stfts_to_mel_matrix = tf.signal.linear_to_mel_weight_matrix(\n",
    "        num_mel_bins=num_mel_bins,\n",
    "        num_spectrogram_bins=spectrograms.shape[-1],\n",
    "        sample_rate=sample_rate,\n",
    "        lower_edge_hertz=20.0,\n",
    "        upper_edge_hertz=sample_rate / 2)\n",
    "    mel_spectrograms = tf.tensordot(spectrograms, stfts_to_mel_matrix, 1)\n",
    "    \n",
    "    mel_spectrograms.set_shape(spectrograms.shape[:-1] + (num_mel_bins,))\n",
    "    log_mel_spectrograms = tf.math.log(mel_spectrograms + 1e-6)\n",
    "    mfccs = tf.signal.mfccs_from_log_mel_spectrograms(log_mel_spectrograms)[..., :num_coefficients]\n",
    "    return mfccs"
   ]
  },
  {
   "cell_type": "markdown",
   "id": "aa459293",
   "metadata": {},
   "source": [
    "Daarna kiezen wij er voor om nog een feature toe te voegen aan onze data, ook wel de MFCC's. Meer uitleg over de reden van de keuze van deze feature en uitleg wat deze feature inhoudt komt in een latere paragraaf aan bot. In de functie hierboven maken wij alleen nog maar de waardes van de features aan."
   ]
  },
  {
   "cell_type": "code",
   "execution_count": 32,
   "id": "13e867e0",
   "metadata": {},
   "outputs": [],
   "source": [
    "def make_MFCC_ds(ds):\n",
    "    \"\"\"\n",
    "    Convert a spectrogram dataset into a dataset of Mel-frequency cepstral coefficients (MFCCs).\n",
    "\n",
    "    Parameters:\n",
    "    ds (tf.data.Dataset): The input spectrogram dataset.\n",
    "\n",
    "    Returns:\n",
    "    --------\n",
    "    tf.data.Dataset: The dataset of MFCCs.\n",
    "    \"\"\"\n",
    "    def map_func(spectrogram, *args):\n",
    "        mfcc = spectrogram_to_mfcc(spectrogram)\n",
    "        if len(args) > 0:\n",
    "            return mfcc, args[0]\n",
    "        else:\n",
    "            return mfcc\n",
    "    return ds.map(map_func, num_parallel_calls=tf.data.AUTOTUNE)"
   ]
  },
  {
   "cell_type": "markdown",
   "id": "6c46c260",
   "metadata": {},
   "source": [
    "Na het berekenen van de MFCC's moeten ze ook nog toegevoegd worden aan de data, wat gebeurd in de functie hierboven. "
   ]
  },
  {
   "cell_type": "code",
   "execution_count": 33,
   "id": "8371245f",
   "metadata": {},
   "outputs": [],
   "source": [
    "train_MFCC_ds = make_MFCC_ds(train_spectrogram_ds)\n",
    "val_MFCC_ds = make_MFCC_ds(val_spectrogram_ds)\n",
    "test_MFCC_ds = make_MFCC_ds(test_spectrogram_ds)\n",
    "test_MFCC_ds_kaggle = make_MFCC_ds(test_spectrogram_ds_kaggle)"
   ]
  },
  {
   "cell_type": "code",
   "execution_count": 34,
   "id": "a14a9321",
   "metadata": {},
   "outputs": [],
   "source": [
    "for example_MFCC, example_MFCC_labels in train_MFCC_ds.take(1):\n",
    "    break"
   ]
  },
  {
   "cell_type": "code",
   "execution_count": 35,
   "id": "290cb220",
   "metadata": {
    "scrolled": true
   },
   "outputs": [
    {
     "data": {
      "text/plain": [
       "<tf.Tensor: shape=(8, 2582, 20), dtype=float32, numpy=\n",
       "array([[[ 2.96543159e+01, -4.47349787e+00, -5.18117547e-01, ...,\n",
       "         -2.02537560e+00, -1.51318312e+00, -1.69813335e-01],\n",
       "        [ 2.40344658e+01, -3.87670422e+00,  9.84676421e-01, ...,\n",
       "          1.81373060e-01, -7.94304252e-01, -1.53001559e+00],\n",
       "        [ 2.00727959e+01, -3.87621570e+00,  8.58344138e-01, ...,\n",
       "          3.59606482e-02, -1.27561212e+00, -4.07347083e-01],\n",
       "        ...,\n",
       "        [ 9.33076668e+00, -8.64122772e+00,  3.08272624e+00, ...,\n",
       "          8.78024578e-01,  9.05242562e-01, -9.42370772e-01],\n",
       "        [ 1.05039549e+01, -1.02095919e+01,  1.28495908e+00, ...,\n",
       "          3.50657105e-01, -7.64176369e-01, -1.05844760e+00],\n",
       "        [ 1.19136314e+01, -9.52755165e+00,  2.05389357e+00, ...,\n",
       "          6.38983473e-02, -1.03160214e+00, -7.13330150e-01]],\n",
       "\n",
       "       [[-3.97491150e+01,  7.82315159e+00, -2.13192292e-02, ...,\n",
       "          4.70582128e-01, -4.25013870e-01,  1.31164157e+00],\n",
       "        [-3.13124771e+01,  6.43072367e+00, -1.02072990e+00, ...,\n",
       "          1.64961386e+00,  4.07134235e-01,  1.74802113e+00],\n",
       "        [-2.43981819e+01,  4.03708315e+00, -1.40265882e+00, ...,\n",
       "          1.52611089e+00,  1.99622571e-01,  1.50346613e+00],\n",
       "        ...,\n",
       "        [-1.59703608e+01,  1.13141451e+01, -5.47847939e+00, ...,\n",
       "          1.00234866e+00, -3.55660990e-02,  6.94103181e-01],\n",
       "        [-2.07386112e+01,  1.04745483e+01, -3.03220725e+00, ...,\n",
       "          1.77638459e+00, -3.98594618e-01,  1.29008162e+00],\n",
       "        [-2.33217487e+01,  9.80924702e+00, -2.62815416e-01, ...,\n",
       "          2.03194690e+00,  2.35215396e-01,  1.60624707e+00]],\n",
       "\n",
       "       [[-1.04046288e+01,  8.86257267e+00,  6.87330914e+00, ...,\n",
       "         -1.12953162e+00,  8.17754686e-01,  8.00951302e-01],\n",
       "        [-1.43691053e+01,  9.67329502e+00,  7.55414867e+00, ...,\n",
       "         -1.65691066e+00,  1.03477907e+00,  1.01055408e+00],\n",
       "        [-1.33619728e+01,  6.78977013e+00,  6.34977627e+00, ...,\n",
       "         -8.16161036e-02,  8.00041080e-01,  1.08368015e+00],\n",
       "        ...,\n",
       "        [-1.04129648e+00,  2.08912659e+00, -2.80243373e+00, ...,\n",
       "          5.61648190e-01,  5.04073501e-01,  6.64493084e-01],\n",
       "        [-2.11282206e+00,  2.44298768e+00, -3.69420958e+00, ...,\n",
       "         -4.14717197e-03, -6.26151741e-01, -8.72047424e-01],\n",
       "        [-4.06309509e+00,  1.74937642e+00, -4.70430183e+00, ...,\n",
       "         -6.22755885e-01, -6.20077312e-01, -1.04605770e+00]],\n",
       "\n",
       "       ...,\n",
       "\n",
       "       [[-2.13872108e+01,  2.47023296e+00, -6.43480158e+00, ...,\n",
       "          1.62118268e+00, -5.96107483e-01,  3.36528957e-01],\n",
       "        [-2.15283775e+01,  1.57753015e+00, -5.38229895e+00, ...,\n",
       "          1.14973700e+00, -1.91965294e+00, -8.13181400e-02],\n",
       "        [-2.23185787e+01,  7.45117962e-02, -6.36205101e+00, ...,\n",
       "         -7.20822811e-01, -2.24262786e+00, -1.15081549e-01],\n",
       "        ...,\n",
       "        [-2.20155926e+01,  1.43458462e+00, -4.73632717e+00, ...,\n",
       "          2.12712312e+00, -7.42780089e-01,  1.09758902e+00],\n",
       "        [-2.33005486e+01,  7.53088176e-01, -6.20995665e+00, ...,\n",
       "          2.10152864e-01, -1.46926057e+00,  3.91981423e-01],\n",
       "        [-2.32735977e+01,  5.10503292e-01, -6.80379009e+00, ...,\n",
       "          3.24576795e-01, -8.20220649e-01,  1.20196390e+00]],\n",
       "\n",
       "       [[-1.54257050e+01,  1.25246687e+01, -9.12991333e+00, ...,\n",
       "         -1.06982613e+00, -1.71833396e+00, -3.76783252e-01],\n",
       "        [-1.09305162e+01,  1.03883915e+01, -1.10888567e+01, ...,\n",
       "         -7.71138668e-02, -1.70064855e+00,  8.82181048e-01],\n",
       "        [-1.02963696e+01,  1.10442362e+01, -1.13842754e+01, ...,\n",
       "         -8.22273195e-01, -1.71170199e+00,  7.03480780e-01],\n",
       "        ...,\n",
       "        [-2.18765182e+01,  8.65935040e+00, -7.57920837e+00, ...,\n",
       "          7.72174299e-01,  1.63715994e+00,  2.45857310e+00],\n",
       "        [-2.13342476e+01,  7.90454674e+00, -7.17901707e+00, ...,\n",
       "          1.30875516e+00,  2.05903339e+00,  1.82210732e+00],\n",
       "        [-2.48897934e+01,  8.17562580e+00, -6.05747223e+00, ...,\n",
       "          2.13215566e+00,  1.64006889e+00,  2.17608976e+00]],\n",
       "\n",
       "       [[-2.98177605e+01,  1.16858959e+01, -1.25846195e+01, ...,\n",
       "         -9.10655856e-01, -2.27537179e+00, -1.68786466e+00],\n",
       "        [-3.23151779e+01,  1.09734983e+01, -1.34223766e+01, ...,\n",
       "         -1.47691798e+00, -1.93308020e+00, -1.35927653e+00],\n",
       "        [-4.33203583e+01,  1.06981173e+01, -1.24999952e+01, ...,\n",
       "         -6.53421998e-01, -6.21259749e-01, -1.96471453e-01],\n",
       "        ...,\n",
       "        [-1.82414017e+01,  5.10811567e+00, -6.06608915e+00, ...,\n",
       "          8.58595848e-01, -1.38616860e-01,  1.15466726e+00],\n",
       "        [-2.14381866e+01,  4.38097191e+00, -6.20865583e+00, ...,\n",
       "          1.14552367e+00, -2.92273521e-01,  1.07232451e+00],\n",
       "        [-2.82686825e+01,  2.29806733e+00, -4.17762280e+00, ...,\n",
       "          9.30917919e-01, -9.42061067e-01,  1.30930638e+00]]],\n",
       "      dtype=float32)>"
      ]
     },
     "execution_count": 35,
     "metadata": {},
     "output_type": "execute_result"
    }
   ],
   "source": [
    "example_MFCC"
   ]
  },
  {
   "cell_type": "code",
   "execution_count": 36,
   "id": "8a618183",
   "metadata": {},
   "outputs": [],
   "source": [
    "train_MFCC_ds = train_MFCC_ds.cache().prefetch(buffer_size=tf.data.AUTOTUNE)\n",
    "val_MFCC_ds = val_MFCC_ds.cache().prefetch(buffer_size=tf.data.AUTOTUNE)\n",
    "test_MFCC_ds = test_MFCC_ds.cache().prefetch(buffer_size=tf.data.AUTOTUNE)\n",
    "test_MFCC_ds_kaggle = test_MFCC_ds_kaggle.cache().prefetch(buffer_size=tf.data.AUTOTUNE)"
   ]
  },
  {
   "cell_type": "code",
   "execution_count": 37,
   "id": "ec6c77f8",
   "metadata": {},
   "outputs": [
    {
     "name": "stdout",
     "output_type": "stream",
     "text": [
      "Shape of an audio sample: (2582, 20)\n"
     ]
    }
   ],
   "source": [
    "for audio_batch, label_batch in train_MFCC_ds.take(1):\n",
    "    print(\"Shape of an audio sample:\", audio_batch[0].shape)"
   ]
  },
  {
   "cell_type": "markdown",
   "id": "c1e2739d",
   "metadata": {},
   "source": [
    "In de cellen hierboven worden de twee functies van de MFCC's toegepast. Als eerste gebruiken wij de functie die de MFCC's bij de data berekend. Daarna voegen wij deze waardes toe aan de data zodat wi nu overblijven met een dataset van audio bestanden inclusief de spectrogrammen en de MFCC's. Ook maken wij de variabelen example_MFCC en example_MFCC_labels aan, om te kijke hoe de data er nu uit ziet. De shape hiervan wordt gebruikt als input shape van ons eerste model. Als laatste printen wij de shape van onze data hoe het er nu uitziet, na het toevoegen van de MFCC's."
   ]
  },
  {
   "cell_type": "markdown",
   "id": "00e0b8a0",
   "metadata": {},
   "source": [
    "<a name='3.2'></a>\n",
    "<h3>&sect;3.2: Het model</h3>"
   ]
  },
  {
   "cell_type": "code",
   "execution_count": 38,
   "id": "70f4168a",
   "metadata": {},
   "outputs": [
    {
     "name": "stdout",
     "output_type": "stream",
     "text": [
      "Model: \"sequential\"\n",
      "_________________________________________________________________\n",
      " Layer (type)                Output Shape              Param #   \n",
      "=================================================================\n",
      " bidirectional (Bidirection  (None, 2582, 128)         43520     \n",
      " al)                                                             \n",
      "                                                                 \n",
      " dropout (Dropout)           (None, 2582, 128)         0         \n",
      "                                                                 \n",
      " batch_normalization (Batch  (None, 2582, 128)         512       \n",
      " Normalization)                                                  \n",
      "                                                                 \n",
      " bidirectional_1 (Bidirecti  (None, 2582, 64)          41216     \n",
      " onal)                                                           \n",
      "                                                                 \n",
      " dropout_1 (Dropout)         (None, 2582, 64)          0         \n",
      "                                                                 \n",
      " batch_normalization_1 (Bat  (None, 2582, 64)          256       \n",
      " chNormalization)                                                \n",
      "                                                                 \n",
      " bidirectional_2 (Bidirecti  (None, 32)                10368     \n",
      " onal)                                                           \n",
      "                                                                 \n",
      " dropout_2 (Dropout)         (None, 32)                0         \n",
      "                                                                 \n",
      " batch_normalization_2 (Bat  (None, 32)                128       \n",
      " chNormalization)                                                \n",
      "                                                                 \n",
      " dense (Dense)               (None, 8)                 264       \n",
      "                                                                 \n",
      "=================================================================\n",
      "Total params: 96264 (376.03 KB)\n",
      "Trainable params: 95816 (374.28 KB)\n",
      "Non-trainable params: 448 (1.75 KB)\n",
      "_________________________________________________________________\n"
     ]
    }
   ],
   "source": [
    "input_shape = example_MFCC.shape[1:]\n",
    "\n",
    "model_lstm = models.Sequential([\n",
    "    layers.Input(shape=input_shape),\n",
    "    Bidirectional(LSTM(64, return_sequences=True, kernel_regularizer=regularizers.l2(0.01))),\n",
    "    Dropout(0.5),\n",
    "    BatchNormalization(),\n",
    "    Bidirectional(LSTM(32, return_sequences=True, kernel_regularizer=regularizers.l2(0.01))),\n",
    "    Dropout(0.5),\n",
    "    BatchNormalization(),\n",
    "    Bidirectional(LSTM(16, return_sequences=False, kernel_regularizer=regularizers.l2(0.01))),\n",
    "    Dropout(0.5),\n",
    "    BatchNormalization(),\n",
    "    Dense(8, activation='softmax')\n",
    "])\n",
    "model_lstm.summary()"
   ]
  },
  {
   "cell_type": "markdown",
   "id": "5ae46ffc",
   "metadata": {},
   "source": [
    "<a name='3.3'></a>\n",
    "<h3>&sect;3.3: Modelarchitectuur</h3>"
   ]
  },
  {
   "cell_type": "code",
   "execution_count": 39,
   "id": "69cc7406",
   "metadata": {},
   "outputs": [
    {
     "data": {
      "image/png": "[encoded data removed]",
      "text/plain": [
       "<IPython.core.display.Image object>"
      ]
     },
     "execution_count": 39,
     "metadata": {},
     "output_type": "execute_result"
    }
   ],
   "source": [
    "tf.keras.utils.plot_model(model_lstm, to_file='LSTM_audio.png', show_shapes=True, show_layer_names=True)"
   ]
  },
  {
   "cell_type": "markdown",
   "id": "f35e5ac9",
   "metadata": {},
   "source": [
    "<a name='3.4'></a>\n",
    "<h3>&sect;3.4: Stappen feature engineering</h3>"
   ]
  },
  {
   "cell_type": "markdown",
   "id": "6e0b4a1e",
   "metadata": {},
   "source": [
    "Voor het voorspellen van genres van een lied met audio data is het handig om een aantal features toe te voegen aan de data, zodat er meer data gebruikt wordt tijdens het trainen en er betere voorspellingen gedaan kunnen worden. Als eerst hebben wij er voor gekozen om spectorgrams toe te voegen aan onze audio bestanden. Een spectrogram is een visuele representatie van een audiobestand met 3 features. Als eerst heb je op de X-as de tijd van het bestand, op de y-as de frequentie van het audiobestand en de kleur geeft de amplitude aan van de audiobestanden. Deze kleur kan lichtere of donkere tonen aangeven wat dan ook aan geeft of er verschil is in de data. Door het toevoegen van spectrogrammen aan je trainingsdata kunnen er makkelijker patronen herkent worden wat uiteindelijk resulteert in betere voorspellingen (Seeing Sound: What Is A Spectrogram?, 2018).\n",
    "\n",
    "Naast het toevoegen van de spectrogrammen hebben wij er ook voor gekozen om de MFCC's van de audiobestanden toe te voegen aan de data. MFCC staat voor Mel-frequency cepstrum wat slaat op een groep features, vaak tussen de 10 en de 20, die de algemene vorm van de spectrale envelop beschrijven. Wij hebben er voor gekozen om 20 features toe te voegen, zodat er meer data gebruikt kan worden tijdens het trainen. Onze data bevatte eerst namelijk alleen de audiobestanden en de spectrogrammen. De MFCCs worden dan ook afgeleid uit de data van de spectrogrammen. (Deruty, 2022)\n",
    "\n",
    "Na creëren van alle functies voor het toevoegen van de nieuwe feautres worden ze gebruikt en hebben we een nieuwe dataset met een hoop nieuwe features dus kunnen helpen bij het correct voorspellen van de genres bij de nummers. Dit doen wij ook voor de uiteindelijke test data, zodat deze gebruikt kan worden om onze prestaties te testen op kaggle."
   ]
  },
  {
   "cell_type": "markdown",
   "id": "8099fe82",
   "metadata": {},
   "source": [
    "<a name='3.5'></a>\n",
    "<h3>&sect;3.5: Onderbouwing keuzes parameters</h3>"
   ]
  },
  {
   "cell_type": "markdown",
   "id": "b262d886",
   "metadata": {},
   "source": [
    "- Sequential: Om een LSTM model te maken beginnen we met het initialiseren van een Sequential model. Wij hebben er voor gekozen om een aantal features toe te voegen aan de data waardoor wij als input shape de shape gebruiken van de \"example_MFCC\" variabele. Hierin is de shape te vinden van de uiteindelijke trainingsdata.\n",
    "\n",
    "- Om een goed model te trainen is het goed om lagen te maken met neuronen met een even getal. Het beste is wanneer het getal van de volgende laag de helft is van de laag ervoor, omdat de data op deze manier het beste leert van de vorige data. Wij hebben er voor gekozen om een model te maken met 3 Bidirectional LSTM lagen. Een normale LSTM laag kijkt alleen naar één laag terug in het verleden terwijl een Bidirectional LSTM laag kijkt naar zowel één laag uit het verleden en één laag in de toekomst. Wij hebben er voor gekozen om deze laag te gebruiken, omdat het meer informatie gebruikt tijdens het trainen wat voor ons voordelig is. \n",
    "    - Lagen: Wij beginnen in de eerste laag met 64 neuronen, in de tweede laag met 32 neuronen en in de derde laag met 16 neuronen. Wij bouwen steeds af in het aantal neuronen zodat het model goed de patronen in de data kan leren. Wij beginnen bij de 64, omdat onze output laag uiteindelijk 8 genres moet kunnen voorspellen, wat weer de helft is van 16, waar we in de derde laag op uit komen. Als laatste hebben we aan deze LSTM lagen ook een regulizer toegevoegd. De regulizer die wij hebben toegevoegd is de L2, die gewichten van features richting de 0 brengt maar wel behoudt, wat goed is voor onze data, omdat wij niet veel data hebben, dus geen informatie willen verliezen. \n",
    "    - Dropout: Tussen elk van de Bidirectional LSTM lagen wordt er een dropout laag toegevoegd. Een dropout van 0.5 houdt in dat er tijdens het trainen 50 procent van de nodes, van die laag, wordt uitgezet en de nodes die uitvallen zijn random gekozen.\n",
    "    - Normalization: Naast het toevoegen van een dropout laag tussen alle Bidirectional LSTM lagen, wordt er ook een Batch Normalisatie toegevoegd tussen iedere laag. Hierin wordt de input data genormaliseerd waardoor het gemiddelde 0 is en de standaarddeviatie 1.\n",
    "    - Ouput laag: Om het model af te sluiten moet er een output laag aangemaakt worden die aangeeft hoeveel mogelijke uitkomsten het model zou moeten kunnen voorspellen. Voor de opdracht moeten wij genres voorspellen wat een totaal heeft van 8 genres. Daarom hebben wij een output laag van 8, met een activatiefunctie \"softmax\". Dit is de activatifunctie die gebruikt wordt wanneer er meerdere categorieën voorspeld moeten worden.\n",
    "   \n",
    "Na het toevoegen van al deze lagen aan het model kan het model getraind worden op onze data, die uiteindelijk gebruikt kan worden op de ongeziene data om de genres te voorspellen."
   ]
  },
  {
   "cell_type": "markdown",
   "id": "96f50f1d",
   "metadata": {},
   "source": [
    "<a name='3.6'></a>\n",
    "<h3>&sect;3.6: Geschikte loss functie en optimizer</h3>"
   ]
  },
  {
   "cell_type": "markdown",
   "id": "0c270cfb",
   "metadata": {},
   "source": [
    "Buiten het opstellen van het aantal lagen, aantal neuronen, activatie functies en het aantal epochs is het ook belangrijk om uit te zoeken welke loss functie en optimizer het best gebruikt kan worden voor ons model.\n",
    "\n",
    "- Loss functie: Voordat we een goede loss functie kunnen kiezen voor ons model is het als aller eerste belangrijk dat er gekeken wordt naar de opdracht. Voor dit portfolio is het de bedoeling om met de hulp van data voorspellingen te maken van een bepaald genre waar een liedje tot toe behoord. Het aantal genres dat wij hebben in onze train dataset is 8. Dat wilt zeggen dat wij bezig zijn met een classificatie taak waar 8 verschillende uitkomsten mogelijk zijn. Daarom kiezen wij er voor om gebruik te maken van de loss functie \"sparse categorical cross entropy\". De reden dat wij niet gewoon categorical cross entropy gebruiken is, omdat deze loss functie alleen one-hot encoded labels accepteert. Wij maken gebruik van simpele integer labels die wel geaccepteerd worden met een sparse categorical cross entropy loss functie. Op deze manier kunnen wij ons model goed trainen met de correcte loss functie.\n",
    "\n",
    "- Optimizer: De optimizer die wij gebruiken voor ons LSTM audio model is de Adam optimizer. Dit staat voor Adaptive moment estimator en kan goed omgaan met ruis in de data. Ook hebben wij er voor gekozen om deze optimizer te kiezen, omdat hij snel en efficiënt werkt met grote hoeveelheden data. Wij werken voor deze portfolio opdrachten met audio data van 30 seconde, waar features aan zijn toegevoegd. Dit betekent dan ook dat de data groter en groter is geworden en het veel tijd nodig heeft om te trainen. Hierom hebben wij ervoor gekozen om ons model te compileren met de Adam optimizer.\n",
    "    - Werking van de optimizer Adam: Adam houdt tijdens het trainen twee momenten van de gradiënt bij. Ten eerste berekent het, net als de SGD-optimizer, het gemiddelde van de gradiënten. Daarnaast berekent het ook het gemiddelde van de kwadraten van de gradiënten, een extra stap die de SGD-optimizer niet kent. Vervolgens past Adam verschillende leersnelheden toe op elk gewicht, gebaseerd op deze momenten. Bovendien gebruikt Adam informatie over hoe de loss functie verandert ten opzichte van de verschillende parameters van het model om te beslissen welke richting hij moet nemen om de fout te verkleinen. Het past de grootte van de stapjes aan op basis van de grootte van de gradiënt en past ook de richting aan om de meest efficiënte weg naar beneden te vinden. Op deze manier kan Adam snel en slim leren om het model te verbeteren.\n",
    "    \n",
    "- Metrics: De uiteindelijke metrics die wij gebruiken om ons model te trainen in de accuracy. De reden dat wij deze metric gebruiken is, omdat wij willen weten hoe goed ons model presteert door te kijken hoe veel van de liedjes een goed voorspellend genre hebben gekregen. "
   ]
  },
  {
   "cell_type": "markdown",
   "id": "ad6a1d87",
   "metadata": {},
   "source": [
    "<a name='3.7'></a>\n",
    "<h3>&sect;3.7: Model trainen</h3>"
   ]
  },
  {
   "cell_type": "code",
   "execution_count": 40,
   "id": "221319b0",
   "metadata": {},
   "outputs": [],
   "source": [
    "stop_early = EarlyStopping(monitor='val_loss', patience=5)"
   ]
  },
  {
   "cell_type": "code",
   "execution_count": 41,
   "id": "cac4af9e",
   "metadata": {
    "scrolled": true
   },
   "outputs": [
    {
     "name": "stdout",
     "output_type": "stream",
     "text": [
      "Epoch 1/100\n",
      "54/54 [==============================] - 255s 4s/step - loss: 6.6803 - accuracy: 0.1767 - val_loss: 6.0615 - val_accuracy: 0.2941\n",
      "Epoch 2/100\n",
      "54/54 [==============================] - 251s 5s/step - loss: 6.0119 - accuracy: 0.2860 - val_loss: 5.5657 - val_accuracy: 0.3725\n",
      "Epoch 3/100\n",
      "54/54 [==============================] - 270s 5s/step - loss: 5.4939 - accuracy: 0.3209 - val_loss: 5.2172 - val_accuracy: 0.3725\n",
      "Epoch 4/100\n",
      "54/54 [==============================] - 266s 5s/step - loss: 5.0970 - accuracy: 0.3628 - val_loss: 4.9103 - val_accuracy: 0.3922\n",
      "Epoch 5/100\n",
      "54/54 [==============================] - 263s 5s/step - loss: 4.7018 - accuracy: 0.3767 - val_loss: 4.5481 - val_accuracy: 0.3922\n",
      "Epoch 6/100\n",
      "54/54 [==============================] - 265s 5s/step - loss: 4.3860 - accuracy: 0.3884 - val_loss: 4.2605 - val_accuracy: 0.4118\n",
      "Epoch 7/100\n",
      "54/54 [==============================] - 258s 5s/step - loss: 4.0974 - accuracy: 0.4023 - val_loss: 4.0985 - val_accuracy: 0.3725\n",
      "Epoch 8/100\n",
      "54/54 [==============================] - 261s 5s/step - loss: 3.7620 - accuracy: 0.4674 - val_loss: 3.9377 - val_accuracy: 0.3529\n",
      "Epoch 9/100\n",
      "54/54 [==============================] - 262s 5s/step - loss: 3.5406 - accuracy: 0.4581 - val_loss: 3.8952 - val_accuracy: 0.3529\n",
      "Epoch 10/100\n",
      "54/54 [==============================] - 258s 5s/step - loss: 3.2553 - accuracy: 0.4837 - val_loss: 3.4242 - val_accuracy: 0.4314\n",
      "Epoch 11/100\n",
      "54/54 [==============================] - 262s 5s/step - loss: 3.1175 - accuracy: 0.5093 - val_loss: 3.5889 - val_accuracy: 0.4314\n",
      "Epoch 12/100\n",
      "54/54 [==============================] - 272s 5s/step - loss: 2.9502 - accuracy: 0.5256 - val_loss: 3.3536 - val_accuracy: 0.3922\n",
      "Epoch 13/100\n",
      "54/54 [==============================] - 265s 5s/step - loss: 2.8045 - accuracy: 0.5116 - val_loss: 3.2570 - val_accuracy: 0.3922\n",
      "Epoch 14/100\n",
      "54/54 [==============================] - 261s 5s/step - loss: 2.6786 - accuracy: 0.5279 - val_loss: 3.1624 - val_accuracy: 0.3922\n",
      "Epoch 15/100\n",
      "54/54 [==============================] - 261s 5s/step - loss: 2.5160 - accuracy: 0.5512 - val_loss: 3.0369 - val_accuracy: 0.3922\n",
      "Epoch 16/100\n",
      "54/54 [==============================] - 264s 5s/step - loss: 2.3910 - accuracy: 0.5767 - val_loss: 3.1216 - val_accuracy: 0.3725\n",
      "Epoch 17/100\n",
      "54/54 [==============================] - 260s 5s/step - loss: 2.3060 - accuracy: 0.6023 - val_loss: 2.8724 - val_accuracy: 0.4510\n",
      "Epoch 18/100\n",
      "54/54 [==============================] - 257s 5s/step - loss: 2.2152 - accuracy: 0.5860 - val_loss: 2.8815 - val_accuracy: 0.4314\n",
      "Epoch 19/100\n",
      "54/54 [==============================] - 257s 5s/step - loss: 2.1349 - accuracy: 0.6070 - val_loss: 2.9127 - val_accuracy: 0.4314\n",
      "Epoch 20/100\n",
      "54/54 [==============================] - 271s 5s/step - loss: 1.9885 - accuracy: 0.6674 - val_loss: 2.7884 - val_accuracy: 0.4510\n",
      "Epoch 21/100\n",
      "54/54 [==============================] - 256s 5s/step - loss: 1.9363 - accuracy: 0.6558 - val_loss: 2.6531 - val_accuracy: 0.4510\n",
      "Epoch 22/100\n",
      "54/54 [==============================] - 257s 5s/step - loss: 1.8375 - accuracy: 0.7023 - val_loss: 2.7744 - val_accuracy: 0.4118\n",
      "Epoch 23/100\n",
      "54/54 [==============================] - 264s 5s/step - loss: 1.8397 - accuracy: 0.6698 - val_loss: 2.6406 - val_accuracy: 0.4902\n",
      "Epoch 24/100\n",
      "54/54 [==============================] - 256s 5s/step - loss: 1.7238 - accuracy: 0.6884 - val_loss: 2.7661 - val_accuracy: 0.4510\n",
      "Epoch 25/100\n",
      "54/54 [==============================] - 269s 5s/step - loss: 1.7240 - accuracy: 0.6744 - val_loss: 2.8360 - val_accuracy: 0.4118\n",
      "Epoch 26/100\n",
      "54/54 [==============================] - 264s 5s/step - loss: 1.7013 - accuracy: 0.7163 - val_loss: 2.8497 - val_accuracy: 0.4706\n",
      "Epoch 27/100\n",
      "54/54 [==============================] - 269s 5s/step - loss: 1.6094 - accuracy: 0.7209 - val_loss: 2.7291 - val_accuracy: 0.4510\n",
      "Epoch 28/100\n",
      "54/54 [==============================] - 268s 5s/step - loss: 1.5623 - accuracy: 0.7372 - val_loss: 2.7556 - val_accuracy: 0.5294\n",
      "Epoch 29/100\n",
      "54/54 [==============================] - 265s 5s/step - loss: 1.5294 - accuracy: 0.7233 - val_loss: 2.6144 - val_accuracy: 0.4902\n",
      "Epoch 30/100\n",
      "54/54 [==============================] - 268s 5s/step - loss: 1.4550 - accuracy: 0.7651 - val_loss: 2.6986 - val_accuracy: 0.4706\n",
      "Epoch 31/100\n",
      "54/54 [==============================] - 263s 5s/step - loss: 1.5445 - accuracy: 0.7023 - val_loss: 2.7252 - val_accuracy: 0.3922\n",
      "Epoch 32/100\n",
      "54/54 [==============================] - 267s 5s/step - loss: 1.4788 - accuracy: 0.7233 - val_loss: 2.7121 - val_accuracy: 0.4118\n",
      "Epoch 33/100\n",
      "54/54 [==============================] - 259s 5s/step - loss: 1.4318 - accuracy: 0.7488 - val_loss: 2.7237 - val_accuracy: 0.4706\n",
      "Epoch 34/100\n",
      "54/54 [==============================] - 265s 5s/step - loss: 1.4140 - accuracy: 0.7372 - val_loss: 2.9038 - val_accuracy: 0.4314\n",
      "Epoch 35/100\n",
      "54/54 [==============================] - 255s 5s/step - loss: 1.2922 - accuracy: 0.7884 - val_loss: 2.9410 - val_accuracy: 0.3333\n",
      "Epoch 36/100\n",
      "54/54 [==============================] - 262s 5s/step - loss: 1.3067 - accuracy: 0.7907 - val_loss: 2.8477 - val_accuracy: 0.4314\n",
      "Epoch 37/100\n",
      "54/54 [==============================] - 261s 5s/step - loss: 1.2318 - accuracy: 0.7930 - val_loss: 2.8460 - val_accuracy: 0.4510\n",
      "Epoch 38/100\n",
      "54/54 [==============================] - 258s 5s/step - loss: 1.2890 - accuracy: 0.7698 - val_loss: 2.6917 - val_accuracy: 0.4510\n",
      "Epoch 39/100\n",
      "54/54 [==============================] - 263s 5s/step - loss: 1.1263 - accuracy: 0.8279 - val_loss: 2.6351 - val_accuracy: 0.4706\n",
      "Epoch 40/100\n",
      "54/54 [==============================] - 260s 5s/step - loss: 1.1591 - accuracy: 0.8209 - val_loss: 2.8039 - val_accuracy: 0.4902\n",
      "Epoch 41/100\n",
      "54/54 [==============================] - 265s 5s/step - loss: 1.1708 - accuracy: 0.8023 - val_loss: 2.9613 - val_accuracy: 0.4314\n",
      "Epoch 42/100\n",
      "54/54 [==============================] - 263s 5s/step - loss: 1.1952 - accuracy: 0.7977 - val_loss: 2.9305 - val_accuracy: 0.4118\n",
      "Epoch 43/100\n",
      "54/54 [==============================] - 269s 5s/step - loss: 1.2812 - accuracy: 0.7651 - val_loss: 3.1902 - val_accuracy: 0.3725\n",
      "Epoch 44/100\n",
      "54/54 [==============================] - 259s 5s/step - loss: 1.1454 - accuracy: 0.8047 - val_loss: 2.9771 - val_accuracy: 0.4314\n",
      "Epoch 45/100\n",
      "54/54 [==============================] - 266s 5s/step - loss: 1.1885 - accuracy: 0.7814 - val_loss: 3.1149 - val_accuracy: 0.4510\n",
      "Epoch 46/100\n",
      "54/54 [==============================] - 263s 5s/step - loss: 1.1792 - accuracy: 0.7953 - val_loss: 3.8820 - val_accuracy: 0.4314\n",
      "Epoch 47/100\n",
      "54/54 [==============================] - 267s 5s/step - loss: 1.2519 - accuracy: 0.7628 - val_loss: 3.2963 - val_accuracy: 0.4510\n",
      "Epoch 48/100\n",
      "54/54 [==============================] - 259s 5s/step - loss: 1.1293 - accuracy: 0.8093 - val_loss: 3.3654 - val_accuracy: 0.4314\n",
      "Epoch 49/100\n",
      "54/54 [==============================] - 254s 5s/step - loss: 1.0657 - accuracy: 0.8465 - val_loss: 3.0419 - val_accuracy: 0.4510\n",
      "Epoch 50/100\n",
      "54/54 [==============================] - 261s 5s/step - loss: 0.9703 - accuracy: 0.8628 - val_loss: 3.0860 - val_accuracy: 0.4510\n",
      "Epoch 51/100\n",
      "54/54 [==============================] - 261s 5s/step - loss: 0.9310 - accuracy: 0.8884 - val_loss: 3.1416 - val_accuracy: 0.4510\n",
      "Epoch 52/100\n",
      "54/54 [==============================] - 255s 5s/step - loss: 0.9048 - accuracy: 0.8837 - val_loss: 3.3304 - val_accuracy: 0.4314\n",
      "Epoch 53/100\n",
      "54/54 [==============================] - 261s 5s/step - loss: 0.9422 - accuracy: 0.8442 - val_loss: 3.0380 - val_accuracy: 0.4902\n",
      "Epoch 54/100\n",
      "54/54 [==============================] - 263s 5s/step - loss: 0.9319 - accuracy: 0.8674 - val_loss: 3.3259 - val_accuracy: 0.4510\n",
      "Epoch 55/100\n",
      "54/54 [==============================] - 262s 5s/step - loss: 0.9646 - accuracy: 0.8512 - val_loss: 3.3398 - val_accuracy: 0.4118\n",
      "Epoch 56/100\n",
      "54/54 [==============================] - 267s 5s/step - loss: 0.9496 - accuracy: 0.8558 - val_loss: 3.0078 - val_accuracy: 0.4706\n",
      "Epoch 57/100\n",
      "54/54 [==============================] - 261s 5s/step - loss: 0.8961 - accuracy: 0.8605 - val_loss: 2.8519 - val_accuracy: 0.4706\n",
      "Epoch 58/100\n",
      "54/54 [==============================] - 263s 5s/step - loss: 0.9244 - accuracy: 0.8535 - val_loss: 2.8551 - val_accuracy: 0.4902\n",
      "Epoch 59/100\n",
      "54/54 [==============================] - 265s 5s/step - loss: 1.0353 - accuracy: 0.8140 - val_loss: 3.4780 - val_accuracy: 0.4314\n",
      "Epoch 60/100\n",
      "54/54 [==============================] - 265s 5s/step - loss: 1.1631 - accuracy: 0.7884 - val_loss: 3.6161 - val_accuracy: 0.4314\n",
      "Epoch 61/100\n",
      "54/54 [==============================] - 265s 5s/step - loss: 1.0701 - accuracy: 0.8279 - val_loss: 3.3685 - val_accuracy: 0.4706\n",
      "Epoch 62/100\n",
      "54/54 [==============================] - 261s 5s/step - loss: 1.0533 - accuracy: 0.8070 - val_loss: 3.6106 - val_accuracy: 0.3725\n",
      "Epoch 63/100\n",
      "54/54 [==============================] - 256s 5s/step - loss: 0.9689 - accuracy: 0.8628 - val_loss: 3.3733 - val_accuracy: 0.4314\n",
      "Epoch 64/100\n",
      "54/54 [==============================] - 262s 5s/step - loss: 0.9439 - accuracy: 0.8488 - val_loss: 3.4392 - val_accuracy: 0.4314\n",
      "Epoch 65/100\n",
      "54/54 [==============================] - 257s 5s/step - loss: 0.9412 - accuracy: 0.8349 - val_loss: 3.0026 - val_accuracy: 0.4706\n",
      "Epoch 66/100\n",
      "54/54 [==============================] - 257s 5s/step - loss: 0.9488 - accuracy: 0.8465 - val_loss: 3.1463 - val_accuracy: 0.4118\n",
      "Epoch 67/100\n",
      "54/54 [==============================] - 267s 5s/step - loss: 0.8653 - accuracy: 0.8767 - val_loss: 3.1777 - val_accuracy: 0.4510\n",
      "Epoch 68/100\n",
      "54/54 [==============================] - 268s 5s/step - loss: 0.9153 - accuracy: 0.8628 - val_loss: 3.1395 - val_accuracy: 0.5294\n",
      "Epoch 69/100\n",
      "54/54 [==============================] - 264s 5s/step - loss: 1.0596 - accuracy: 0.8047 - val_loss: 3.3923 - val_accuracy: 0.4706\n",
      "Epoch 70/100\n",
      "54/54 [==============================] - 265s 5s/step - loss: 0.9356 - accuracy: 0.8535 - val_loss: 2.8383 - val_accuracy: 0.4902\n",
      "Epoch 71/100\n",
      "54/54 [==============================] - 269s 5s/step - loss: 0.9158 - accuracy: 0.8698 - val_loss: 3.1665 - val_accuracy: 0.4510\n",
      "Epoch 72/100\n",
      "54/54 [==============================] - 262s 5s/step - loss: 0.8500 - accuracy: 0.8884 - val_loss: 3.1146 - val_accuracy: 0.5098\n",
      "Epoch 73/100\n",
      "54/54 [==============================] - 263s 5s/step - loss: 0.7856 - accuracy: 0.8977 - val_loss: 3.2228 - val_accuracy: 0.4706\n",
      "Epoch 74/100\n",
      "54/54 [==============================] - 270s 5s/step - loss: 0.8123 - accuracy: 0.8837 - val_loss: 3.5591 - val_accuracy: 0.4510\n",
      "Epoch 75/100\n",
      "54/54 [==============================] - 263s 5s/step - loss: 0.8942 - accuracy: 0.8651 - val_loss: 3.6053 - val_accuracy: 0.3922\n",
      "Epoch 76/100\n",
      "54/54 [==============================] - 258s 5s/step - loss: 1.0559 - accuracy: 0.8186 - val_loss: 3.5010 - val_accuracy: 0.4706\n",
      "Epoch 77/100\n",
      "54/54 [==============================] - 273s 5s/step - loss: 0.9592 - accuracy: 0.8419 - val_loss: 3.4007 - val_accuracy: 0.4706\n",
      "Epoch 78/100\n",
      "54/54 [==============================] - 265s 5s/step - loss: 0.9152 - accuracy: 0.8814 - val_loss: 3.2547 - val_accuracy: 0.4314\n",
      "Epoch 79/100\n",
      "54/54 [==============================] - 261s 5s/step - loss: 0.7713 - accuracy: 0.9163 - val_loss: 3.5552 - val_accuracy: 0.4902\n",
      "Epoch 80/100\n",
      "54/54 [==============================] - 264s 5s/step - loss: 0.7480 - accuracy: 0.9163 - val_loss: 3.5809 - val_accuracy: 0.4314\n",
      "Epoch 81/100\n",
      "54/54 [==============================] - 264s 5s/step - loss: 0.8038 - accuracy: 0.9047 - val_loss: 3.3771 - val_accuracy: 0.5098\n",
      "Epoch 82/100\n",
      "54/54 [==============================] - 264s 5s/step - loss: 0.7680 - accuracy: 0.9047 - val_loss: 3.3611 - val_accuracy: 0.4314\n",
      "Epoch 83/100\n",
      "54/54 [==============================] - 259s 5s/step - loss: 0.6578 - accuracy: 0.9419 - val_loss: 2.8185 - val_accuracy: 0.4902\n",
      "Epoch 84/100\n",
      "54/54 [==============================] - 261s 5s/step - loss: 0.6758 - accuracy: 0.9465 - val_loss: 3.1912 - val_accuracy: 0.4706\n",
      "Epoch 85/100\n",
      "54/54 [==============================] - 265s 5s/step - loss: 0.7573 - accuracy: 0.8953 - val_loss: 3.6120 - val_accuracy: 0.4314\n",
      "Epoch 86/100\n",
      "54/54 [==============================] - 259s 5s/step - loss: 0.7951 - accuracy: 0.8814 - val_loss: 3.6900 - val_accuracy: 0.4118\n",
      "Epoch 87/100\n",
      "54/54 [==============================] - 263s 5s/step - loss: 0.8775 - accuracy: 0.8651 - val_loss: 3.1186 - val_accuracy: 0.4706\n",
      "Epoch 88/100\n",
      "54/54 [==============================] - 263s 5s/step - loss: 0.7966 - accuracy: 0.8977 - val_loss: 3.7849 - val_accuracy: 0.4314\n",
      "Epoch 89/100\n",
      "54/54 [==============================] - 261s 5s/step - loss: 0.8437 - accuracy: 0.8744 - val_loss: 3.3133 - val_accuracy: 0.4118\n",
      "Epoch 90/100\n",
      "54/54 [==============================] - 256s 5s/step - loss: 0.9025 - accuracy: 0.8395 - val_loss: 3.1866 - val_accuracy: 0.4706\n",
      "Epoch 91/100\n",
      "54/54 [==============================] - 264s 5s/step - loss: 0.8846 - accuracy: 0.8581 - val_loss: 4.2650 - val_accuracy: 0.3529\n",
      "Epoch 92/100\n",
      "54/54 [==============================] - 262s 5s/step - loss: 0.9450 - accuracy: 0.8372 - val_loss: 3.3132 - val_accuracy: 0.4706\n",
      "Epoch 93/100\n",
      "54/54 [==============================] - 260s 5s/step - loss: 0.9713 - accuracy: 0.8186 - val_loss: 3.3111 - val_accuracy: 0.4314\n",
      "Epoch 94/100\n",
      "54/54 [==============================] - 263s 5s/step - loss: 0.8660 - accuracy: 0.8605 - val_loss: 3.0372 - val_accuracy: 0.4510\n",
      "Epoch 95/100\n",
      "54/54 [==============================] - 262s 5s/step - loss: 0.7923 - accuracy: 0.8930 - val_loss: 3.9517 - val_accuracy: 0.4314\n",
      "Epoch 96/100\n",
      "54/54 [==============================] - 263s 5s/step - loss: 0.7593 - accuracy: 0.8977 - val_loss: 3.4447 - val_accuracy: 0.4118\n",
      "Epoch 97/100\n",
      "54/54 [==============================] - 263s 5s/step - loss: 0.8098 - accuracy: 0.8837 - val_loss: 3.5981 - val_accuracy: 0.4510\n",
      "Epoch 98/100\n",
      "54/54 [==============================] - 258s 5s/step - loss: 0.7433 - accuracy: 0.9000 - val_loss: 3.2716 - val_accuracy: 0.4510\n",
      "Epoch 99/100\n",
      "54/54 [==============================] - 263s 5s/step - loss: 0.6837 - accuracy: 0.9093 - val_loss: 3.9979 - val_accuracy: 0.3922\n",
      "Epoch 100/100\n",
      "54/54 [==============================] - 269s 5s/step - loss: 0.7774 - accuracy: 0.8837 - val_loss: 3.1688 - val_accuracy: 0.4314\n"
     ]
    }
   ],
   "source": [
    "model_lstm.compile(optimizer=tf.keras.optimizers.Adam(learning_rate=0.001),\n",
    "                   loss=\"sparse_categorical_crossentropy\",\n",
    "                   metrics=[\"accuracy\"])\n",
    "history_lstm = model_lstm.fit(train_MFCC_ds, epochs=100, validation_data=val_MFCC_ds, batch_size=30)"
   ]
  },
  {
   "cell_type": "code",
   "execution_count": 42,
   "id": "0298f462",
   "metadata": {},
   "outputs": [
    {
     "name": "stdout",
     "output_type": "stream",
     "text": [
      "Last Validation Accuracy Audio LSTM: 0.4313725531101227\n"
     ]
    }
   ],
   "source": [
    "last_acc_audio = history_lstm.history['val_accuracy'][-1]\n",
    "print(\"Last Validation Accuracy Audio LSTM:\", last_acc_audio)"
   ]
  },
  {
   "cell_type": "markdown",
   "id": "cbecabc1",
   "metadata": {},
   "source": [
    "<a name='3.8'></a>\n",
    "<h3>&sect;3.8: Loss visualisatie</h3>"
   ]
  },
  {
   "cell_type": "code",
   "execution_count": 43,
   "id": "e7dad083",
   "metadata": {
    "scrolled": false
   },
   "outputs": [
    {
     "data": {
      "image/png": "[encoded data removed]",
      "text/plain": [
       "<Figure size 640x480 with 1 Axes>"
      ]
     },
     "metadata": {},
     "output_type": "display_data"
    }
   ],
   "source": [
    "plt.plot(history_lstm.history['accuracy'], label='Training accuracy')\n",
    "plt.plot(history_lstm.history['val_accuracy'], 'g', label='Validation accuracy')\n",
    "plt.xlabel('Epoch #')\n",
    "plt.ylabel('Accuracy')\n",
    "plt.title('Accuracy vs validation accuracy')\n",
    "plt.legend()\n",
    "plt.show()"
   ]
  },
  {
   "cell_type": "code",
   "execution_count": 44,
   "id": "b8f919f7",
   "metadata": {
    "scrolled": false
   },
   "outputs": [
    {
     "data": {
      "image/png": "[encoded data removed]",
      "text/plain": [
       "<Figure size 640x480 with 1 Axes>"
      ]
     },
     "metadata": {},
     "output_type": "display_data"
    }
   ],
   "source": [
    "plt.plot(history_lstm.history['loss'], label='Training loss')\n",
    "plt.plot(history_lstm.history['val_loss'], 'g', label='Validation loss')\n",
    "plt.xlabel('Epoch #')\n",
    "plt.ylabel('Loss(sparse categorical crossentropy)')\n",
    "plt.title('Loss vs validation loss')\n",
    "plt.legend()\n",
    "plt.show()"
   ]
  },
  {
   "cell_type": "markdown",
   "id": "a4bb855f",
   "metadata": {},
   "source": [
    "##### Epochs: \n",
    "Het aantal epochs die wij gebruiken voor dit model is 100. Het is een model die er lang over doet om één epoch te runnen, dus wij kiezen er voor om er niet meer te laten runnen. Ook valt het in de visualisaties op dat de training resultaten en validatie resultaten uit elkaar lopen hoe meer epochs er worden getraind. De reden dat wij er niet voor kiezen om te trainen op minder epochs komt door de toegevoegd early stopping in het trainingsproces. Er is voor het trainen aangegeven dat er gestopt kon worden op het moment dat er meer dan 5 validatie losses achter elkaar daalde. Omdat dit bij ons na 100 epochs runnen niet is gebeurt kiezen wij er voor om toch de gehele run af te maken, omdat zo minder spraken is van overfitting."
   ]
  },
  {
   "cell_type": "markdown",
   "id": "6f1e1130",
   "metadata": {},
   "source": [
    "<a name='3.9'></a>\n",
    "<h3>&sect;3.9: Functie voor kaggle</h3>"
   ]
  },
  {
   "cell_type": "markdown",
   "id": "6b991ba9",
   "metadata": {},
   "source": [
    "Om te kunnen controleren hoe goed onze modellen werken hebben wij een functie gemaakt genaamd \"to_kaggle\" dat een DataFrame aanmaakt die op kaggle gezet kan worden. De functie slaat het DataFrame ook meteen op waardoor het meteen op kaggle gepusht kan worden om te controleren hoe goed het model heeft gepresteerd."
   ]
  },
  {
   "cell_type": "code",
   "execution_count": 45,
   "id": "99f274de",
   "metadata": {},
   "outputs": [],
   "source": [
    "def to_kaggle(model, predict, naam):\n",
    "    \"\"\"\n",
    "    Generates predictions using the provided model for the given data and writes the results to a CSV\n",
    "        file in the Kaggle competition format.\n",
    "\n",
    "    Parameters:\n",
    "    -----------\n",
    "    model (object): The trained machine learning model used for prediction.\n",
    "    predict (array-like): The data to be used for prediction.\n",
    "    naam (str): The filename for the output CSV file.\n",
    "\n",
    "    Returns:\n",
    "    --------\n",
    "    pandas.DataFrame: A DataFrame containing the filenames and predicted genres.\n",
    "    \"\"\"\n",
    "    predictions = model.predict(predict)\n",
    "    filenames = [f\"test.{i:05}.wav\" for i in range(129)]\n",
    "    predicted_classes = np.argmax(predictions, axis=1)\n",
    "    \n",
    "    predicted_genres = [label_names[class_idx] for class_idx in predicted_classes]\n",
    "    data = list(zip(filenames, predicted_genres))\n",
    "    inleveren_kaggle = pd.DataFrame(data, columns=['filename', 'genre'])\n",
    "\n",
    "\n",
    "    print(inleveren_kaggle)\n",
    "    return inleveren_kaggle.to_csv(naam, index=False)"
   ]
  },
  {
   "cell_type": "code",
   "execution_count": 46,
   "id": "c566d997",
   "metadata": {},
   "outputs": [
    {
     "name": "stdout",
     "output_type": "stream",
     "text": [
      "17/17 [==============================] - 12s 535ms/step\n",
      "           filename    genre\n",
      "0    test.00000.wav      pop\n",
      "1    test.00001.wav    disco\n",
      "2    test.00002.wav   reggae\n",
      "3    test.00003.wav     rock\n",
      "4    test.00004.wav  country\n",
      "..              ...      ...\n",
      "124  test.00124.wav  country\n",
      "125  test.00125.wav    blues\n",
      "126  test.00126.wav   hiphop\n",
      "127  test.00127.wav  country\n",
      "128  test.00128.wav     rock\n",
      "\n",
      "[129 rows x 2 columns]\n"
     ]
    }
   ],
   "source": [
    "to_kaggle(model_lstm, test_MFCC_ds_kaggle, 'LSTM_audio_kaggle_2.csv')"
   ]
  },
  {
   "cell_type": "markdown",
   "id": "be652bb8",
   "metadata": {},
   "source": [
    "[Back to the top](#start)\n",
    "<a name='4.0'></a>\n",
    "\n",
    "<div style=\"background-color:#216375; text-align:center; vertical-align:middle; padding:10px 0; margin-top:5px; margin-bottom:5px\">\n",
    "        <h2 style=\"color:white\"><strong>H4: LSTM voor songteksten</strong></h2>\n",
    "</div>"
   ]
  },
  {
   "cell_type": "markdown",
   "id": "2167d6c0",
   "metadata": {},
   "source": [
    "<a name='4.1'></a>\n",
    "<h3>&sect;4.1: Datapipeline met data preprocessing, feature engineering, of/en data augmentation</h3>"
   ]
  },
  {
   "cell_type": "markdown",
   "id": "67f11311",
   "metadata": {},
   "source": [
    "Voor de inspiratie van data preprocessing voor tekst data hebben wij gebruik gemaakt van twee bronnen. : Ngyptr, (2018) en Li, (2021). Uit deze bronnen hebben wij gekeken naar de beste manieren om een tekst voor te bereiden en hebben op basis hiervan onze data gepreprocest."
   ]
  },
  {
   "cell_type": "code",
   "execution_count": 5,
   "id": "5971adf0",
   "metadata": {},
   "outputs": [
    {
     "data": {
      "text/html": [
       "<div>\n",
       "<style scoped>\n",
       "    .dataframe tbody tr th:only-of-type {\n",
       "        vertical-align: middle;\n",
       "    }\n",
       "\n",
       "    .dataframe tbody tr th {\n",
       "        vertical-align: top;\n",
       "    }\n",
       "\n",
       "    .dataframe thead th {\n",
       "        text-align: right;\n",
       "    }\n",
       "</style>\n",
       "<table border=\"1\" class=\"dataframe\">\n",
       "  <thead>\n",
       "    <tr style=\"text-align: right;\">\n",
       "      <th></th>\n",
       "      <th>filename</th>\n",
       "      <th>lyrics</th>\n",
       "      <th>genre</th>\n",
       "    </tr>\n",
       "  </thead>\n",
       "  <tbody>\n",
       "    <tr>\n",
       "      <th>0</th>\n",
       "      <td>blues.00001.wav</td>\n",
       "      <td>I’m in the Mood Lyrics[Verse 1]\\nI'm in the mo...</td>\n",
       "      <td>blues</td>\n",
       "    </tr>\n",
       "    <tr>\n",
       "      <th>1</th>\n",
       "      <td>blues.00002.wav</td>\n",
       "      <td>(John Lee Hooker)\\nThink twice before you go, ...</td>\n",
       "      <td>blues</td>\n",
       "    </tr>\n",
       "    <tr>\n",
       "      <th>2</th>\n",
       "      <td>blues.00003.wav</td>\n",
       "      <td>[Intro, Spoken]\\n...A little thing I'm going t...</td>\n",
       "      <td>blues</td>\n",
       "    </tr>\n",
       "    <tr>\n",
       "      <th>3</th>\n",
       "      <td>blues.00005.wav</td>\n",
       "      <td>Sugar mama, sugar mama, sugar mama please come...</td>\n",
       "      <td>blues</td>\n",
       "    </tr>\n",
       "    <tr>\n",
       "      <th>4</th>\n",
       "      <td>blues.00006.wav</td>\n",
       "      <td>My baby left me this morning\\nPeople just arou...</td>\n",
       "      <td>blues</td>\n",
       "    </tr>\n",
       "    <tr>\n",
       "      <th>...</th>\n",
       "      <td>...</td>\n",
       "      <td>...</td>\n",
       "      <td>...</td>\n",
       "    </tr>\n",
       "    <tr>\n",
       "      <th>532</th>\n",
       "      <td>rock.00094.wav</td>\n",
       "      <td>[Chorus]\\nDon’t stop\\nIsn’t it funny how you s...</td>\n",
       "      <td>rock</td>\n",
       "    </tr>\n",
       "    <tr>\n",
       "      <th>533</th>\n",
       "      <td>rock.00096.wav</td>\n",
       "      <td>[Verse 1]\\nHer hair, soft drifted snow\\nDeath ...</td>\n",
       "      <td>rock</td>\n",
       "    </tr>\n",
       "    <tr>\n",
       "      <th>534</th>\n",
       "      <td>rock.00097.wav</td>\n",
       "      <td>[Verse 1]\\nYour knuckles whiten on the wheel\\n...</td>\n",
       "      <td>rock</td>\n",
       "    </tr>\n",
       "    <tr>\n",
       "      <th>535</th>\n",
       "      <td>rock.00098.wav</td>\n",
       "      <td>[Verse 1]\\nYou know it\\nYou show it\\nAnd the t...</td>\n",
       "      <td>rock</td>\n",
       "    </tr>\n",
       "    <tr>\n",
       "      <th>536</th>\n",
       "      <td>rock.00099.wav</td>\n",
       "      <td>[Verse 1]\\nA girl consumed by fire\\nWe all kno...</td>\n",
       "      <td>rock</td>\n",
       "    </tr>\n",
       "  </tbody>\n",
       "</table>\n",
       "<p>537 rows × 3 columns</p>\n",
       "</div>"
      ],
      "text/plain": [
       "            filename                                             lyrics  genre\n",
       "0    blues.00001.wav  I’m in the Mood Lyrics[Verse 1]\\nI'm in the mo...  blues\n",
       "1    blues.00002.wav  (John Lee Hooker)\\nThink twice before you go, ...  blues\n",
       "2    blues.00003.wav  [Intro, Spoken]\\n...A little thing I'm going t...  blues\n",
       "3    blues.00005.wav  Sugar mama, sugar mama, sugar mama please come...  blues\n",
       "4    blues.00006.wav  My baby left me this morning\\nPeople just arou...  blues\n",
       "..               ...                                                ...    ...\n",
       "532   rock.00094.wav  [Chorus]\\nDon’t stop\\nIsn’t it funny how you s...   rock\n",
       "533   rock.00096.wav  [Verse 1]\\nHer hair, soft drifted snow\\nDeath ...   rock\n",
       "534   rock.00097.wav  [Verse 1]\\nYour knuckles whiten on the wheel\\n...   rock\n",
       "535   rock.00098.wav  [Verse 1]\\nYou know it\\nYou show it\\nAnd the t...   rock\n",
       "536   rock.00099.wav  [Verse 1]\\nA girl consumed by fire\\nWe all kno...   rock\n",
       "\n",
       "[537 rows x 3 columns]"
      ]
     },
     "execution_count": 5,
     "metadata": {},
     "output_type": "execute_result"
    }
   ],
   "source": [
    "tekst"
   ]
  },
  {
   "cell_type": "markdown",
   "id": "27ee0a87",
   "metadata": {},
   "source": [
    "De eerste stap van het preprocessing is om de lyrics the \"tokenizen\". Dit zet alle woorden om naar getallen zodat een model het kan gebruiken. Verder filteren we ook onnodige tekens etc. uit de woorden."
   ]
  },
  {
   "cell_type": "code",
   "execution_count": 11,
   "id": "b354ec43",
   "metadata": {},
   "outputs": [
    {
     "name": "stdout",
     "output_type": "stream",
     "text": [
      "Found 16390 unique tokens.\n"
     ]
    }
   ],
   "source": [
    "max_words = 3000\n",
    "max_sequence_length = 250\n",
    "embedding_dim = 100\n",
    "\n",
    "tokenizer = Tokenizer(num_words=max_words, filters='!\"#$%&()*+,-./:;<=>?@[\\\\]^_`{|}~\\t\\n', lower=True)\n",
    "tokenizer.fit_on_texts(tekst['lyrics'])\n",
    "word_index = tokenizer.word_index\n",
    "print('Found %s unique tokens.' % len(word_index))"
   ]
  },
  {
   "cell_type": "markdown",
   "id": "35988de0",
   "metadata": {},
   "source": [
    "Hier truncaten (inkorten) en padden (opvullen) we de inputs zodat ze allemaal dezelfde lengte hebben."
   ]
  },
  {
   "cell_type": "code",
   "execution_count": 12,
   "id": "a5052639",
   "metadata": {},
   "outputs": [
    {
     "name": "stdout",
     "output_type": "stream",
     "text": [
      "Shape of data tensor: (537, 250)\n"
     ]
    }
   ],
   "source": [
    "X = tokenizer.texts_to_sequences(tekst['lyrics'].values)\n",
    "X = tf.keras.preprocessing.sequence.pad_sequences(X, maxlen=max_sequence_length)\n",
    "print('Shape of data tensor:', X.shape)"
   ]
  },
  {
   "cell_type": "markdown",
   "id": "8db27c16",
   "metadata": {},
   "source": [
    "Labels encoden"
   ]
  },
  {
   "cell_type": "code",
   "execution_count": 13,
   "id": "4dd25420",
   "metadata": {},
   "outputs": [
    {
     "name": "stdout",
     "output_type": "stream",
     "text": [
      "Shape of label tensor: (537, 8)\n"
     ]
    }
   ],
   "source": [
    "Y = pd.get_dummies(tekst['genre']).values\n",
    "print('Shape of label tensor:', Y.shape)"
   ]
  },
  {
   "cell_type": "code",
   "execution_count": 22,
   "id": "f39ce392",
   "metadata": {},
   "outputs": [
    {
     "name": "stdout",
     "output_type": "stream",
     "text": [
      "(483, 250) (483, 8)\n",
      "(54, 250) (54, 8)\n"
     ]
    }
   ],
   "source": [
    "X_train, X_test, Y_train, Y_test = train_test_split(X,Y, test_size = 0.1, random_state = 42)\n",
    "print(X_train.shape,Y_train.shape)\n",
    "print(X_test.shape,Y_test.shape)"
   ]
  },
  {
   "cell_type": "markdown",
   "id": "4a1e5f59",
   "metadata": {},
   "source": [
    "<a name='4.2'></a>\n",
    "<h3>&sect;4.2: Het model</h3>"
   ]
  },
  {
   "cell_type": "code",
   "execution_count": 23,
   "id": "0c6b84bf",
   "metadata": {},
   "outputs": [],
   "source": [
    "model = Sequential()\n",
    "model.add(Embedding(max_words, embedding_dim, input_length=X.shape[1]))\n",
    "model.add(SpatialDropout1D(0.7))\n",
    "model.add(LSTM(64, dropout=0.7, recurrent_dropout=0.7))\n",
    "model.add(Dense(8, activation='softmax'))"
   ]
  },
  {
   "cell_type": "markdown",
   "id": "6187a769",
   "metadata": {},
   "source": [
    "<a name='4.3'></a>\n",
    "<h3>&sect;4.3: Modelarchitectuur</h3>"
   ]
  },
  {
   "cell_type": "code",
   "execution_count": 20,
   "id": "3bc0f27f",
   "metadata": {},
   "outputs": [
    {
     "data": {
      "image/png": "[encoded data removed]",
      "text/plain": [
       "<IPython.core.display.Image object>"
      ]
     },
     "execution_count": 20,
     "metadata": {},
     "output_type": "execute_result"
    }
   ],
   "source": [
    "tf.keras.utils.plot_model(model, to_file='LSTM_tekst.png', show_shapes=True, show_layer_names=True)"
   ]
  },
  {
   "cell_type": "markdown",
   "id": "2dc6e35c",
   "metadata": {},
   "source": [
    "<a name='4.4'></a>\n",
    "<h3>&sect;4.4: Onderbouwing keuzes parameters</h3>"
   ]
  },
  {
   "cell_type": "markdown",
   "id": "93167286",
   "metadata": {},
   "source": [
    "- Sequential: Om een LSTM model te maken moeten we eerst een Sequentieel model initieren.\n",
    "- We beginnen met een embedded layer met 100 vectoren. Deze vectoren worden gebruikt om elk woord te representeren. Deze vectoren bepalen dus welke woorden/sequences op elkaar lijken. De size van de input is simpelweg de lengte van X.\n",
    "- SpatialDropout1D doet het zelfde als een normale dropout layer. I.e. willekeurig inputs naar 0 zetten en andere inputs scalen om overfitting te voorkomen. Het verschil met 1D is dat het ook features dropped die op elkaar lijken. Dit is dus goed voor ons model omdat de vectoren aan ons vertellen welke features op elkaar lijken.\n",
    "- Hierna komt de LSTM layer met 64 units.\n",
    "- De output layer heeft 8 waardes, omdat we 8 classes hebben.\n",
    "- \"Softmax\" wordt gebruikt omdat het een multi-class classificatie probleem is. Dit is een functie die een standaard exponentiele functie toepast op elke element in de input vector.\n",
    "- Ook \"categorical_crossentropy\" wordt gebruikt omdat we met een multi-class probleem te maken hebben. Normale cross entropy kan niet worden gebruikt omdat het ervan uitgaat dat er maar twee classes zijn."
   ]
  },
  {
   "cell_type": "markdown",
   "id": "2fef18c9",
   "metadata": {},
   "source": [
    "<a name='4.5'></a>\n",
    "<h3>&sect;4.5: Model trainen</h3>"
   ]
  },
  {
   "cell_type": "code",
   "execution_count": 24,
   "id": "3c3438c4",
   "metadata": {
    "scrolled": true
   },
   "outputs": [
    {
     "name": "stdout",
     "output_type": "stream",
     "text": [
      "Epoch 1/100\n",
      "4/4 [==============================] - 5s 459ms/step - loss: 2.0816 - accuracy: 0.1269 - val_loss: 2.0760 - val_accuracy: 0.1753\n",
      "Epoch 2/100\n",
      "4/4 [==============================] - 2s 386ms/step - loss: 2.0755 - accuracy: 0.1632 - val_loss: 2.0736 - val_accuracy: 0.1856\n",
      "Epoch 3/100\n",
      "4/4 [==============================] - 2s 376ms/step - loss: 2.0719 - accuracy: 0.1658 - val_loss: 2.0715 - val_accuracy: 0.1546\n",
      "Epoch 4/100\n",
      "4/4 [==============================] - 2s 386ms/step - loss: 2.0658 - accuracy: 0.1995 - val_loss: 2.0693 - val_accuracy: 0.1546\n",
      "Epoch 5/100\n",
      "4/4 [==============================] - 2s 380ms/step - loss: 2.0660 - accuracy: 0.1554 - val_loss: 2.0667 - val_accuracy: 0.1856\n",
      "Epoch 6/100\n",
      "4/4 [==============================] - 2s 408ms/step - loss: 2.0593 - accuracy: 0.2124 - val_loss: 2.0637 - val_accuracy: 0.1959\n",
      "Epoch 7/100\n",
      "4/4 [==============================] - 2s 391ms/step - loss: 2.0550 - accuracy: 0.2202 - val_loss: 2.0605 - val_accuracy: 0.2268\n",
      "Epoch 8/100\n",
      "4/4 [==============================] - 2s 391ms/step - loss: 2.0565 - accuracy: 0.1969 - val_loss: 2.0575 - val_accuracy: 0.2268\n",
      "Epoch 9/100\n",
      "4/4 [==============================] - 2s 386ms/step - loss: 2.0475 - accuracy: 0.2383 - val_loss: 2.0543 - val_accuracy: 0.2371\n",
      "Epoch 10/100\n",
      "4/4 [==============================] - 2s 375ms/step - loss: 2.0423 - accuracy: 0.2358 - val_loss: 2.0515 - val_accuracy: 0.2268\n",
      "Epoch 11/100\n",
      "4/4 [==============================] - 2s 380ms/step - loss: 2.0378 - accuracy: 0.2435 - val_loss: 2.0486 - val_accuracy: 0.2268\n",
      "Epoch 12/100\n",
      "4/4 [==============================] - 2s 386ms/step - loss: 2.0347 - accuracy: 0.2409 - val_loss: 2.0454 - val_accuracy: 0.2165\n",
      "Epoch 13/100\n",
      "4/4 [==============================] - 2s 386ms/step - loss: 2.0269 - accuracy: 0.2927 - val_loss: 2.0419 - val_accuracy: 0.2371\n",
      "Epoch 14/100\n",
      "4/4 [==============================] - 2s 386ms/step - loss: 2.0178 - accuracy: 0.3005 - val_loss: 2.0374 - val_accuracy: 0.1959\n",
      "Epoch 15/100\n",
      "4/4 [==============================] - 2s 385ms/step - loss: 2.0077 - accuracy: 0.3031 - val_loss: 2.0340 - val_accuracy: 0.1340\n",
      "Epoch 16/100\n",
      "4/4 [==============================] - 2s 379ms/step - loss: 1.9987 - accuracy: 0.2694 - val_loss: 2.0558 - val_accuracy: 0.1340\n",
      "Epoch 17/100\n",
      "4/4 [==============================] - 2s 376ms/step - loss: 1.9831 - accuracy: 0.2098 - val_loss: 2.0999 - val_accuracy: 0.1546\n",
      "Epoch 18/100\n",
      "4/4 [==============================] - 2s 392ms/step - loss: 1.9792 - accuracy: 0.2332 - val_loss: 2.0185 - val_accuracy: 0.1753\n",
      "Epoch 19/100\n",
      "4/4 [==============================] - 2s 387ms/step - loss: 1.9487 - accuracy: 0.2565 - val_loss: 1.9979 - val_accuracy: 0.2165\n",
      "Epoch 20/100\n",
      "4/4 [==============================] - 2s 381ms/step - loss: 1.9269 - accuracy: 0.2746 - val_loss: 2.0379 - val_accuracy: 0.1753\n",
      "Epoch 21/100\n",
      "4/4 [==============================] - 2s 399ms/step - loss: 1.8826 - accuracy: 0.2617 - val_loss: 1.9541 - val_accuracy: 0.3196\n",
      "Epoch 22/100\n",
      "4/4 [==============================] - 2s 385ms/step - loss: 1.8199 - accuracy: 0.3575 - val_loss: 1.9407 - val_accuracy: 0.2784\n",
      "Epoch 23/100\n",
      "4/4 [==============================] - 2s 386ms/step - loss: 1.7941 - accuracy: 0.4016 - val_loss: 1.9141 - val_accuracy: 0.2577\n",
      "Epoch 24/100\n",
      "4/4 [==============================] - 2s 381ms/step - loss: 1.7726 - accuracy: 0.3601 - val_loss: 2.0002 - val_accuracy: 0.1753\n",
      "Epoch 25/100\n",
      "4/4 [==============================] - 2s 391ms/step - loss: 1.8387 - accuracy: 0.3420 - val_loss: 1.9865 - val_accuracy: 0.2268\n",
      "Epoch 26/100\n",
      "4/4 [==============================] - 2s 418ms/step - loss: 1.8722 - accuracy: 0.3575 - val_loss: 1.9542 - val_accuracy: 0.2887\n",
      "Epoch 27/100\n",
      "4/4 [==============================] - 2s 413ms/step - loss: 1.8212 - accuracy: 0.4275 - val_loss: 1.9241 - val_accuracy: 0.3505\n",
      "Epoch 28/100\n",
      "4/4 [==============================] - 2s 405ms/step - loss: 1.7820 - accuracy: 0.4508 - val_loss: 1.8697 - val_accuracy: 0.2784\n",
      "Epoch 29/100\n",
      "4/4 [==============================] - 2s 388ms/step - loss: 1.7398 - accuracy: 0.4767 - val_loss: 2.0340 - val_accuracy: 0.2371\n",
      "Epoch 30/100\n",
      "4/4 [==============================] - 2s 397ms/step - loss: 1.6764 - accuracy: 0.4767 - val_loss: 1.8215 - val_accuracy: 0.3711\n",
      "Epoch 31/100\n",
      "4/4 [==============================] - 2s 408ms/step - loss: 1.6966 - accuracy: 0.5337 - val_loss: 1.8799 - val_accuracy: 0.2990\n",
      "Epoch 32/100\n",
      "4/4 [==============================] - 2s 391ms/step - loss: 1.6700 - accuracy: 0.5596 - val_loss: 1.8238 - val_accuracy: 0.3299\n",
      "Epoch 33/100\n",
      "4/4 [==============================] - 2s 395ms/step - loss: 1.5968 - accuracy: 0.5596 - val_loss: 1.9457 - val_accuracy: 0.3299\n",
      "Epoch 34/100\n",
      "4/4 [==============================] - 2s 374ms/step - loss: 1.6707 - accuracy: 0.4637 - val_loss: 2.0304 - val_accuracy: 0.2680\n",
      "Epoch 35/100\n",
      "4/4 [==============================] - 2s 372ms/step - loss: 1.5722 - accuracy: 0.5570 - val_loss: 1.8419 - val_accuracy: 0.3196\n",
      "Epoch 36/100\n",
      "4/4 [==============================] - 2s 408ms/step - loss: 1.5189 - accuracy: 0.5933 - val_loss: 1.7810 - val_accuracy: 0.3608\n",
      "Epoch 37/100\n",
      "4/4 [==============================] - 2s 418ms/step - loss: 1.4844 - accuracy: 0.5674 - val_loss: 1.8025 - val_accuracy: 0.3299\n",
      "Epoch 38/100\n",
      "4/4 [==============================] - 2s 397ms/step - loss: 1.4069 - accuracy: 0.5855 - val_loss: 1.8489 - val_accuracy: 0.3299\n",
      "Epoch 39/100\n",
      "4/4 [==============================] - 2s 407ms/step - loss: 1.3755 - accuracy: 0.5674 - val_loss: 1.7918 - val_accuracy: 0.4639\n",
      "Epoch 40/100\n",
      "4/4 [==============================] - 2s 412ms/step - loss: 1.3480 - accuracy: 0.5777 - val_loss: 1.6730 - val_accuracy: 0.3918\n",
      "Epoch 41/100\n",
      "4/4 [==============================] - 2s 407ms/step - loss: 1.3428 - accuracy: 0.5544 - val_loss: 1.9528 - val_accuracy: 0.2990\n",
      "Epoch 42/100\n",
      "4/4 [==============================] - 2s 381ms/step - loss: 1.4362 - accuracy: 0.4482 - val_loss: 2.3731 - val_accuracy: 0.2680\n",
      "Epoch 43/100\n",
      "4/4 [==============================] - 2s 378ms/step - loss: 1.7457 - accuracy: 0.3575 - val_loss: 1.8804 - val_accuracy: 0.2990\n",
      "Epoch 44/100\n",
      "4/4 [==============================] - 2s 392ms/step - loss: 1.4365 - accuracy: 0.4689 - val_loss: 2.2404 - val_accuracy: 0.1134\n",
      "Epoch 45/100\n",
      "4/4 [==============================] - 2s 394ms/step - loss: 1.5683 - accuracy: 0.3601 - val_loss: 2.1020 - val_accuracy: 0.1237\n",
      "Epoch 46/100\n",
      "4/4 [==============================] - 2s 434ms/step - loss: 1.4329 - accuracy: 0.4689 - val_loss: 1.9212 - val_accuracy: 0.2062\n",
      "Epoch 47/100\n",
      "4/4 [==============================] - 2s 423ms/step - loss: 1.3389 - accuracy: 0.5803 - val_loss: 1.7900 - val_accuracy: 0.2990\n",
      "Epoch 48/100\n",
      "4/4 [==============================] - 2s 418ms/step - loss: 1.2479 - accuracy: 0.6477 - val_loss: 1.7552 - val_accuracy: 0.3299\n",
      "Epoch 49/100\n",
      "4/4 [==============================] - 2s 404ms/step - loss: 1.2495 - accuracy: 0.6269 - val_loss: 1.7233 - val_accuracy: 0.4021\n",
      "Epoch 50/100\n",
      "4/4 [==============================] - 2s 412ms/step - loss: 1.2173 - accuracy: 0.6347 - val_loss: 1.7056 - val_accuracy: 0.3918\n",
      "Epoch 51/100\n",
      "4/4 [==============================] - 2s 413ms/step - loss: 1.1789 - accuracy: 0.6114 - val_loss: 1.7678 - val_accuracy: 0.3608\n",
      "Epoch 52/100\n",
      "4/4 [==============================] - 2s 418ms/step - loss: 1.1558 - accuracy: 0.6295 - val_loss: 1.8291 - val_accuracy: 0.3299\n",
      "Epoch 53/100\n",
      "4/4 [==============================] - 2s 423ms/step - loss: 1.1272 - accuracy: 0.6373 - val_loss: 1.7890 - val_accuracy: 0.4021\n",
      "Epoch 54/100\n",
      "4/4 [==============================] - 2s 455ms/step - loss: 1.0773 - accuracy: 0.6477 - val_loss: 1.8744 - val_accuracy: 0.3711\n",
      "Epoch 55/100\n",
      "4/4 [==============================] - 2s 478ms/step - loss: 1.1057 - accuracy: 0.6710 - val_loss: 1.9616 - val_accuracy: 0.3299\n",
      "Epoch 56/100\n",
      "4/4 [==============================] - 2s 451ms/step - loss: 1.0531 - accuracy: 0.6839 - val_loss: 1.9238 - val_accuracy: 0.3299\n",
      "Epoch 57/100\n",
      "4/4 [==============================] - 2s 444ms/step - loss: 1.0450 - accuracy: 0.6865 - val_loss: 1.8728 - val_accuracy: 0.3608\n",
      "Epoch 58/100\n",
      "4/4 [==============================] - 2s 444ms/step - loss: 1.0040 - accuracy: 0.7202 - val_loss: 1.8828 - val_accuracy: 0.4124\n"
     ]
    },
    {
     "name": "stdout",
     "output_type": "stream",
     "text": [
      "Epoch 59/100\n",
      "4/4 [==============================] - 2s 448ms/step - loss: 0.9694 - accuracy: 0.7435 - val_loss: 1.9209 - val_accuracy: 0.4124\n",
      "Epoch 60/100\n",
      "4/4 [==============================] - 2s 477ms/step - loss: 0.9424 - accuracy: 0.7461 - val_loss: 1.8572 - val_accuracy: 0.3918\n",
      "Epoch 61/100\n",
      "4/4 [==============================] - 2s 455ms/step - loss: 0.9760 - accuracy: 0.7306 - val_loss: 2.2169 - val_accuracy: 0.3299\n",
      "Epoch 62/100\n",
      "4/4 [==============================] - 2s 473ms/step - loss: 1.0304 - accuracy: 0.6762 - val_loss: 2.3443 - val_accuracy: 0.2474\n",
      "Epoch 63/100\n",
      "4/4 [==============================] - 2s 460ms/step - loss: 1.0752 - accuracy: 0.6736 - val_loss: 2.2743 - val_accuracy: 0.3402\n",
      "Epoch 64/100\n",
      "4/4 [==============================] - 2s 465ms/step - loss: 1.1376 - accuracy: 0.6321 - val_loss: 2.2588 - val_accuracy: 0.2165\n",
      "Epoch 65/100\n",
      "4/4 [==============================] - 2s 422ms/step - loss: 1.0099 - accuracy: 0.7124 - val_loss: 1.8152 - val_accuracy: 0.4124\n",
      "Epoch 66/100\n",
      "4/4 [==============================] - 2s 456ms/step - loss: 1.0080 - accuracy: 0.7513 - val_loss: 1.7732 - val_accuracy: 0.4227\n",
      "Epoch 67/100\n",
      "4/4 [==============================] - 2s 433ms/step - loss: 0.9830 - accuracy: 0.7772 - val_loss: 1.7684 - val_accuracy: 0.4021\n",
      "Epoch 68/100\n",
      "4/4 [==============================] - 2s 449ms/step - loss: 0.9848 - accuracy: 0.7591 - val_loss: 1.7441 - val_accuracy: 0.3918\n",
      "Epoch 69/100\n",
      "4/4 [==============================] - 2s 439ms/step - loss: 0.9174 - accuracy: 0.8057 - val_loss: 1.7091 - val_accuracy: 0.4124\n",
      "Epoch 70/100\n",
      "4/4 [==============================] - 2s 423ms/step - loss: 0.8938 - accuracy: 0.7720 - val_loss: 1.8272 - val_accuracy: 0.3711\n",
      "Epoch 71/100\n",
      "4/4 [==============================] - 2s 439ms/step - loss: 0.8368 - accuracy: 0.7617 - val_loss: 1.9462 - val_accuracy: 0.3814\n",
      "Epoch 72/100\n",
      "4/4 [==============================] - 2s 444ms/step - loss: 0.8093 - accuracy: 0.7694 - val_loss: 2.1966 - val_accuracy: 0.2990\n",
      "Epoch 73/100\n",
      "4/4 [==============================] - 2s 479ms/step - loss: 0.8951 - accuracy: 0.7124 - val_loss: 2.1100 - val_accuracy: 0.3505\n",
      "Epoch 74/100\n",
      "4/4 [==============================] - 2s 439ms/step - loss: 0.9101 - accuracy: 0.7280 - val_loss: 2.0084 - val_accuracy: 0.3711\n",
      "Epoch 75/100\n",
      "4/4 [==============================] - 2s 433ms/step - loss: 0.9341 - accuracy: 0.7383 - val_loss: 1.7036 - val_accuracy: 0.3814\n",
      "Epoch 76/100\n",
      "4/4 [==============================] - 2s 428ms/step - loss: 0.8995 - accuracy: 0.7513 - val_loss: 1.7094 - val_accuracy: 0.3918\n",
      "Epoch 77/100\n",
      "4/4 [==============================] - 2s 433ms/step - loss: 0.8391 - accuracy: 0.7798 - val_loss: 1.6313 - val_accuracy: 0.4124\n",
      "Epoch 78/100\n",
      "4/4 [==============================] - 2s 439ms/step - loss: 0.7941 - accuracy: 0.7876 - val_loss: 1.7108 - val_accuracy: 0.3505\n",
      "Epoch 79/100\n",
      "4/4 [==============================] - 2s 444ms/step - loss: 0.7403 - accuracy: 0.8109 - val_loss: 1.7824 - val_accuracy: 0.3711\n",
      "Epoch 80/100\n",
      "4/4 [==============================] - 2s 450ms/step - loss: 0.7537 - accuracy: 0.7979 - val_loss: 1.9147 - val_accuracy: 0.3402\n",
      "Epoch 81/100\n",
      "4/4 [==============================] - 2s 438ms/step - loss: 0.7343 - accuracy: 0.7824 - val_loss: 1.7336 - val_accuracy: 0.4536\n",
      "Epoch 82/100\n",
      "4/4 [==============================] - 2s 454ms/step - loss: 0.7740 - accuracy: 0.7383 - val_loss: 1.9682 - val_accuracy: 0.3918\n",
      "Epoch 83/100\n",
      "4/4 [==============================] - 2s 460ms/step - loss: 0.7283 - accuracy: 0.7617 - val_loss: 2.1757 - val_accuracy: 0.3196\n",
      "Epoch 84/100\n",
      "4/4 [==============================] - 2s 510ms/step - loss: 0.7290 - accuracy: 0.7409 - val_loss: 2.0375 - val_accuracy: 0.3196\n",
      "Epoch 85/100\n",
      "4/4 [==============================] - 2s 472ms/step - loss: 0.6710 - accuracy: 0.7798 - val_loss: 1.8111 - val_accuracy: 0.4536\n",
      "Epoch 86/100\n",
      "4/4 [==============================] - 2s 455ms/step - loss: 0.6357 - accuracy: 0.8005 - val_loss: 1.7947 - val_accuracy: 0.4536\n",
      "Epoch 87/100\n",
      "4/4 [==============================] - 2s 455ms/step - loss: 0.5828 - accuracy: 0.8472 - val_loss: 1.7305 - val_accuracy: 0.4639\n",
      "Epoch 88/100\n",
      "4/4 [==============================] - 2s 453ms/step - loss: 0.6721 - accuracy: 0.8135 - val_loss: 2.0416 - val_accuracy: 0.3402\n",
      "Epoch 89/100\n",
      "4/4 [==============================] - 2s 449ms/step - loss: 0.7821 - accuracy: 0.7694 - val_loss: 1.9373 - val_accuracy: 0.3814\n",
      "Epoch 90/100\n",
      "4/4 [==============================] - 2s 470ms/step - loss: 0.8328 - accuracy: 0.7150 - val_loss: 1.8823 - val_accuracy: 0.3918\n",
      "Epoch 91/100\n",
      "4/4 [==============================] - 2s 464ms/step - loss: 0.7137 - accuracy: 0.8005 - val_loss: 1.8672 - val_accuracy: 0.4124\n",
      "Epoch 92/100\n",
      "4/4 [==============================] - 2s 455ms/step - loss: 0.6284 - accuracy: 0.8523 - val_loss: 1.8050 - val_accuracy: 0.4124\n",
      "Epoch 93/100\n",
      "4/4 [==============================] - 2s 486ms/step - loss: 0.5928 - accuracy: 0.8549 - val_loss: 1.9343 - val_accuracy: 0.4330\n",
      "Epoch 94/100\n",
      "4/4 [==============================] - 2s 533ms/step - loss: 0.6260 - accuracy: 0.8627 - val_loss: 1.9033 - val_accuracy: 0.4227\n",
      "Epoch 95/100\n",
      "4/4 [==============================] - 2s 492ms/step - loss: 0.6074 - accuracy: 0.8549 - val_loss: 1.8646 - val_accuracy: 0.4227\n",
      "Epoch 96/100\n",
      "4/4 [==============================] - 2s 475ms/step - loss: 0.5508 - accuracy: 0.8964 - val_loss: 1.8272 - val_accuracy: 0.4227\n",
      "Epoch 97/100\n",
      "4/4 [==============================] - 2s 498ms/step - loss: 0.5699 - accuracy: 0.8601 - val_loss: 1.7728 - val_accuracy: 0.4845\n",
      "Epoch 98/100\n",
      "4/4 [==============================] - 2s 471ms/step - loss: 0.4717 - accuracy: 0.9119 - val_loss: 1.8576 - val_accuracy: 0.5052\n",
      "Epoch 99/100\n",
      "4/4 [==============================] - 2s 450ms/step - loss: 0.4892 - accuracy: 0.8731 - val_loss: 2.0348 - val_accuracy: 0.4227\n",
      "Epoch 100/100\n",
      "4/4 [==============================] - 2s 459ms/step - loss: 0.4802 - accuracy: 0.8860 - val_loss: 2.0789 - val_accuracy: 0.4021\n"
     ]
    }
   ],
   "source": [
    "model.compile(loss='categorical_crossentropy', optimizer='adam', metrics=['accuracy'])\n",
    "\n",
    "epochs = 100\n",
    "batch_size = 128\n",
    "\n",
    "history_text= model.fit(X_train, Y_train, epochs=epochs, batch_size=batch_size,validation_split=0.2)"
   ]
  },
  {
   "cell_type": "code",
   "execution_count": 25,
   "id": "a2c4bf3e",
   "metadata": {},
   "outputs": [
    {
     "name": "stdout",
     "output_type": "stream",
     "text": [
      "Last Validation Accuracy Text LSTM: 0.4020618498325348\n"
     ]
    }
   ],
   "source": [
    "last_acc_text = history_text.history['val_accuracy'][-1]\n",
    "print(\"Last Validation Accuracy Text LSTM:\", last_acc_text)"
   ]
  },
  {
   "cell_type": "code",
   "execution_count": 26,
   "id": "a187583a",
   "metadata": {},
   "outputs": [
    {
     "data": {
      "text/plain": [
       "<matplotlib.legend.Legend at 0x24f161208b0>"
      ]
     },
     "execution_count": 26,
     "metadata": {},
     "output_type": "execute_result"
    },
    {
     "data": {
      "image/png": "[encoded data removed]",
      "text/plain": [
       "<Figure size 640x480 with 1 Axes>"
      ]
     },
     "metadata": {},
     "output_type": "display_data"
    }
   ],
   "source": [
    "plt.title('Loss')\n",
    "plt.plot(history_text.history['loss'], label='train')\n",
    "plt.plot(history_text.history['val_loss'], label='test')\n",
    "plt.legend()"
   ]
  },
  {
   "cell_type": "code",
   "execution_count": 27,
   "id": "04f9c796",
   "metadata": {},
   "outputs": [
    {
     "data": {
      "text/plain": [
       "<matplotlib.legend.Legend at 0x24f15e329a0>"
      ]
     },
     "execution_count": 27,
     "metadata": {},
     "output_type": "execute_result"
    },
    {
     "data": {
      "image/png": "[encoded data removed]",
      "text/plain": [
       "<Figure size 640x480 with 1 Axes>"
      ]
     },
     "metadata": {},
     "output_type": "display_data"
    }
   ],
   "source": [
    "plt.title('Accuracy')\n",
    "plt.plot(history_text.history['accuracy'], label='train')\n",
    "plt.plot(history_text.history['val_accuracy'], label='test')\n",
    "plt.legend()"
   ]
  },
  {
   "cell_type": "markdown",
   "id": "9515ce2f",
   "metadata": {},
   "source": [
    "[Back to the top](#start)\n",
    "<a name='5.0'></a>\n",
    "\n",
    "<div style=\"background-color:#216375; text-align:center; vertical-align:middle; padding:10px 0; margin-top:5px; margin-bottom:5px\">\n",
    "        <h2 style=\"color:white\"><strong>H5: Transformer voor songteksten</strong></h2>\n",
    "</div>"
   ]
  },
  {
   "cell_type": "code",
   "execution_count": 21,
   "id": "668983df",
   "metadata": {},
   "outputs": [
    {
     "data": {
      "text/html": [
       "<div>\n",
       "<style scoped>\n",
       "    .dataframe tbody tr th:only-of-type {\n",
       "        vertical-align: middle;\n",
       "    }\n",
       "\n",
       "    .dataframe tbody tr th {\n",
       "        vertical-align: top;\n",
       "    }\n",
       "\n",
       "    .dataframe thead th {\n",
       "        text-align: right;\n",
       "    }\n",
       "</style>\n",
       "<table border=\"1\" class=\"dataframe\">\n",
       "  <thead>\n",
       "    <tr style=\"text-align: right;\">\n",
       "      <th></th>\n",
       "      <th>filename</th>\n",
       "      <th>lyrics</th>\n",
       "      <th>genre</th>\n",
       "      <th>lyrics_length</th>\n",
       "    </tr>\n",
       "  </thead>\n",
       "  <tbody>\n",
       "    <tr>\n",
       "      <th>0</th>\n",
       "      <td>blues.00001.wav</td>\n",
       "      <td>I’m in the Mood Lyrics[Verse 1]\\nI'm in the mo...</td>\n",
       "      <td>blues</td>\n",
       "      <td>706</td>\n",
       "    </tr>\n",
       "    <tr>\n",
       "      <th>1</th>\n",
       "      <td>blues.00002.wav</td>\n",
       "      <td>(John Lee Hooker)\\nThink twice before you go, ...</td>\n",
       "      <td>blues</td>\n",
       "      <td>755</td>\n",
       "    </tr>\n",
       "    <tr>\n",
       "      <th>2</th>\n",
       "      <td>blues.00003.wav</td>\n",
       "      <td>[Intro, Spoken]\\n...A little thing I'm going t...</td>\n",
       "      <td>blues</td>\n",
       "      <td>1456</td>\n",
       "    </tr>\n",
       "    <tr>\n",
       "      <th>3</th>\n",
       "      <td>blues.00005.wav</td>\n",
       "      <td>Sugar mama, sugar mama, sugar mama please come...</td>\n",
       "      <td>blues</td>\n",
       "      <td>1318</td>\n",
       "    </tr>\n",
       "    <tr>\n",
       "      <th>4</th>\n",
       "      <td>blues.00006.wav</td>\n",
       "      <td>My baby left me this morning\\nPeople just arou...</td>\n",
       "      <td>blues</td>\n",
       "      <td>713</td>\n",
       "    </tr>\n",
       "    <tr>\n",
       "      <th>...</th>\n",
       "      <td>...</td>\n",
       "      <td>...</td>\n",
       "      <td>...</td>\n",
       "      <td>...</td>\n",
       "    </tr>\n",
       "    <tr>\n",
       "      <th>532</th>\n",
       "      <td>rock.00094.wav</td>\n",
       "      <td>[Chorus]\\nDon’t stop\\nIsn’t it funny how you s...</td>\n",
       "      <td>rock</td>\n",
       "      <td>793</td>\n",
       "    </tr>\n",
       "    <tr>\n",
       "      <th>533</th>\n",
       "      <td>rock.00096.wav</td>\n",
       "      <td>[Verse 1]\\nHer hair, soft drifted snow\\nDeath ...</td>\n",
       "      <td>rock</td>\n",
       "      <td>1155</td>\n",
       "    </tr>\n",
       "    <tr>\n",
       "      <th>534</th>\n",
       "      <td>rock.00097.wav</td>\n",
       "      <td>[Verse 1]\\nYour knuckles whiten on the wheel\\n...</td>\n",
       "      <td>rock</td>\n",
       "      <td>1214</td>\n",
       "    </tr>\n",
       "    <tr>\n",
       "      <th>535</th>\n",
       "      <td>rock.00098.wav</td>\n",
       "      <td>[Verse 1]\\nYou know it\\nYou show it\\nAnd the t...</td>\n",
       "      <td>rock</td>\n",
       "      <td>1002</td>\n",
       "    </tr>\n",
       "    <tr>\n",
       "      <th>536</th>\n",
       "      <td>rock.00099.wav</td>\n",
       "      <td>[Verse 1]\\nA girl consumed by fire\\nWe all kno...</td>\n",
       "      <td>rock</td>\n",
       "      <td>1439</td>\n",
       "    </tr>\n",
       "  </tbody>\n",
       "</table>\n",
       "<p>537 rows × 4 columns</p>\n",
       "</div>"
      ],
      "text/plain": [
       "            filename                                             lyrics  \\\n",
       "0    blues.00001.wav  I’m in the Mood Lyrics[Verse 1]\\nI'm in the mo...   \n",
       "1    blues.00002.wav  (John Lee Hooker)\\nThink twice before you go, ...   \n",
       "2    blues.00003.wav  [Intro, Spoken]\\n...A little thing I'm going t...   \n",
       "3    blues.00005.wav  Sugar mama, sugar mama, sugar mama please come...   \n",
       "4    blues.00006.wav  My baby left me this morning\\nPeople just arou...   \n",
       "..               ...                                                ...   \n",
       "532   rock.00094.wav  [Chorus]\\nDon’t stop\\nIsn’t it funny how you s...   \n",
       "533   rock.00096.wav  [Verse 1]\\nHer hair, soft drifted snow\\nDeath ...   \n",
       "534   rock.00097.wav  [Verse 1]\\nYour knuckles whiten on the wheel\\n...   \n",
       "535   rock.00098.wav  [Verse 1]\\nYou know it\\nYou show it\\nAnd the t...   \n",
       "536   rock.00099.wav  [Verse 1]\\nA girl consumed by fire\\nWe all kno...   \n",
       "\n",
       "     genre  lyrics_length  \n",
       "0    blues            706  \n",
       "1    blues            755  \n",
       "2    blues           1456  \n",
       "3    blues           1318  \n",
       "4    blues            713  \n",
       "..     ...            ...  \n",
       "532   rock            793  \n",
       "533   rock           1155  \n",
       "534   rock           1214  \n",
       "535   rock           1002  \n",
       "536   rock           1439  \n",
       "\n",
       "[537 rows x 4 columns]"
      ]
     },
     "execution_count": 21,
     "metadata": {},
     "output_type": "execute_result"
    }
   ],
   "source": [
    "tekst"
   ]
  },
  {
   "cell_type": "markdown",
   "id": "d093b339",
   "metadata": {},
   "source": [
    "<a name='5.1'></a>\n",
    "<h3>&sect;5.1: Het model</h3>"
   ]
  },
  {
   "cell_type": "markdown",
   "id": "06e8ea3d",
   "metadata": {},
   "source": [
    "<a name='5.2'></a>\n",
    "<h3>&sect;5.2: Fine-tuning Hugging Face</h3>"
   ]
  },
  {
   "cell_type": "code",
   "execution_count": null,
   "id": "ea4b9adf",
   "metadata": {},
   "outputs": [],
   "source": [
    "#LET OP DAT JE JE MODEL TRAINT MET DE NAAM HISTORY_TRANSF\n",
    "last_acc_transf = history_transf.history['val_accuracy'][-1]\n",
    "print(\"Last Validation Accuracy Transformer model:\", last_acc_tranfs)"
   ]
  },
  {
   "cell_type": "markdown",
   "id": "339833de",
   "metadata": {},
   "source": [
    "<a name='5.3'></a>\n",
    "<h3>&sect;5.3: Naam modelarchitectuur en dataset</h3>"
   ]
  },
  {
   "cell_type": "markdown",
   "id": "424ca908",
   "metadata": {},
   "source": [
    "<a name='5.4'></a>\n",
    "<h3>&sect;5.4: Voordelen vooraf getrainde tekstmodellen</h3>"
   ]
  },
  {
   "cell_type": "markdown",
   "id": "a1ce47a2",
   "metadata": {},
   "source": [
    "<a name='5.5'></a>\n",
    "<h3>&sect;5.5: Stappen finetunen vooraf getraind model en motivatie keuzes</h3>"
   ]
  },
  {
   "cell_type": "code",
   "execution_count": null,
   "id": "ebcdd95e",
   "metadata": {},
   "outputs": [],
   "source": []
  },
  {
   "cell_type": "markdown",
   "id": "15929fb8",
   "metadata": {},
   "source": [
    "[Back to the top](#start)\n",
    "<a name='6.0'></a>\n",
    "\n",
    "<div style=\"background-color:#216375; text-align:center; vertical-align:middle; padding:10px 0; margin-top:5px; margin-bottom:5px\">\n",
    "        <h2 style=\"color:white\"><strong>H6: Model naar keuze</strong></h2>\n",
    "</div>"
   ]
  },
  {
   "cell_type": "markdown",
   "id": "f67b9afd",
   "metadata": {},
   "source": [
    "<a name='6.1'></a>\n",
    "<h3>&sect;6.1: Het model</h3>"
   ]
  },
  {
   "cell_type": "markdown",
   "id": "c6f09383",
   "metadata": {},
   "source": [
    "<a name='6.2'></a>\n",
    "<h3>&sect;6.2: Modelarchitectuur</h3>"
   ]
  },
  {
   "cell_type": "markdown",
   "id": "ea70d90c",
   "metadata": {},
   "source": [
    "<a name='6.3'></a>\n",
    "<h3>&sect;6.3: Uitleg keuzes model</h3>"
   ]
  },
  {
   "cell_type": "markdown",
   "id": "9c1a1ffb",
   "metadata": {},
   "source": [
    "<a name='6.4'></a>\n",
    "<h3>&sect;6.4: Model trainen</h3>"
   ]
  },
  {
   "cell_type": "code",
   "execution_count": null,
   "id": "ceac9ae9",
   "metadata": {},
   "outputs": [],
   "source": [
    "#LET OP DAT JE JE MODEL TRAINT MET DE NAAM HISTORY_EIGEN\n",
    "last_acc_eigen = history_eigen.history['val_accuracy'][-1]\n",
    "print(\"Last Validation Accuracy Own Model:\", last_acc_eigen)"
   ]
  },
  {
   "cell_type": "markdown",
   "id": "08c5241f",
   "metadata": {},
   "source": [
    "[Back to the top](#start)\n",
    "<a name='7.0'></a>\n",
    "\n",
    "<div style=\"background-color:#216375; text-align:center; vertical-align:middle; padding:10px 0; margin-top:5px; margin-bottom:5px\">\n",
    "        <h2 style=\"color:white\"><strong>H7: Bevindingen</strong></h2>\n",
    "</div>"
   ]
  },
  {
   "cell_type": "markdown",
   "id": "08688965",
   "metadata": {},
   "source": [
    "<a name='7.1'></a>\n",
    "<h3>&sect;7.1: Samenvatting van de uitkomsten</h3>"
   ]
  },
  {
   "cell_type": "markdown",
   "id": "40b2fa47",
   "metadata": {},
   "source": [
    "##### Geef een beknopt overzicht van de resultaten"
   ]
  },
  {
   "cell_type": "code",
   "execution_count": null,
   "id": "c7c714aa",
   "metadata": {},
   "outputs": [],
   "source": [
    "print(\"LSTM Audio: \", last_acc_audio)\n",
    "print(\"LSTM SOngteksten: \", last_acc_text)\n",
    "print(\"Transformer model: \", last_acc_transf)\n",
    "print(\"Eigen keuze model: \", last_acc_eigen)"
   ]
  },
  {
   "cell_type": "markdown",
   "id": "cec894e4",
   "metadata": {},
   "source": [
    "##### Welke model presteert het beste? Bij welke parameters?"
   ]
  },
  {
   "cell_type": "markdown",
   "id": "e3b8ed5e",
   "metadata": {},
   "source": [
    "Het model dat voor ons het beste presteert is het Transformer model. Dit is een model wat al is gepre-traind met het doel om muziek genres af te leiden uit teksten. Het basis model wat wij in ons transformer model werkt dus goed met de taak die wij moeten uitvoeren, waardoor het ook voor ons logisch was dat dit model goed voor ons werkt. De parameters die hiervoor zijn gebruikt zijn de volgende:\n",
    "\n",
    "training_args = TrainingArguments(\n",
    "\n",
    "    - output_dir=\"./results\",\n",
    "    - num_train_epochs=3,\n",
    "    - per_device_train_batch_size=2,\n",
    "    - per_device_eval_batch_size=2,\n",
    "    - logging_dir=\"./logs\",\n",
    "    - logging_steps=100,\n",
    "    - evaluation_strategy=\"steps\",\n",
    "    - eval_steps=500,\n",
    "    - save_steps=500,\n",
    "    - learning_rate=2e-5,\n",
    ")\n",
    "\n",
    "Het basis transformer model wat is gebruikt voor het trainen van het model is het \"juliensimon/autonlp-song-lyrics-18753417\" model."
   ]
  },
  {
   "cell_type": "markdown",
   "id": "c76c39b6",
   "metadata": {},
   "source": [
    "##### Toon je scores op Kaggle en laat zien wat de resultaten waren van je verbeteringen op je score op Kaggle."
   ]
  },
  {
   "cell_type": "markdown",
   "id": "7c5a62fb",
   "metadata": {},
   "source": [
    "Hieronder worden resultaten van enkele modellen getoond van Kaggle. Dit waren namelijk de modellen die een goede verbetering lieten zien met een verklaarbare reden."
   ]
  },
  {
   "cell_type": "markdown",
   "id": "9c756531",
   "metadata": {},
   "source": [
    "# LSTM Audio"
   ]
  },
  {
   "attachments": {
    "LSTM%20audio.png": {
     "image/png": "[encoded data removed]"
    }
   },
   "cell_type": "markdown",
   "id": "2dfc9b2f",
   "metadata": {},
   "source": [
    "![LSTM%20audio.png](attachment:LSTM%20audio.png)"
   ]
  },
  {
   "cell_type": "markdown",
   "id": "7deebb5e",
   "metadata": {},
   "source": [
    "De eerste versie van het audio model die in Kaggle is getest is een model waar maar 3 epochs mee waren getraind om te kijken of het werkte en het formaat klopte. Ook was hier nog geen l2 regularisatie toegevoegd waardoor het model niet geweldig heeft gepresteerd op de ongeziene test data."
   ]
  },
  {
   "attachments": {
    "LSTM%20audio%202.png": {
     "image/png": "[encoded data removed]"
    }
   },
   "cell_type": "markdown",
   "id": "385226b8",
   "metadata": {},
   "source": [
    "![LSTM%20audio%202.png](attachment:LSTM%20audio%202.png)"
   ]
  },
  {
   "cell_type": "markdown",
   "id": "9b61a3b7",
   "metadata": {},
   "source": [
    "De tweede versie van het LSTM model met audio bestanden presteerde niet veel beter maar wel wat. Hieraan is het model getraind met 100 epochs en is er een regularisatie toegevoegd van l2 aan iedere laag van het model. Het model doet het beter, maar we verwachtte al dat dit niet het beste model ging woorden."
   ]
  },
  {
   "cell_type": "markdown",
   "id": "ad231310",
   "metadata": {},
   "source": [
    "# Transformer model"
   ]
  },
  {
   "attachments": {
    "Transformer%20model.png": {
     "image/png": "[encoded data removed]"
    }
   },
   "cell_type": "markdown",
   "id": "8b9b9c32",
   "metadata": {},
   "source": [
    "![Transformer%20model.png](attachment:Transformer%20model.png)"
   ]
  },
  {
   "cell_type": "markdown",
   "id": "2983d340",
   "metadata": {},
   "source": [
    "Het eerste transformer model wat wij hebben getest op Kaggle was meteen ons beste resultaat van deze competitie. We hebben gebruik gemaakt van een transformer model die gemaakt is om songteksten te gebruiken om te bepalen wat voor genre het liedje heeft. Bijna alle genres die wij moesten voorspellen waren aanwezig in het pre-traind model, waardoor het al veel had geleerd en met onze nieuwe data goed kon voorspellen."
   ]
  },
  {
   "attachments": {
    "Transformer%20model%202.png": {
     "image/png": "[encoded data removed]"
    }
   },
   "cell_type": "markdown",
   "id": "89765ef9",
   "metadata": {},
   "source": [
    "![Transformer%20model%202.png](attachment:Transformer%20model%202.png)"
   ]
  },
  {
   "cell_type": "markdown",
   "id": "78923ada",
   "metadata": {},
   "source": [
    "Na het succesvolle eerste resultaat van het transformer model zijn er nog een aantal pogingen geweest waarvan de hierboven getoonde score de hoogste was na de score van 0.75. Er is tijdens het trainen van het model gebruik gemaakt van een ander basis model, wat minder goed aansloot op onze opdracht en dus ook minder goede voorspellingen heeft kunnen maken."
   ]
  },
  {
   "cell_type": "markdown",
   "id": "a2aadbd2",
   "metadata": {},
   "source": [
    "[Back to the top](#start)\n",
    "<a name='8.0'></a>\n",
    "\n",
    "<div style=\"background-color:#216375; text-align:center; vertical-align:middle; padding:10px 0; margin-top:5px; margin-bottom:5px\">\n",
    "        <h2 style=\"color:white\"><strong>H8: Conclusie en aanbevelingen</strong></h2>\n",
    "</div>"
   ]
  },
  {
   "cell_type": "markdown",
   "id": "8eb6ad8d",
   "metadata": {},
   "source": [
    "<a name='8.1'></a>\n",
    "<h3>&sect;8.1: Uitdagingen modelleringsproces</h3>"
   ]
  },
  {
   "cell_type": "markdown",
   "id": "33da3823",
   "metadata": {},
   "source": [
    "##### LSTM voor audio:\n",
    "Bij het maken van een LSTM model voor het classificeren van audiobestanden aan verschillende genres had enkele uitdagingen. Als eerste bestond de data alleen uit audio fragmenten die erg moeilijk zijn om te begrijpen voor een model. Daarom was het nodig om een aantal features toe te voegen aan de data, zodat er makkelijker onderscheid gemaakt kon worden tussen de verschillende genres. Het was een uitdaging om uit te zoeken welke genres het beste toegevoegd konden worden aan de data en hoe dit dan ook geimplementeerd kon worden om een geheel dataset te maken met de nieuwe gegevens. Hiervoor zijn een aantal functies gebruik en dit was nog een beetje puzzelen en uitzoeken. Uiteindelijk was het ook erg vervelend dat het op een laptop zonder GPU erg lang duurde om het gehele model, met 100 epochs, te trainen waardoor het ook moeilijker was om even snel te kijken of nieuwe aanpassingen ook zorgen voor een beter resultaat. Het was dan ook jammer dat dit niet het model is geworden wat het beste heeft gepresteerd.\n",
    "\n",
    "##### LSTM voor songsteksten:\n",
    "De echte uitdaging lag niet zo zeer bij het model zelf bouwen maar bij het voorbereiden van de data. Het model lijkt heel erg op andere multi-class modellen die we al vaker hebben gemaakt. Dit was daarintegen wel de eerste keer dat ik met een tokenizer moest werken. Het model gaf eerst alleen Nan terug omdat de data niet correct voorbereid was. Maar na het onderzoeken en tweaken van de training data en de target is het gelukt.\n",
    "\n",
    "##### Transformer model:\n",
    "\n",
    "\n",
    "##### Eigen keuze model:"
   ]
  },
  {
   "cell_type": "markdown",
   "id": "33e8273e",
   "metadata": {},
   "source": [
    "<a name='8.2'></a>\n",
    "<h3>&sect;8.2: Prestaties modelarchitecturen</h3>"
   ]
  },
  {
   "cell_type": "markdown",
   "id": "2f04b7f1",
   "metadata": {},
   "source": [
    "Zoals hierboven al benoemd was het transformer model veruit het beste model met onze data. Wij hadden al wel verwacht dat een model beter om kan gaan met tekst data dan audio data. De reden dat wij dit denken is dan ook, omdat een model beter om kan gaan met getallen dan frequenties en geluid. Daarnaast hebben wij door dat het erg lasig is om uit een kort fragment van 30 seconden, of tekst, genoeg informatie te halen om correcte voorspellingen te doen. Daarom presteert het model met een vooraf getraind model beter dan een zelf gebouwd model."
   ]
  },
  {
   "cell_type": "markdown",
   "id": "0649c07c",
   "metadata": {},
   "source": [
    "<a name='8.3'></a>\n",
    "<h3>&sect;8.3: Beste modellen audio en tekst</h3>"
   ]
  },
  {
   "cell_type": "markdown",
   "id": "120b02e1",
   "metadata": {},
   "source": [
    "##### Audio:\n",
    "Het audio model dat het beste heeft gepresteerd op onze data is het LSTM model, omdat dit het enige model is die vol gefocust is op de audio data. In het notebook is er een redelijke accuracy van 0.43, maar op Kaggle komt het niet boven de 0.15. Daarom kunnen we als nog niet zeggen dat het een goed model was.\n",
    "\n",
    "##### Tekst: \n",
    "Ons beste tekst model was overduidelijk het transformer model wat op Kaggle een score van wel 0.75 heeft gehaald wat aangeeft dat 3/4 van de testdata zonder genres als nog goed is voorspeld. "
   ]
  },
  {
   "cell_type": "markdown",
   "id": "e18fae6f",
   "metadata": {},
   "source": [
    "<a name='8.4'></a>\n",
    "<h3>&sect;8.4: Genres makkelijk te voorspellen met audio en tekst</h3>"
   ]
  },
  {
   "cell_type": "markdown",
   "id": "53811536",
   "metadata": {},
   "source": []
  },
  {
   "cell_type": "markdown",
   "id": "025e1217",
   "metadata": {},
   "source": [
    "<a name='8.5'></a>\n",
    "<h3>&sect;8.5: Advies voor app</h3>"
   ]
  },
  {
   "cell_type": "markdown",
   "id": "5ddb3acd",
   "metadata": {},
   "source": [
    "Het advies wat wij zouden geven aan de mensen die een app zouden willen maken aan de hand van onze data is als eerst het gebruik maken van het transformer model die wij hebben gebruikt. Op Hugging Face kan de inhoud van het model bekeken worden en wij zouden het team aanraden hiernaar te kijken. Er is informatie te vinden zoals de genres die gerepresenteerd zijn in de data waarop het model getraind is. Zo kan er een selectie worden gemaakt van genres die hierin gerepresenteerd zijn met alle soorten genres. Omdat vaak niet alle genres muziek in zo'n vooraf getraind model staan raden wij het team ook aan na te denken over het bouwen van een eigen model voor op Hugging Face. Hierin zouden zij zelf kunnen bepalen op welke genres getraind kan worden en hier dus ook nieuwe genres aan toe voegen. "
   ]
  },
  {
   "cell_type": "markdown",
   "id": "1fe3379a",
   "metadata": {},
   "source": [
    "<a name='8.6'></a>\n",
    "<h3>&sect;8.6: Conceptuele uitbreiding voor systeem</h3>"
   ]
  },
  {
   "cell_type": "markdown",
   "id": "c68fcc1a",
   "metadata": {},
   "source": [
    "Wij zouden goed na gaan of er transformer modellen zijn die echt alle genres bevatten die in onze dataset staan, zodat het model een hogere accuracy zou kunnen bereiken. Ook zouden wij gebruik maken van meer liedjes per genre die gebalanceerd verdeeld zijn. In de data zitten nu nog enkele genres die minder liedjes bevatten dan de andere waardoor het ook moeilijker wordt om alle genres even goed te kunnen voorspellen. Ook zouden wij er voor kunnen kiezen om alleen gebruik te maken van genres die ver uit elkaar liggen, zodat er makkelijker onderscheid gemaakt kan worden en wij met meer zekerheid een genre zouden kunnen voorspellen. Er zijn dus nog veel stappen die (conceptueel) ondernomen kunnen worden om de resultaten te verbeteren."
   ]
  },
  {
   "cell_type": "markdown",
   "id": "124aabbc",
   "metadata": {},
   "source": [
    "[Back to the top](#start)\n",
    "<a name='9.0'></a>\n",
    "\n",
    "<div style=\"background-color:#216375; text-align:center; vertical-align:middle; padding:10px 0; margin-top:5px; margin-bottom:5px\">\n",
    "        <h2 style=\"color:white\"><strong>H9: Literatuurlijst</strong></h2>\n",
    "</div>"
   ]
  },
  {
   "cell_type": "markdown",
   "id": "8aaafefb",
   "metadata": {},
   "source": [
    "##### EDA:\n",
    "- Check audio’s sample rate using python. (n.d.). Stack Overflow. https://stackoverflow.com/questions/43490887/check-audios-sample-rate-using-python\n",
    "\n",
    "##### LSTM Audio:\n",
    "- Les opdracht Deep Learning week 7, les 1. Jupyter Notebook. http://localhost:8888/notebooks/Downloads/Jaar%202/Semester%202/Deep%20Learning/Week%207/Les%201/LSTM_voor_timeseries_data_%E2%80%93_classificatie_van_audioclips.ipynb\n",
    "- Seeing sound: What is a spectrogram? (n.d.). Sound and Vision Blog. https://blogs.bl.uk/sound-and-vision/2018/09/seeing-sound-what-is-a-spectrogram.html\n",
    "- Deruty, E. (2022, December 15). Intuitive understanding of MFCCs - Emmanuel Deruty - Medium. Medium. https://medium.com/@derutycsl/intuitive-understanding-of-mfccs-836d36a1f779\n",
    "\n",
    "##### LSTM Songteksten:\n",
    "- Ngyptr. (2018, May 22). Multi class classification with LSTM. Kaggle. https://www.kaggle.com/code/ngyptr/multi-class-classification-with-lstm\n",
    "- Li, S. (2021, December 9). Multi-Class Text Classification with LSTM - Towards Data Science. Medium. https://towardsdatascience.com/multi-class-text-classification-with-lstm-1590bee1bd17\n",
    "\n",
    "##### Transformer model:\n",
    "-\n",
    "\n",
    "##### Model naar keuze:\n",
    "-"
   ]
  }
 ],
 "metadata": {
  "kernelspec": {
   "display_name": "Python 3 (ipykernel)",
   "language": "python",
   "name": "python3"
  },
  "language_info": {
   "codemirror_mode": {
    "name": "ipython",
    "version": 3
   },
   "file_extension": ".py",
   "mimetype": "text/x-python",
   "name": "python",
   "nbconvert_exporter": "python",
   "pygments_lexer": "ipython3",
   "version": "3.9.19"
  }
 },
 "nbformat": 4,
 "nbformat_minor": 5
}
