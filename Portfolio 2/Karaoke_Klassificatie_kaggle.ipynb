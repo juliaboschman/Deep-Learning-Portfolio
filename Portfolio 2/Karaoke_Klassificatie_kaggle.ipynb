{
 "cells": [
  {
   "cell_type": "markdown",
   "id": "6b90e3dc",
   "metadata": {},
   "source": [
    "<div style=\"background-color:\t#216375 ; text-align:center; vertical-align: middle; padding:40px 0; margin-top:30px\">\n",
    "<h1 style=\"color:white\">Deep Learning - Karaoke klassificatie</h1>\n",
    "<b style=\"color:black\"> Kaggle: Yoyoyoghurt(teamnaam), JortAkershoek, juliaboschman, Sam Keesen </b>\n",
    "   \n",
    "<b style=\"color:white\"> Jort Akershoek, Julia Boschman, Sam Keesen</b>\n",
    "    </div>\n",
    "\n",
    "<a name='start'></a>"
   ]
  },
  {
   "cell_type": "markdown",
   "id": "e46cb623",
   "metadata": {},
   "source": [
    "## Table of contents\n",
    "\n",
    "1. [H1: Inleiding](#1.0)\n",
    "2. [H2: EDA](#2.0)\n",
    "    - [&sect;2.1: Audio fragmenten](#2.1)\n",
    "    - [&sect;2.2: Eigenschappen audio fragmenten](#2.2)\n",
    "    - [&sect;2.3: Songteksten](#2.3)\n",
    "    - [&sect;2.4: Conclusie EDA](#2.4)\n",
    "3. [H3: LSTM voor audioclips](#3.0)\n",
    "    - [&sect;3.1: Het model](#3.1)\n",
    "    - [&sect;3.2: Modelarchitectuur](#3.2)\n",
    "    - [&sect;3.3: Stappen feature engineering](#3.3)\n",
    "    - [&sect;3.4: Onderbouwing keuzes parameters](#3.4)\n",
    "    - [&sect;3.5: Geschikte loss functie en optimizer](#3.5)\n",
    "    - [&sect;3.6: Model trainen](#3.6)\n",
    "4. [H4: LSTM voor songteksten](#4.0)\n",
    "    - [&sect;4.1: Het model](#4.1)\n",
    "    - [&sect;4.2: Modelarchitectuur](#4.2)\n",
    "    - [&sect;4.3: Onderbouwing keuzes parameters](#4.3)\n",
    "    - [&sect;4.4: Datapipeline met data preprocessing, feature engineering, of/en data augmentation](#4.4)\n",
    "    - [&sect;4.5: Model trainen](#4.5)\n",
    "5. [H5: Transformer voor songteksten](#5.0)\n",
    "    - [&sect;5.1: Het model](#5.1)\n",
    "    - [&sect;5.2: Fine-tuning Hugging Face](#5.2)\n",
    "    - [&sect;5.3: Naam modelarchitectuur en dataset](#5.3)\n",
    "    - [&sect;5.4: Voordelen vooraf getrainde tekst modellen](#4.4)\n",
    "    - [&sect;5.5: Stappen finetunen vooraf getraind model en motivaties](#5.5)\n",
    "6. [H6: Model naar keuze](#6.0)\n",
    "    - [&sect;6.1: Het model](#6.1)\n",
    "    - [&sect;6.2: Modelarchitectuur](#6.2)\n",
    "    - [&sect;6.3: Uitleg keuzes model](#6.3)\n",
    "7. [H7: Bevindingen](#7.0)\n",
    "    - [&sect;7.1: Samenvatting van de uitkomst](#7.1)\n",
    "8. [H8: Conclusie en aanbevelingen](#8.0)\n",
    "    - [&sect;8.1: Uitdagingen modelleringsproces](#8.1)\n",
    "    - [&sect;8.2: Prestaties modelarchitecturen](#8.2)\n",
    "    - [&sect;8.3: Beste model audio en tekst](#8.3)\n",
    "    - [&sect;8.4: Genres makkelijk te voorspellen met audio en tekst](#8.4)\n",
    "    - [&sect;8.5: Advies voor app](#8.5)\n",
    "    - [&sect;8.6: Conceptuele uitbreiding voor systeem](#8.6)\n",
    "9. [H9: Literatuurlijst](#9.0)"
   ]
  },
  {
   "cell_type": "code",
   "execution_count": 1,
   "id": "7e922036",
   "metadata": {},
   "outputs": [],
   "source": [
    "#alle nodige imports\n",
    "import os\n",
    "import wave\n",
    "import random\n",
    "import pathlib\n",
    "import numpy as np\n",
    "import pandas as pd\n",
    "import seaborn as sns\n",
    "import soundfile as sf\n",
    "import tensorflow as tf\n",
    "from IPython import display\n",
    "from tensorflow import keras\n",
    "import IPython.display as ipd\n",
    "import matplotlib.pyplot as plt\n",
    "from tensorflow.keras import layers\n",
    "from tensorflow.keras import models\n",
    "from tensorflow.keras.callbacks import EarlyStopping\n",
    "from tensorflow.keras.layers import LSTM, Dropout, Dense"
   ]
  },
  {
   "cell_type": "code",
   "execution_count": 2,
   "id": "2bb79f5f",
   "metadata": {},
   "outputs": [],
   "source": [
    "os.environ[\"PATH\"] += os.pathsep + 'C:/Program Files/Graphviz/bin/'"
   ]
  },
  {
   "cell_type": "markdown",
   "id": "dbb7a048",
   "metadata": {},
   "source": [
    "[Back to the top](#start)\n",
    "<a name='1.0'></a>\n",
    "\n",
    "<div style=\"background-color:#216375; text-align:center; vertical-align:middle; padding:10px 0; margin-top:5px; margin-bottom:5px\">\n",
    "        <h2 style=\"color:white\"><strong>H1: Inleiding</strong></h2>\n",
    "</div>"
   ]
  },
  {
   "cell_type": "markdown",
   "id": "d1d60adf",
   "metadata": {},
   "source": [
    "Voor het vak Deep Learning wordt er in dit portfolio onderzoek gedaan naar de werking en toepassing van verschillende vormen van neurale netwerken. De opdracht voor dit portfolio is het voorspellen van genres van liedjes met de hulp van neurale netwerken. Dit kunnen neurale netwerken zijn die alleen maar werken met tekst data, juist alleen met audio data of zelfs met beide. Er worden 4 verschillende neurale netwerken gebruikt in dit notebook en dat zijn als volgt:\n",
    "\n",
    "- LSTM neuraal netwerk, alleen audio data.\n",
    "- LSTM neuraal netwerk, alleen tekst data.\n",
    "- Transformer model, alleen tekst data.\n",
    "- Multimodaal model, kan zowel audio als tekst data, of beide.\n",
    "\n",
    "Aan het einde van het notebook gaan wij reflecteren op de manier(en) die het beste resultaat heeft geleverd voor ons vraagstuk. Hier zal worden gekeken naar het model, maar ook wat de reden zou kunnen zijn dat het model beter werkt dan de andere."
   ]
  },
  {
   "cell_type": "markdown",
   "id": "3494cb4d",
   "metadata": {},
   "source": [
    "[Back to the top](#start)\n",
    "<a name='2.0'></a>\n",
    "\n",
    "<div style=\"background-color:#216375; text-align:center; vertical-align:middle; padding:10px 0; margin-top:5px; margin-bottom:5px\">\n",
    "        <h2 style=\"color:white\"><strong>H2: EDA</strong></h2>\n",
    "</div>"
   ]
  },
  {
   "cell_type": "markdown",
   "id": "260a399f",
   "metadata": {},
   "source": [
    "<a name='2.1'></a>\n",
    "<h3>&sect;2.1: Audio fragmenten</h3>"
   ]
  },
  {
   "cell_type": "code",
   "execution_count": 3,
   "id": "a82cfefe",
   "metadata": {},
   "outputs": [
    {
     "name": "stdout",
     "output_type": "stream",
     "text": [
      "Found 537 files belonging to 8 classes.\n",
      "Using 430 files for training.\n",
      "Using 107 files for validation.\n",
      "\n",
      "label names: ['blues' 'country' 'disco' 'hiphop' 'metal' 'pop' 'reggae' 'rock']\n"
     ]
    }
   ],
   "source": [
    "base_dir = \"Train\"\n",
    "\n",
    "data_dir = pathlib.Path(base_dir)\n",
    "\n",
    "train_ds, val_ds = tf.keras.utils.audio_dataset_from_directory(\n",
    "    directory=data_dir,\n",
    "    batch_size=8,\n",
    "    validation_split=0.2,\n",
    "    seed=0,\n",
    "    output_sequence_length=30*22050,\n",
    "    subset='both')\n",
    "\n",
    "label_names = np.array(train_ds.class_names)\n",
    "print()\n",
    "print(\"label names:\", label_names)"
   ]
  },
  {
   "cell_type": "code",
   "execution_count": 4,
   "id": "c666cb8e",
   "metadata": {},
   "outputs": [],
   "source": [
    "test_ds = val_ds.shard(num_shards=2, index=0)\n",
    "val_ds = val_ds.shard(num_shards=2, index=1)"
   ]
  },
  {
   "cell_type": "code",
   "execution_count": 5,
   "id": "a6c63afe",
   "metadata": {},
   "outputs": [
    {
     "name": "stdout",
     "output_type": "stream",
     "text": [
      "Found 129 files belonging to 1 classes.\n"
     ]
    }
   ],
   "source": [
    "test_dir = \"Test\"\n",
    "\n",
    "data_dir = pathlib.Path(test_dir)\n",
    "\n",
    "test_ds_kaggle = tf.keras.utils.audio_dataset_from_directory(\n",
    "    directory=data_dir,\n",
    "    batch_size=8,\n",
    "    seed=0,\n",
    "    output_sequence_length=30*22050,\n",
    "    label_mode=None)"
   ]
  },
  {
   "cell_type": "code",
   "execution_count": 6,
   "id": "2dd27969",
   "metadata": {},
   "outputs": [
    {
     "data": {
      "text/plain": [
       "<_BatchDataset element_spec=TensorSpec(shape=(None, 661500, None), dtype=tf.float32, name=None)>"
      ]
     },
     "execution_count": 6,
     "metadata": {},
     "output_type": "execute_result"
    }
   ],
   "source": [
    "test_ds_kaggle"
   ]
  },
  {
   "cell_type": "code",
   "execution_count": 7,
   "id": "53706b62",
   "metadata": {},
   "outputs": [],
   "source": [
    "def squeeze(audio, labels):\n",
    "    audio = tf.squeeze(audio, axis=-1)\n",
    "    return audio, labels\n",
    "\n",
    "train_ds = train_ds.map(squeeze, tf.data.AUTOTUNE)\n",
    "val_ds = val_ds.map(squeeze, tf.data.AUTOTUNE)\n",
    "test_ds = test_ds.map(squeeze, tf.data.AUTOTUNE)"
   ]
  },
  {
   "cell_type": "code",
   "execution_count": 8,
   "id": "04e55f61",
   "metadata": {},
   "outputs": [
    {
     "name": "stdout",
     "output_type": "stream",
     "text": [
      "(8, 661500)\n",
      "(8,)\n"
     ]
    }
   ],
   "source": [
    "for example_audio, example_labels in train_ds.take(1):\n",
    "    print(example_audio.shape)\n",
    "    print(example_labels.shape)"
   ]
  },
  {
   "cell_type": "code",
   "execution_count": 9,
   "id": "54b87785",
   "metadata": {},
   "outputs": [],
   "source": [
    "train_ds = train_ds.cache().shuffle(10).prefetch(tf.data.AUTOTUNE)\n",
    "val_ds = val_ds.cache().prefetch(tf.data.AUTOTUNE)\n",
    "test_ds = test_ds.cache().prefetch(tf.data.AUTOTUNE)"
   ]
  },
  {
   "cell_type": "code",
   "execution_count": 10,
   "id": "f83e11e7",
   "metadata": {},
   "outputs": [],
   "source": [
    "test_ds_kaggle = test_ds_kaggle.cache().prefetch(tf.data.AUTOTUNE)"
   ]
  },
  {
   "cell_type": "markdown",
   "id": "0b5298c0",
   "metadata": {},
   "source": [
    "Nu alle data is ingeladen willen we voor ieder genre een liedje laten horen. Dat doen we hier onder met een zelf gedefinieerde code die het eerste nummer pakt uit de map van het genre en hier het nummer klaar zet met een playbutton. Bij ieder lied staat de naam van het genre en de lengte van het fragment weergegeven. Ieder lied kan afgespeeld worden door op de playbutton te drukken."
   ]
  },
  {
   "cell_type": "code",
   "execution_count": 11,
   "id": "efbd2f98",
   "metadata": {
    "scrolled": true
   },
   "outputs": [
    {
     "data": {
      "text/html": [],
      "text/plain": [
       "<IPython.core.display.HTML object>"
      ]
     },
     "metadata": {},
     "output_type": "display_data"
    }
   ],
   "source": [
    "def get_first_audio_per_class(class_dir):\n",
    "    class_audio_paths = []\n",
    "    for label in os.listdir(class_dir):\n",
    "        class_path = class_dir / label\n",
    "        class_audio_files = list(class_path.glob('*.wav'))\n",
    "        if class_audio_files:\n",
    "            class_audio_paths.append((label, class_audio_files[0]))\n",
    "    return class_audio_paths\n",
    "\n",
    "# Getting the first audio file from each class\n",
    "first_audio_per_class = get_first_audio_per_class(data_dir)\n",
    "\n",
    "html_code = \"\"\n",
    "for genre, audio_path in first_audio_per_class:\n",
    "    audio_length = sf.info(audio_path).duration\n",
    "    html_code += f'<p>Genre: {genre}</p>'\n",
    "    html_code += f'<p>Audio Length: {audio_length} seconds</p>'\n",
    "    html_code += f'<audio controls><source src=\"{audio_path}\" type=\"audio/wav\"></audio>'\n",
    "\n",
    "# Display the HTML code\n",
    "ipd.display(ipd.HTML(html_code))"
   ]
  },
  {
   "cell_type": "code",
   "execution_count": 12,
   "id": "b7c4fd49",
   "metadata": {},
   "outputs": [
    {
     "name": "stdout",
     "output_type": "stream",
     "text": [
      "blues: 22050 Hz\n",
      "country: 22050 Hz\n",
      "disco: 22050 Hz\n",
      "hiphop: 22050 Hz\n",
      "metal: 22050 Hz\n",
      "pop: 22050 Hz\n",
      "reggae: 22050 Hz\n",
      "rock: 22050 Hz\n"
     ]
    }
   ],
   "source": [
    "def get_sampling_frequency(audio_file_path):\n",
    "    with wave.open(audio_file_path, 'rb') as audio_file:\n",
    "        return audio_file.getframerate()\n",
    "\n",
    "def get_sampling_frequency_from_random_file(directory):\n",
    "    sampling_frequency = None\n",
    "    for root, dirs, files in os.walk(directory):\n",
    "        if files:\n",
    "            random_file = random.choice(files)\n",
    "            file_path = os.path.join(root, random_file)\n",
    "            try:\n",
    "                sampling_frequency = get_sampling_frequency(file_path)\n",
    "                break\n",
    "            except wave.Error:\n",
    "                print(\"Error processing file:\", file_path)\n",
    "    return sampling_frequency\n",
    "\n",
    "for subdir in os.listdir(base_dir):\n",
    "    subdir_path = os.path.join(base_dir, subdir)\n",
    "    if os.path.isdir(subdir_path):\n",
    "        sampling_frequency = get_sampling_frequency_from_random_file(subdir_path)\n",
    "        if sampling_frequency is not None:\n",
    "            print(f\"{subdir}: {sampling_frequency} Hz\")\n",
    "        else:\n",
    "            print(f\"No valid audio files found in {subdir}\")"
   ]
  },
  {
   "cell_type": "markdown",
   "id": "6611b5cf",
   "metadata": {},
   "source": [
    "<a name='2.2'></a>\n",
    "<h3>&sect;2.2: Eigenschappen audio fragmenten</h3>"
   ]
  },
  {
   "cell_type": "markdown",
   "id": "c81dbd8d",
   "metadata": {},
   "source": [
    "Alle audio fragmenten zijn ongeveer 30 seconden en een sampling frequentie van 22050 Hz in ieder genre. Vandaar dat we de data inladen met: output_sequence_length=30*22050."
   ]
  },
  {
   "cell_type": "markdown",
   "id": "88554a64",
   "metadata": {},
   "source": [
    "<a name='2.3'></a>\n",
    "<h3>&sect;2.3: Songteksten</h3>"
   ]
  },
  {
   "cell_type": "code",
   "execution_count": 13,
   "id": "fbf42b17",
   "metadata": {
    "scrolled": false
   },
   "outputs": [
    {
     "data": {
      "text/html": [
       "<div>\n",
       "<style scoped>\n",
       "    .dataframe tbody tr th:only-of-type {\n",
       "        vertical-align: middle;\n",
       "    }\n",
       "\n",
       "    .dataframe tbody tr th {\n",
       "        vertical-align: top;\n",
       "    }\n",
       "\n",
       "    .dataframe thead th {\n",
       "        text-align: right;\n",
       "    }\n",
       "</style>\n",
       "<table border=\"1\" class=\"dataframe\">\n",
       "  <thead>\n",
       "    <tr style=\"text-align: right;\">\n",
       "      <th></th>\n",
       "      <th>filename</th>\n",
       "      <th>lyrics</th>\n",
       "      <th>genre</th>\n",
       "    </tr>\n",
       "  </thead>\n",
       "  <tbody>\n",
       "    <tr>\n",
       "      <th>0</th>\n",
       "      <td>blues.00001.wav</td>\n",
       "      <td>I’m in the Mood Lyrics[Verse 1]\\nI'm in the mo...</td>\n",
       "      <td>blues</td>\n",
       "    </tr>\n",
       "    <tr>\n",
       "      <th>1</th>\n",
       "      <td>blues.00002.wav</td>\n",
       "      <td>(John Lee Hooker)\\nThink twice before you go, ...</td>\n",
       "      <td>blues</td>\n",
       "    </tr>\n",
       "    <tr>\n",
       "      <th>2</th>\n",
       "      <td>blues.00003.wav</td>\n",
       "      <td>[Intro, Spoken]\\n...A little thing I'm going t...</td>\n",
       "      <td>blues</td>\n",
       "    </tr>\n",
       "    <tr>\n",
       "      <th>3</th>\n",
       "      <td>blues.00005.wav</td>\n",
       "      <td>Sugar mama, sugar mama, sugar mama please come...</td>\n",
       "      <td>blues</td>\n",
       "    </tr>\n",
       "    <tr>\n",
       "      <th>4</th>\n",
       "      <td>blues.00006.wav</td>\n",
       "      <td>My baby left me this morning\\nPeople just arou...</td>\n",
       "      <td>blues</td>\n",
       "    </tr>\n",
       "    <tr>\n",
       "      <th>...</th>\n",
       "      <td>...</td>\n",
       "      <td>...</td>\n",
       "      <td>...</td>\n",
       "    </tr>\n",
       "    <tr>\n",
       "      <th>532</th>\n",
       "      <td>rock.00094.wav</td>\n",
       "      <td>[Chorus]\\nDon’t stop\\nIsn’t it funny how you s...</td>\n",
       "      <td>rock</td>\n",
       "    </tr>\n",
       "    <tr>\n",
       "      <th>533</th>\n",
       "      <td>rock.00096.wav</td>\n",
       "      <td>[Verse 1]\\nHer hair, soft drifted snow\\nDeath ...</td>\n",
       "      <td>rock</td>\n",
       "    </tr>\n",
       "    <tr>\n",
       "      <th>534</th>\n",
       "      <td>rock.00097.wav</td>\n",
       "      <td>[Verse 1]\\nYour knuckles whiten on the wheel\\n...</td>\n",
       "      <td>rock</td>\n",
       "    </tr>\n",
       "    <tr>\n",
       "      <th>535</th>\n",
       "      <td>rock.00098.wav</td>\n",
       "      <td>[Verse 1]\\nYou know it\\nYou show it\\nAnd the t...</td>\n",
       "      <td>rock</td>\n",
       "    </tr>\n",
       "    <tr>\n",
       "      <th>536</th>\n",
       "      <td>rock.00099.wav</td>\n",
       "      <td>[Verse 1]\\nA girl consumed by fire\\nWe all kno...</td>\n",
       "      <td>rock</td>\n",
       "    </tr>\n",
       "  </tbody>\n",
       "</table>\n",
       "<p>537 rows × 3 columns</p>\n",
       "</div>"
      ],
      "text/plain": [
       "            filename                                             lyrics  genre\n",
       "0    blues.00001.wav  I’m in the Mood Lyrics[Verse 1]\\nI'm in the mo...  blues\n",
       "1    blues.00002.wav  (John Lee Hooker)\\nThink twice before you go, ...  blues\n",
       "2    blues.00003.wav  [Intro, Spoken]\\n...A little thing I'm going t...  blues\n",
       "3    blues.00005.wav  Sugar mama, sugar mama, sugar mama please come...  blues\n",
       "4    blues.00006.wav  My baby left me this morning\\nPeople just arou...  blues\n",
       "..               ...                                                ...    ...\n",
       "532   rock.00094.wav  [Chorus]\\nDon’t stop\\nIsn’t it funny how you s...   rock\n",
       "533   rock.00096.wav  [Verse 1]\\nHer hair, soft drifted snow\\nDeath ...   rock\n",
       "534   rock.00097.wav  [Verse 1]\\nYour knuckles whiten on the wheel\\n...   rock\n",
       "535   rock.00098.wav  [Verse 1]\\nYou know it\\nYou show it\\nAnd the t...   rock\n",
       "536   rock.00099.wav  [Verse 1]\\nA girl consumed by fire\\nWe all kno...   rock\n",
       "\n",
       "[537 rows x 3 columns]"
      ]
     },
     "execution_count": 13,
     "metadata": {},
     "output_type": "execute_result"
    }
   ],
   "source": [
    "tekst = pd.read_csv(\"train.csv\")\n",
    "tekst"
   ]
  },
  {
   "cell_type": "markdown",
   "id": "d4cac635",
   "metadata": {},
   "source": [
    "De kolommen bevatten het volgende:\n",
    "- filename: De bestandsnaam wat koppelt aan de bestanden die aan de audio's verbonden zijn. LET OP: Bij de train dataset staan de genres in de naam van de bestanden, bij de audiobestanden staat in de plek van de genres het woord \"train\".\n",
    "- lyrics: De songtekst die verbonden is aan het lied uit filename\n",
    "- genre: Het genre van het lied die verbonden is aan het lied uit de filename"
   ]
  },
  {
   "cell_type": "code",
   "execution_count": 14,
   "id": "3fa270fa",
   "metadata": {},
   "outputs": [
    {
     "data": {
      "text/plain": [
       "filename    0\n",
       "lyrics      0\n",
       "genre       0\n",
       "dtype: int64"
      ]
     },
     "execution_count": 14,
     "metadata": {},
     "output_type": "execute_result"
    }
   ],
   "source": [
    "tekst.isna().sum()"
   ]
  },
  {
   "cell_type": "markdown",
   "id": "bd85d751",
   "metadata": {},
   "source": [
    "Er zijn geen missende waardes in de dataset."
   ]
  },
  {
   "cell_type": "code",
   "execution_count": 15,
   "id": "b34ad24f",
   "metadata": {},
   "outputs": [
    {
     "data": {
      "text/plain": [
       "rock       79\n",
       "hiphop     73\n",
       "pop        73\n",
       "country    72\n",
       "disco      68\n",
       "metal      64\n",
       "reggae     64\n",
       "blues      44\n",
       "Name: genre, dtype: int64"
      ]
     },
     "execution_count": 15,
     "metadata": {},
     "output_type": "execute_result"
    }
   ],
   "source": [
    "tekst[\"genre\"].value_counts()"
   ]
  },
  {
   "cell_type": "markdown",
   "id": "0987ef8d",
   "metadata": {},
   "source": [
    "In de dataset zitten in totaal 8 genres, waarvan de data niet helemaal goed is verdeeld. Zo zie je dat de genres rock, hiphop, pop en country ongeveer even veel liedjes heeft van ronde de 75. Het genre blues heeft echter maar 44 liedjes, dat is minder dan de helft, dus hopelijk zal dit niet voor problemen zorgen tijdens het trainen van de modelen."
   ]
  },
  {
   "cell_type": "code",
   "execution_count": 16,
   "id": "26fcbe60",
   "metadata": {},
   "outputs": [
    {
     "data": {
      "image/png": "[encoded data removed]",
      "text/plain": [
       "<Figure size 1000x600 with 1 Axes>"
      ]
     },
     "metadata": {},
     "output_type": "display_data"
    }
   ],
   "source": [
    "genres = tekst[\"genre\"].value_counts().index\n",
    "aantallen = tekst[\"genre\"].value_counts().values\n",
    "\n",
    "plt.figure(figsize=(10, 6))\n",
    "plt.bar(genres, aantallen, color='skyblue')\n",
    "plt.title('Aantal teksten per genre')\n",
    "plt.xlabel('Genre')\n",
    "plt.ylabel('Aantal teksten')\n",
    "plt.xticks(rotation=45, ha='right')\n",
    "plt.tight_layout()\n",
    "plt.show()"
   ]
  },
  {
   "cell_type": "code",
   "execution_count": 17,
   "id": "fb54e7ba",
   "metadata": {},
   "outputs": [
    {
     "data": {
      "text/plain": [
       "0      I’m in the Mood Lyrics[Verse 1]\\nI'm in the mo...\n",
       "1      (John Lee Hooker)\\nThink twice before you go, ...\n",
       "2      [Intro, Spoken]\\n...A little thing I'm going t...\n",
       "3      Sugar mama, sugar mama, sugar mama please come...\n",
       "4      My baby left me this morning\\nPeople just arou...\n",
       "                             ...                        \n",
       "532    [Chorus]\\nDon’t stop\\nIsn’t it funny how you s...\n",
       "533    [Verse 1]\\nHer hair, soft drifted snow\\nDeath ...\n",
       "534    [Verse 1]\\nYour knuckles whiten on the wheel\\n...\n",
       "535    [Verse 1]\\nYou know it\\nYou show it\\nAnd the t...\n",
       "536    [Verse 1]\\nA girl consumed by fire\\nWe all kno...\n",
       "Name: lyrics, Length: 537, dtype: object"
      ]
     },
     "execution_count": 17,
     "metadata": {},
     "output_type": "execute_result"
    }
   ],
   "source": [
    "tekst[\"lyrics\"]"
   ]
  },
  {
   "cell_type": "code",
   "execution_count": 18,
   "id": "3d7aa7d9",
   "metadata": {},
   "outputs": [
    {
     "data": {
      "text/html": [
       "<div>\n",
       "<style scoped>\n",
       "    .dataframe tbody tr th:only-of-type {\n",
       "        vertical-align: middle;\n",
       "    }\n",
       "\n",
       "    .dataframe tbody tr th {\n",
       "        vertical-align: top;\n",
       "    }\n",
       "\n",
       "    .dataframe thead th {\n",
       "        text-align: right;\n",
       "    }\n",
       "</style>\n",
       "<table border=\"1\" class=\"dataframe\">\n",
       "  <thead>\n",
       "    <tr style=\"text-align: right;\">\n",
       "      <th></th>\n",
       "      <th>filename</th>\n",
       "      <th>lyrics</th>\n",
       "      <th>genre</th>\n",
       "      <th>lyrics_length</th>\n",
       "    </tr>\n",
       "  </thead>\n",
       "  <tbody>\n",
       "    <tr>\n",
       "      <th>0</th>\n",
       "      <td>blues.00001.wav</td>\n",
       "      <td>I’m in the Mood Lyrics[Verse 1]\\nI'm in the mo...</td>\n",
       "      <td>blues</td>\n",
       "      <td>706</td>\n",
       "    </tr>\n",
       "    <tr>\n",
       "      <th>1</th>\n",
       "      <td>blues.00002.wav</td>\n",
       "      <td>(John Lee Hooker)\\nThink twice before you go, ...</td>\n",
       "      <td>blues</td>\n",
       "      <td>755</td>\n",
       "    </tr>\n",
       "    <tr>\n",
       "      <th>2</th>\n",
       "      <td>blues.00003.wav</td>\n",
       "      <td>[Intro, Spoken]\\n...A little thing I'm going t...</td>\n",
       "      <td>blues</td>\n",
       "      <td>1456</td>\n",
       "    </tr>\n",
       "    <tr>\n",
       "      <th>3</th>\n",
       "      <td>blues.00005.wav</td>\n",
       "      <td>Sugar mama, sugar mama, sugar mama please come...</td>\n",
       "      <td>blues</td>\n",
       "      <td>1318</td>\n",
       "    </tr>\n",
       "    <tr>\n",
       "      <th>4</th>\n",
       "      <td>blues.00006.wav</td>\n",
       "      <td>My baby left me this morning\\nPeople just arou...</td>\n",
       "      <td>blues</td>\n",
       "      <td>713</td>\n",
       "    </tr>\n",
       "    <tr>\n",
       "      <th>...</th>\n",
       "      <td>...</td>\n",
       "      <td>...</td>\n",
       "      <td>...</td>\n",
       "      <td>...</td>\n",
       "    </tr>\n",
       "    <tr>\n",
       "      <th>532</th>\n",
       "      <td>rock.00094.wav</td>\n",
       "      <td>[Chorus]\\nDon’t stop\\nIsn’t it funny how you s...</td>\n",
       "      <td>rock</td>\n",
       "      <td>793</td>\n",
       "    </tr>\n",
       "    <tr>\n",
       "      <th>533</th>\n",
       "      <td>rock.00096.wav</td>\n",
       "      <td>[Verse 1]\\nHer hair, soft drifted snow\\nDeath ...</td>\n",
       "      <td>rock</td>\n",
       "      <td>1155</td>\n",
       "    </tr>\n",
       "    <tr>\n",
       "      <th>534</th>\n",
       "      <td>rock.00097.wav</td>\n",
       "      <td>[Verse 1]\\nYour knuckles whiten on the wheel\\n...</td>\n",
       "      <td>rock</td>\n",
       "      <td>1214</td>\n",
       "    </tr>\n",
       "    <tr>\n",
       "      <th>535</th>\n",
       "      <td>rock.00098.wav</td>\n",
       "      <td>[Verse 1]\\nYou know it\\nYou show it\\nAnd the t...</td>\n",
       "      <td>rock</td>\n",
       "      <td>1002</td>\n",
       "    </tr>\n",
       "    <tr>\n",
       "      <th>536</th>\n",
       "      <td>rock.00099.wav</td>\n",
       "      <td>[Verse 1]\\nA girl consumed by fire\\nWe all kno...</td>\n",
       "      <td>rock</td>\n",
       "      <td>1439</td>\n",
       "    </tr>\n",
       "  </tbody>\n",
       "</table>\n",
       "<p>537 rows × 4 columns</p>\n",
       "</div>"
      ],
      "text/plain": [
       "            filename                                             lyrics  \\\n",
       "0    blues.00001.wav  I’m in the Mood Lyrics[Verse 1]\\nI'm in the mo...   \n",
       "1    blues.00002.wav  (John Lee Hooker)\\nThink twice before you go, ...   \n",
       "2    blues.00003.wav  [Intro, Spoken]\\n...A little thing I'm going t...   \n",
       "3    blues.00005.wav  Sugar mama, sugar mama, sugar mama please come...   \n",
       "4    blues.00006.wav  My baby left me this morning\\nPeople just arou...   \n",
       "..               ...                                                ...   \n",
       "532   rock.00094.wav  [Chorus]\\nDon’t stop\\nIsn’t it funny how you s...   \n",
       "533   rock.00096.wav  [Verse 1]\\nHer hair, soft drifted snow\\nDeath ...   \n",
       "534   rock.00097.wav  [Verse 1]\\nYour knuckles whiten on the wheel\\n...   \n",
       "535   rock.00098.wav  [Verse 1]\\nYou know it\\nYou show it\\nAnd the t...   \n",
       "536   rock.00099.wav  [Verse 1]\\nA girl consumed by fire\\nWe all kno...   \n",
       "\n",
       "     genre  lyrics_length  \n",
       "0    blues            706  \n",
       "1    blues            755  \n",
       "2    blues           1456  \n",
       "3    blues           1318  \n",
       "4    blues            713  \n",
       "..     ...            ...  \n",
       "532   rock            793  \n",
       "533   rock           1155  \n",
       "534   rock           1214  \n",
       "535   rock           1002  \n",
       "536   rock           1439  \n",
       "\n",
       "[537 rows x 4 columns]"
      ]
     },
     "execution_count": 18,
     "metadata": {},
     "output_type": "execute_result"
    }
   ],
   "source": [
    "tekst['lyrics_length'] = tekst['lyrics'].apply(lambda x: sum(len(line) for line in x))\n",
    "tekst"
   ]
  },
  {
   "cell_type": "code",
   "execution_count": 19,
   "id": "3828f72b",
   "metadata": {},
   "outputs": [
    {
     "data": {
      "text/plain": [
       "genre\n",
       "blues       893.704545\n",
       "country    2174.333333\n",
       "disco      2699.058824\n",
       "hiphop     4677.986301\n",
       "metal      4417.203125\n",
       "pop        2312.410959\n",
       "reggae     1638.734375\n",
       "rock       1274.594937\n",
       "Name: lyrics_length, dtype: float64"
      ]
     },
     "execution_count": 19,
     "metadata": {},
     "output_type": "execute_result"
    }
   ],
   "source": [
    "tekst_lens = tekst.groupby(\"genre\")[\"lyrics_length\"].mean()\n",
    "tekst_lens"
   ]
  },
  {
   "cell_type": "code",
   "execution_count": 20,
   "id": "5d875b20",
   "metadata": {},
   "outputs": [
    {
     "data": {
      "image/png": "[encoded data removed]",
      "text/plain": [
       "<Figure size 1000x600 with 1 Axes>"
      ]
     },
     "metadata": {},
     "output_type": "display_data"
    }
   ],
   "source": [
    "sorted_df = tekst_lens.sort_values(ascending=False)\n",
    "\n",
    "plt.figure(figsize=(10, 6))\n",
    "plt.bar(sorted_df.index, sorted_df.values, color='skyblue')\n",
    "plt.title('Length of Texts by Genre')\n",
    "plt.xlabel('Genre')\n",
    "plt.ylabel('Length')\n",
    "plt.xticks(rotation=45, ha='right')\n",
    "plt.tight_layout()\n",
    "plt.show()"
   ]
  },
  {
   "cell_type": "markdown",
   "id": "ab675e59",
   "metadata": {},
   "source": [
    "Wanneer er gekeken wordt naar de gemiddelde lengtes van de teksten per genre valt het meteen op dat er een stuk meer tekst zit in liedjes met het genre hiphop en pop dan in liedjes als reggae, rock en blues. Het is goed om te zien dat hier zo'n groot verschil in zit, omdat dit hoop geeft op de voorspellingen die uiteindelijk gemaakt moeten worden."
   ]
  },
  {
   "cell_type": "markdown",
   "id": "a212ccc3",
   "metadata": {},
   "source": [
    "<a name='2.4'></a>\n",
    "<h3>&sect;2.4: Conclusie EDA</h3>"
   ]
  },
  {
   "cell_type": "markdown",
   "id": "5b7458f8",
   "metadata": {},
   "source": [
    "[Back to the top](#start)\n",
    "<a name='3.0'></a>\n",
    "\n",
    "<div style=\"background-color:#216375; text-align:center; vertical-align:middle; padding:10px 0; margin-top:5px; margin-bottom:5px\">\n",
    "        <h2 style=\"color:white\"><strong>H3: LSTM voor audioclips</strong></h2>\n",
    "</div>"
   ]
  },
  {
   "cell_type": "markdown",
   "id": "fcad5a30",
   "metadata": {},
   "source": [
    "<a name='3.1'></a>\n",
    "<h3>&sect;3.1: Het model</h3>"
   ]
  },
  {
   "cell_type": "code",
   "execution_count": 21,
   "id": "f018200d",
   "metadata": {},
   "outputs": [
    {
     "name": "stdout",
     "output_type": "stream",
     "text": [
      "Shape of an audio sample: (661500,)\n"
     ]
    }
   ],
   "source": [
    "for audio_batch, label_batch in train_ds.take(1):\n",
    "    print(\"Shape of an audio sample:\", audio_batch[0].shape)"
   ]
  },
  {
   "cell_type": "code",
   "execution_count": 22,
   "id": "e09b1e34",
   "metadata": {},
   "outputs": [],
   "source": [
    "from tensorflow.keras.layers import Normalization, Reshape\n",
    "\n",
    "norm_layer = Normalization()\n",
    "# Fit the state of the layer to the spectrograms\n",
    "# with `Normalization.adapt`.\n",
    "norm_layer.adapt(data=train_ds.map(map_func=lambda audio, label: audio))\n",
    "\n",
    "lstm_model = keras.Sequential()\n",
    "lstm_model.add(norm_layer)\n",
    "lstm_model.add(Reshape((661500, 1)))\n",
    "lstm_model.add(LSTM(128))\n",
    "lstm_model.add(Dropout(0.2))\n",
    "lstm_model.add(Dense(128, activation='relu'))\n",
    "lstm_model.add(Dense(64, activation='relu'))\n",
    "lstm_model.add(Dropout(0.4))\n",
    "lstm_model.add(Dense(48, activation='relu'))\n",
    "lstm_model.add(Dropout(0.4))\n",
    "lstm_model.add(Dense(8, activation='softmax'))"
   ]
  },
  {
   "cell_type": "code",
   "execution_count": 23,
   "id": "a000b05b",
   "metadata": {},
   "outputs": [],
   "source": [
    "def get_spectrogram(waveform):\n",
    "    # Convert the waveform to a spectrogram via a STFT.\n",
    "    spectrogram = tf.signal.stft(waveform, frame_length=512, frame_step=256)\n",
    "\n",
    "    # Obtain the magnitude of the STFT (use tf.abs).\n",
    "    spectrogram = tf.abs(spectrogram)\n",
    "\n",
    "    # Add a `channels` dimension, so that the spectrogram can be used\n",
    "    # as image-like input data with convolution layers (which expect\n",
    "    # shape (`batch_size`, `height`, `width`, `channels`).\n",
    "    spectrogram = spectrogram[..., tf.newaxis]\n",
    "\n",
    "    return spectrogram"
   ]
  },
  {
   "cell_type": "code",
   "execution_count": 30,
   "id": "4da5ac83",
   "metadata": {},
   "outputs": [],
   "source": [
    "def make_spec_ds(ds):\n",
    "    # Define a mapping function that handles both cases\n",
    "    def map_func(audio, *args):\n",
    "        spectrogram = get_spectrogram(audio)\n",
    "        if len(args) > 0:  # If labels are provided\n",
    "            return spectrogram, args[0]  # Return spectrogram and label\n",
    "        else:  # If no labels are provided\n",
    "            return spectrogram  # Return only spectrogram\n",
    "\n",
    "    # Map the dataset using the mapping function\n",
    "    return ds.map(\n",
    "        map_func,\n",
    "        num_parallel_calls=tf.data.AUTOTUNE)"
   ]
  },
  {
   "cell_type": "code",
   "execution_count": 32,
   "id": "d5dfea56",
   "metadata": {},
   "outputs": [],
   "source": [
    "train_spectrogram_ds = make_spec_ds(train_ds)\n",
    "val_spectrogram_ds = make_spec_ds(val_ds)\n",
    "test_spectrogram_ds = make_spec_ds(test_ds)\n",
    "test_spectrogram_ds_kaggle = make_spec_ds(test_ds_kaggle)"
   ]
  },
  {
   "cell_type": "code",
   "execution_count": 33,
   "id": "0cedba8c",
   "metadata": {},
   "outputs": [],
   "source": [
    "for example_spectrograms, example_spect_labels in train_spectrogram_ds.take(1):\n",
    "    break"
   ]
  },
  {
   "cell_type": "code",
   "execution_count": 34,
   "id": "324a450d",
   "metadata": {},
   "outputs": [
    {
     "data": {
      "text/plain": [
       "<tf.Tensor: shape=(8,), dtype=int32, numpy=array([1, 6, 3, 3, 7, 1, 2, 2])>"
      ]
     },
     "execution_count": 34,
     "metadata": {},
     "output_type": "execute_result"
    }
   ],
   "source": [
    "example_spect_labels"
   ]
  },
  {
   "cell_type": "code",
   "execution_count": 35,
   "id": "31dcbf12",
   "metadata": {},
   "outputs": [],
   "source": [
    "train_spectrogram_ds =train_spectrogram_ds.cache().prefetch(buffer_size=tf.data.AUTOTUNE)\n",
    "val_spectrogram_ds = val_spectrogram_ds.cache().prefetch(buffer_size=tf.data.AUTOTUNE)\n",
    "test_spectrogram_ds = test_spectrogram_ds.cache().prefetch(buffer_size=tf.data.AUTOTUNE)\n",
    "test_spectrogram_ds_kaggle = test_spectrogram_ds_kaggle.cache().prefetch(buffer_size=tf.data.AUTOTUNE)"
   ]
  },
  {
   "cell_type": "code",
   "execution_count": null,
   "id": "25558bef",
   "metadata": {},
   "outputs": [],
   "source": [
    "from tensorflow.keras.layers import Conv2D, MaxPooling2D, Flatten\n",
    "input_shape = example_spectrograms.shape[1:]\n",
    "print('Input shape:', input_shape)\n",
    "num_labels = len(label_names)\n",
    "\n",
    "# Instantiate the `tf.keras.layers.Normalization` layer.\n",
    "norm_layer = layers.Normalization()\n",
    "# Fit the state of the layer to the spectrograms\n",
    "# with `Normalization.adapt`.\n",
    "norm_layer.adapt(data=train_spectrogram_ds.map(map_func=lambda spec, label: spec))\n",
    "\n",
    "model_spect = models.Sequential([\n",
    "    layers.Input(shape=input_shape),\n",
    "    # Downsample the input.\n",
    "    layers.Resizing(64, 64),\n",
    "    # Normalize.\n",
    "    norm_layer,\n",
    "    Conv2D(16, activation=\"relu\", kernel_size=3),\n",
    "    MaxPooling2D(),\n",
    "    Conv2D(32, activation=\"relu\", kernel_size=3),\n",
    "    MaxPooling2D(),\n",
    "    Conv2D(64, activation=\"relu\", kernel_size=3),\n",
    "    MaxPooling2D(),\n",
    "    Flatten(),\n",
    "    Dense(128, activation=\"relu\"),\n",
    "    Dense(1, activation=\"sigmoid\")\n",
    "])"
   ]
  },
  {
   "cell_type": "code",
   "execution_count": 39,
   "id": "fc5cf19c",
   "metadata": {},
   "outputs": [],
   "source": [
    "def spectrogram_to_mfcc(spectrograms, num_mel_bins=128, num_coefficients=13, sample_rate=16000):\n",
    "    \"\"\"\n",
    "    Convert a batch of spectrograms to a batch of 1D time series of MFCCs.\n",
    "\n",
    "    Parameters:\n",
    "    - spectrograms: A TensorFlow Tensor representing a batch of spectrograms with shape (batch_size, 311, 257, 1).\n",
    "    - num_mel_bins: Number of Mel bins to use.\n",
    "    - num_coefficients: Number of MFCC coefficients to return.\n",
    "    - sample_rate: Sample rate of the audio.\n",
    "\n",
    "    Returns:\n",
    "    - A TensorFlow Tensor containing the MFCCs with shape (batch_size, num_frames, num_coefficients).\n",
    "    \"\"\"\n",
    "    # Remove the last dimension (channel dimension, if it's 1)\n",
    "    spectrograms = tf.squeeze(spectrograms, axis=-1)\n",
    "\n",
    "    # Compute Mel spectrograms\n",
    "    stfts_to_mel_matrix = tf.signal.linear_to_mel_weight_matrix(\n",
    "        num_mel_bins=num_mel_bins,\n",
    "        num_spectrogram_bins=spectrograms.shape[-1],\n",
    "        sample_rate=sample_rate,\n",
    "        lower_edge_hertz=20.0,\n",
    "        upper_edge_hertz=sample_rate / 2)\n",
    "    mel_spectrograms = tf.tensordot(spectrograms, stfts_to_mel_matrix, 1)\n",
    "    # Shape tuning for the mel spectrograms as expected\n",
    "    mel_spectrograms.set_shape(spectrograms.shape[:-1] + (num_mel_bins,))\n",
    "\n",
    "    # Logarithmic scaling\n",
    "    log_mel_spectrograms = tf.math.log(mel_spectrograms + 1e-6)\n",
    "\n",
    "    # Compute MFCCs\n",
    "    mfccs = tf.signal.mfccs_from_log_mel_spectrograms(log_mel_spectrograms)[..., :num_coefficients]\n",
    "\n",
    "    return mfccs"
   ]
  },
  {
   "cell_type": "code",
   "execution_count": 40,
   "id": "13e867e0",
   "metadata": {},
   "outputs": [],
   "source": [
    "def make_MFCC_ds(ds):\n",
    "    # Define a mapping function that handles both cases\n",
    "    def map_func(spectrogram, *args):\n",
    "        mfcc = spectrogram_to_mfcc(spectrogram)\n",
    "        if len(args) > 0:  # If labels are provided\n",
    "            return mfcc, args[0]  # Return MFCC and label\n",
    "        else:  # If no labels are provided\n",
    "            return mfcc  # Return only MFCC\n",
    "\n",
    "    # Map the dataset using the mapping function\n",
    "    return ds.map(\n",
    "        map_func,\n",
    "        num_parallel_calls=tf.data.AUTOTUNE)"
   ]
  },
  {
   "cell_type": "code",
   "execution_count": 41,
   "id": "8371245f",
   "metadata": {},
   "outputs": [],
   "source": [
    "train_MFCC_ds = make_MFCC_ds(train_spectrogram_ds)\n",
    "val_MFCC_ds = make_MFCC_ds(val_spectrogram_ds)\n",
    "test_MFCC_ds = make_MFCC_ds(test_spectrogram_ds)\n",
    "test_MFCC_ds_kaggle = make_MFCC_ds(test_spectrogram_ds_kaggle)"
   ]
  },
  {
   "cell_type": "code",
   "execution_count": 42,
   "id": "e451f193",
   "metadata": {},
   "outputs": [],
   "source": [
    "for example_MFCC, example_MFCC_labels in train_MFCC_ds.take(1):\n",
    "    break"
   ]
  },
  {
   "cell_type": "code",
   "execution_count": 43,
   "id": "8a618183",
   "metadata": {},
   "outputs": [],
   "source": [
    "train_MFCC_ds = train_MFCC_ds.cache().prefetch(buffer_size=tf.data.AUTOTUNE)\n",
    "val_MFCC_ds = val_MFCC_ds.cache().prefetch(buffer_size=tf.data.AUTOTUNE)\n",
    "test_MFCC_ds = test_MFCC_ds.cache().prefetch(buffer_size=tf.data.AUTOTUNE)\n",
    "test_MFCC_ds_kaggle = test_MFCC_ds_kaggle.cache().prefetch(buffer_size=tf.data.AUTOTUNE)"
   ]
  },
  {
   "cell_type": "code",
   "execution_count": 44,
   "id": "aeb71079",
   "metadata": {},
   "outputs": [
    {
     "name": "stdout",
     "output_type": "stream",
     "text": [
      "Model: \"sequential_1\"\n",
      "_________________________________________________________________\n",
      " Layer (type)                Output Shape              Param #   \n",
      "=================================================================\n",
      " bidirectional (Bidirection  (None, 2582, 128)         39936     \n",
      " al)                                                             \n",
      "                                                                 \n",
      " dropout_3 (Dropout)         (None, 2582, 128)         0         \n",
      "                                                                 \n",
      " bidirectional_1 (Bidirecti  (None, 64)                41216     \n",
      " onal)                                                           \n",
      "                                                                 \n",
      " dropout_4 (Dropout)         (None, 64)                0         \n",
      "                                                                 \n",
      " dense_4 (Dense)             (None, 8)                 520       \n",
      "                                                                 \n",
      "=================================================================\n",
      "Total params: 81672 (319.03 KB)\n",
      "Trainable params: 81672 (319.03 KB)\n",
      "Non-trainable params: 0 (0.00 Byte)\n",
      "_________________________________________________________________\n"
     ]
    }
   ],
   "source": [
    "from tensorflow.keras.layers import Bidirectional, Dropout\n",
    "\n",
    "input_shape = example_MFCC.shape[1:]\n",
    "\n",
    "model_lstm = models.Sequential([\n",
    "    layers.Input(shape=input_shape),\n",
    "    Bidirectional(LSTM(64, return_sequences=True)),\n",
    "    Dropout(0.5),\n",
    "    Bidirectional(LSTM(32, return_sequences=False)),\n",
    "    Dropout(0.5),\n",
    "    Dense(8, activation='softmax')\n",
    "])\n",
    "model_lstm.summary()"
   ]
  },
  {
   "cell_type": "markdown",
   "id": "5ae46ffc",
   "metadata": {},
   "source": [
    "<a name='3.2'></a>\n",
    "<h3>&sect;3.2: Modelarchitectuur</h3>"
   ]
  },
  {
   "cell_type": "code",
   "execution_count": 45,
   "id": "69cc7406",
   "metadata": {},
   "outputs": [
    {
     "data": {
      "image/png": "[encoded data removed]",
      "text/plain": [
       "<IPython.core.display.Image object>"
      ]
     },
     "execution_count": 45,
     "metadata": {},
     "output_type": "execute_result"
    }
   ],
   "source": [
    "tf.keras.utils.plot_model(model_lstm, to_file='LSTM_audio.png', show_shapes=True, show_layer_names=True)"
   ]
  },
  {
   "cell_type": "markdown",
   "id": "f35e5ac9",
   "metadata": {},
   "source": [
    "<a name='3.3'></a>\n",
    "<h3>&sect;3.3: Stappen feature engineering</h3>"
   ]
  },
  {
   "cell_type": "markdown",
   "id": "8099fe82",
   "metadata": {},
   "source": [
    "<a name='3.4'></a>\n",
    "<h3>&sect;3.4: Onderbouwing keuzes parameters</h3>"
   ]
  },
  {
   "cell_type": "markdown",
   "id": "96f50f1d",
   "metadata": {},
   "source": [
    "<a name='3.5'></a>\n",
    "<h3>&sect;3.5: Geschikte loss functie en optimizer</h3>"
   ]
  },
  {
   "cell_type": "markdown",
   "id": "ad6a1d87",
   "metadata": {},
   "source": [
    "<a name='3.6'></a>\n",
    "<h3>&sect;3.6: Model trainen</h3>"
   ]
  },
  {
   "cell_type": "code",
   "execution_count": 46,
   "id": "221319b0",
   "metadata": {},
   "outputs": [],
   "source": [
    "stop_early = EarlyStopping(monitor='val_loss', patience=5)"
   ]
  },
  {
   "cell_type": "code",
   "execution_count": 47,
   "id": "cac4af9e",
   "metadata": {},
   "outputs": [
    {
     "name": "stdout",
     "output_type": "stream",
     "text": [
      "Epoch 1/3\n",
      "54/54 [==============================] - 134s 2s/step - loss: 1.9457 - accuracy: 0.2349 - val_loss: 1.6327 - val_accuracy: 0.3725\n",
      "Epoch 2/3\n",
      "54/54 [==============================] - 146s 3s/step - loss: 1.6977 - accuracy: 0.3605 - val_loss: 1.5376 - val_accuracy: 0.4314\n",
      "Epoch 3/3\n",
      "54/54 [==============================] - 148s 3s/step - loss: 1.5573 - accuracy: 0.4186 - val_loss: 1.5388 - val_accuracy: 0.4118\n"
     ]
    }
   ],
   "source": [
    "model_lstm.compile(optimizer=tf.keras.optimizers.Adam(learning_rate=0.001),\n",
    "                   loss=\"sparse_categorical_crossentropy\",\n",
    "                   metrics=[\"accuracy\"])\n",
    "history = model_lstm.fit(train_MFCC_ds, epochs=3, validation_data=val_MFCC_ds, batch_size=10)"
   ]
  },
  {
   "cell_type": "code",
   "execution_count": 49,
   "id": "99f274de",
   "metadata": {},
   "outputs": [],
   "source": [
    "def to_kaggle(model, predict,naam):\n",
    "    predictions = model.predict(predict)\n",
    "    filenames = [f\"test.{i:05}.wav\" for i in range(129)]\n",
    "    data = list(zip(filenames, predictions))\n",
    "    inleveren_kaggle = pd.DataFrame(data, columns=['filename', 'genre'])\n",
    "\n",
    "\n",
    "    print(inleveren_kaggle)\n",
    "    return inleveren_kaggle.to_csv(naam, index=False)"
   ]
  },
  {
   "cell_type": "code",
   "execution_count": 50,
   "id": "c566d997",
   "metadata": {},
   "outputs": [
    {
     "ename": "ValueError",
     "evalue": "in user code:\n\n    File \"C:\\Users\\bosch\\anaconda3\\lib\\site-packages\\keras\\src\\engine\\training.py\", line 2416, in predict_function  *\n        return step_function(self, iterator)\n    File \"C:\\Users\\bosch\\anaconda3\\lib\\site-packages\\keras\\src\\engine\\training.py\", line 2401, in step_function  **\n        outputs = model.distribute_strategy.run(run_step, args=(data,))\n    File \"C:\\Users\\bosch\\anaconda3\\lib\\site-packages\\keras\\src\\engine\\training.py\", line 2389, in run_step  **\n        outputs = model.predict_step(data)\n    File \"C:\\Users\\bosch\\anaconda3\\lib\\site-packages\\keras\\src\\engine\\training.py\", line 2357, in predict_step\n        return self(x, training=False)\n    File \"C:\\Users\\bosch\\anaconda3\\lib\\site-packages\\keras\\src\\utils\\traceback_utils.py\", line 70, in error_handler\n        raise e.with_traceback(filtered_tb) from None\n    File \"C:\\Users\\bosch\\anaconda3\\lib\\site-packages\\keras\\src\\engine\\input_spec.py\", line 298, in assert_input_compatibility\n        raise ValueError(\n\n    ValueError: Input 0 of layer \"sequential_1\" is incompatible with the layer: expected shape=(None, 2582, 13), found shape=(None, 661500, None, 13)\n",
     "output_type": "error",
     "traceback": [
      "\u001b[1;31m---------------------------------------------------------------------------\u001b[0m",
      "\u001b[1;31mValueError\u001b[0m                                Traceback (most recent call last)",
      "\u001b[1;32m~\\AppData\\Local\\Temp\\ipykernel_19804\\1231105517.py\u001b[0m in \u001b[0;36m<module>\u001b[1;34m\u001b[0m\n\u001b[1;32m----> 1\u001b[1;33m \u001b[0mto_kaggle\u001b[0m\u001b[1;33m(\u001b[0m\u001b[0mmodel_lstm\u001b[0m\u001b[1;33m,\u001b[0m \u001b[0mtest_MFCC_ds_kaggle\u001b[0m\u001b[1;33m,\u001b[0m \u001b[1;34m'audio_kaggle.csv'\u001b[0m\u001b[1;33m)\u001b[0m\u001b[1;33m\u001b[0m\u001b[1;33m\u001b[0m\u001b[0m\n\u001b[0m",
      "\u001b[1;32m~\\AppData\\Local\\Temp\\ipykernel_19804\\3584063594.py\u001b[0m in \u001b[0;36mto_kaggle\u001b[1;34m(model, predict, naam)\u001b[0m\n\u001b[0;32m      1\u001b[0m \u001b[1;32mdef\u001b[0m \u001b[0mto_kaggle\u001b[0m\u001b[1;33m(\u001b[0m\u001b[0mmodel\u001b[0m\u001b[1;33m,\u001b[0m \u001b[0mpredict\u001b[0m\u001b[1;33m,\u001b[0m\u001b[0mnaam\u001b[0m\u001b[1;33m)\u001b[0m\u001b[1;33m:\u001b[0m\u001b[1;33m\u001b[0m\u001b[1;33m\u001b[0m\u001b[0m\n\u001b[1;32m----> 2\u001b[1;33m     \u001b[0mpredictions\u001b[0m \u001b[1;33m=\u001b[0m \u001b[0mmodel\u001b[0m\u001b[1;33m.\u001b[0m\u001b[0mpredict\u001b[0m\u001b[1;33m(\u001b[0m\u001b[0mpredict\u001b[0m\u001b[1;33m)\u001b[0m\u001b[1;33m\u001b[0m\u001b[1;33m\u001b[0m\u001b[0m\n\u001b[0m\u001b[0;32m      3\u001b[0m     \u001b[0mfilenames\u001b[0m \u001b[1;33m=\u001b[0m \u001b[1;33m[\u001b[0m\u001b[1;34mf\"test.{i:05}.wav\"\u001b[0m \u001b[1;32mfor\u001b[0m \u001b[0mi\u001b[0m \u001b[1;32min\u001b[0m \u001b[0mrange\u001b[0m\u001b[1;33m(\u001b[0m\u001b[1;36m129\u001b[0m\u001b[1;33m)\u001b[0m\u001b[1;33m]\u001b[0m\u001b[1;33m\u001b[0m\u001b[1;33m\u001b[0m\u001b[0m\n\u001b[0;32m      4\u001b[0m     \u001b[0mdata\u001b[0m \u001b[1;33m=\u001b[0m \u001b[0mlist\u001b[0m\u001b[1;33m(\u001b[0m\u001b[0mzip\u001b[0m\u001b[1;33m(\u001b[0m\u001b[0mfilenames\u001b[0m\u001b[1;33m,\u001b[0m \u001b[0mpredictions\u001b[0m\u001b[1;33m)\u001b[0m\u001b[1;33m)\u001b[0m\u001b[1;33m\u001b[0m\u001b[1;33m\u001b[0m\u001b[0m\n\u001b[0;32m      5\u001b[0m     \u001b[0minleveren_kaggle\u001b[0m \u001b[1;33m=\u001b[0m \u001b[0mpd\u001b[0m\u001b[1;33m.\u001b[0m\u001b[0mDataFrame\u001b[0m\u001b[1;33m(\u001b[0m\u001b[0mdata\u001b[0m\u001b[1;33m,\u001b[0m \u001b[0mcolumns\u001b[0m\u001b[1;33m=\u001b[0m\u001b[1;33m[\u001b[0m\u001b[1;34m'filename'\u001b[0m\u001b[1;33m,\u001b[0m \u001b[1;34m'genre'\u001b[0m\u001b[1;33m]\u001b[0m\u001b[1;33m)\u001b[0m\u001b[1;33m\u001b[0m\u001b[1;33m\u001b[0m\u001b[0m\n",
      "\u001b[1;32m~\\anaconda3\\lib\\site-packages\\keras\\src\\utils\\traceback_utils.py\u001b[0m in \u001b[0;36merror_handler\u001b[1;34m(*args, **kwargs)\u001b[0m\n\u001b[0;32m     68\u001b[0m             \u001b[1;31m# To get the full stack trace, call:\u001b[0m\u001b[1;33m\u001b[0m\u001b[1;33m\u001b[0m\u001b[0m\n\u001b[0;32m     69\u001b[0m             \u001b[1;31m# `tf.debugging.disable_traceback_filtering()`\u001b[0m\u001b[1;33m\u001b[0m\u001b[1;33m\u001b[0m\u001b[0m\n\u001b[1;32m---> 70\u001b[1;33m             \u001b[1;32mraise\u001b[0m \u001b[0me\u001b[0m\u001b[1;33m.\u001b[0m\u001b[0mwith_traceback\u001b[0m\u001b[1;33m(\u001b[0m\u001b[0mfiltered_tb\u001b[0m\u001b[1;33m)\u001b[0m \u001b[1;32mfrom\u001b[0m \u001b[1;32mNone\u001b[0m\u001b[1;33m\u001b[0m\u001b[1;33m\u001b[0m\u001b[0m\n\u001b[0m\u001b[0;32m     71\u001b[0m         \u001b[1;32mfinally\u001b[0m\u001b[1;33m:\u001b[0m\u001b[1;33m\u001b[0m\u001b[1;33m\u001b[0m\u001b[0m\n\u001b[0;32m     72\u001b[0m             \u001b[1;32mdel\u001b[0m \u001b[0mfiltered_tb\u001b[0m\u001b[1;33m\u001b[0m\u001b[1;33m\u001b[0m\u001b[0m\n",
      "\u001b[1;32m~\\anaconda3\\lib\\site-packages\\keras\\src\\engine\\training.py\u001b[0m in \u001b[0;36mtf__predict_function\u001b[1;34m(iterator)\u001b[0m\n\u001b[0;32m     13\u001b[0m                 \u001b[1;32mtry\u001b[0m\u001b[1;33m:\u001b[0m\u001b[1;33m\u001b[0m\u001b[1;33m\u001b[0m\u001b[0m\n\u001b[0;32m     14\u001b[0m                     \u001b[0mdo_return\u001b[0m \u001b[1;33m=\u001b[0m \u001b[1;32mTrue\u001b[0m\u001b[1;33m\u001b[0m\u001b[1;33m\u001b[0m\u001b[0m\n\u001b[1;32m---> 15\u001b[1;33m                     \u001b[0mretval_\u001b[0m \u001b[1;33m=\u001b[0m \u001b[0mag__\u001b[0m\u001b[1;33m.\u001b[0m\u001b[0mconverted_call\u001b[0m\u001b[1;33m(\u001b[0m\u001b[0mag__\u001b[0m\u001b[1;33m.\u001b[0m\u001b[0mld\u001b[0m\u001b[1;33m(\u001b[0m\u001b[0mstep_function\u001b[0m\u001b[1;33m)\u001b[0m\u001b[1;33m,\u001b[0m \u001b[1;33m(\u001b[0m\u001b[0mag__\u001b[0m\u001b[1;33m.\u001b[0m\u001b[0mld\u001b[0m\u001b[1;33m(\u001b[0m\u001b[0mself\u001b[0m\u001b[1;33m)\u001b[0m\u001b[1;33m,\u001b[0m \u001b[0mag__\u001b[0m\u001b[1;33m.\u001b[0m\u001b[0mld\u001b[0m\u001b[1;33m(\u001b[0m\u001b[0miterator\u001b[0m\u001b[1;33m)\u001b[0m\u001b[1;33m)\u001b[0m\u001b[1;33m,\u001b[0m \u001b[1;32mNone\u001b[0m\u001b[1;33m,\u001b[0m \u001b[0mfscope\u001b[0m\u001b[1;33m)\u001b[0m\u001b[1;33m\u001b[0m\u001b[1;33m\u001b[0m\u001b[0m\n\u001b[0m\u001b[0;32m     16\u001b[0m                 \u001b[1;32mexcept\u001b[0m\u001b[1;33m:\u001b[0m\u001b[1;33m\u001b[0m\u001b[1;33m\u001b[0m\u001b[0m\n\u001b[0;32m     17\u001b[0m                     \u001b[0mdo_return\u001b[0m \u001b[1;33m=\u001b[0m \u001b[1;32mFalse\u001b[0m\u001b[1;33m\u001b[0m\u001b[1;33m\u001b[0m\u001b[0m\n",
      "\u001b[1;31mValueError\u001b[0m: in user code:\n\n    File \"C:\\Users\\bosch\\anaconda3\\lib\\site-packages\\keras\\src\\engine\\training.py\", line 2416, in predict_function  *\n        return step_function(self, iterator)\n    File \"C:\\Users\\bosch\\anaconda3\\lib\\site-packages\\keras\\src\\engine\\training.py\", line 2401, in step_function  **\n        outputs = model.distribute_strategy.run(run_step, args=(data,))\n    File \"C:\\Users\\bosch\\anaconda3\\lib\\site-packages\\keras\\src\\engine\\training.py\", line 2389, in run_step  **\n        outputs = model.predict_step(data)\n    File \"C:\\Users\\bosch\\anaconda3\\lib\\site-packages\\keras\\src\\engine\\training.py\", line 2357, in predict_step\n        return self(x, training=False)\n    File \"C:\\Users\\bosch\\anaconda3\\lib\\site-packages\\keras\\src\\utils\\traceback_utils.py\", line 70, in error_handler\n        raise e.with_traceback(filtered_tb) from None\n    File \"C:\\Users\\bosch\\anaconda3\\lib\\site-packages\\keras\\src\\engine\\input_spec.py\", line 298, in assert_input_compatibility\n        raise ValueError(\n\n    ValueError: Input 0 of layer \"sequential_1\" is incompatible with the layer: expected shape=(None, 2582, 13), found shape=(None, 661500, None, 13)\n"
     ]
    }
   ],
   "source": [
    "to_kaggle(model_lstm, test_MFCC_ds_kaggle, 'audio_kaggle.csv')"
   ]
  },
  {
   "cell_type": "code",
   "execution_count": 160,
   "id": "89111ae8",
   "metadata": {},
   "outputs": [
    {
     "ename": "TypeError",
     "evalue": "in user code:\n\n    File \"C:\\Users\\bosch\\anaconda3\\lib\\site-packages\\keras\\src\\engine\\training.py\", line 2042, in test_function  *\n        return step_function(self, iterator)\n    File \"C:\\Users\\bosch\\anaconda3\\lib\\site-packages\\keras\\src\\engine\\training.py\", line 2025, in step_function  **\n        outputs = model.distribute_strategy.run(run_step, args=(data,))\n    File \"C:\\Users\\bosch\\anaconda3\\lib\\site-packages\\keras\\src\\engine\\training.py\", line 2013, in run_step  **\n        outputs = model.test_step(data)\n    File \"C:\\Users\\bosch\\anaconda3\\lib\\site-packages\\keras\\src\\engine\\training.py\", line 1893, in test_step\n        y_pred = self(x, training=False)\n    File \"C:\\Users\\bosch\\anaconda3\\lib\\site-packages\\keras\\src\\utils\\traceback_utils.py\", line 70, in error_handler\n        raise e.with_traceback(filtered_tb) from None\n    File \"C:\\Users\\bosch\\anaconda3\\lib\\site-packages\\keras\\src\\layers\\rnn\\lstm.py\", line 616, in call\n        timesteps = input_shape[0] if self.time_major else input_shape[1]\n\n    TypeError: Exception encountered when calling layer 'forward_lstm_5' (type LSTM).\n    \n    'NoneType' object is not subscriptable\n    \n    Call arguments received by layer 'forward_lstm_5' (type LSTM):\n      • inputs=tf.Tensor(shape=<unknown>, dtype=float32)\n      • mask=None\n      • training=False\n      • initial_state=None\n",
     "output_type": "error",
     "traceback": [
      "\u001b[1;31m---------------------------------------------------------------------------\u001b[0m",
      "\u001b[1;31mTypeError\u001b[0m                                 Traceback (most recent call last)",
      "\u001b[1;32m~\\AppData\\Local\\Temp\\ipykernel_16116\\176486306.py\u001b[0m in \u001b[0;36m<module>\u001b[1;34m\u001b[0m\n\u001b[1;32m----> 1\u001b[1;33m \u001b[0mmodel_lstm\u001b[0m\u001b[1;33m.\u001b[0m\u001b[0mevaluate\u001b[0m\u001b[1;33m(\u001b[0m\u001b[0mtest_ds\u001b[0m\u001b[1;33m)\u001b[0m\u001b[1;33m\u001b[0m\u001b[1;33m\u001b[0m\u001b[0m\n\u001b[0m",
      "\u001b[1;32m~\\anaconda3\\lib\\site-packages\\keras\\src\\utils\\traceback_utils.py\u001b[0m in \u001b[0;36merror_handler\u001b[1;34m(*args, **kwargs)\u001b[0m\n\u001b[0;32m     68\u001b[0m             \u001b[1;31m# To get the full stack trace, call:\u001b[0m\u001b[1;33m\u001b[0m\u001b[1;33m\u001b[0m\u001b[0m\n\u001b[0;32m     69\u001b[0m             \u001b[1;31m# `tf.debugging.disable_traceback_filtering()`\u001b[0m\u001b[1;33m\u001b[0m\u001b[1;33m\u001b[0m\u001b[0m\n\u001b[1;32m---> 70\u001b[1;33m             \u001b[1;32mraise\u001b[0m \u001b[0me\u001b[0m\u001b[1;33m.\u001b[0m\u001b[0mwith_traceback\u001b[0m\u001b[1;33m(\u001b[0m\u001b[0mfiltered_tb\u001b[0m\u001b[1;33m)\u001b[0m \u001b[1;32mfrom\u001b[0m \u001b[1;32mNone\u001b[0m\u001b[1;33m\u001b[0m\u001b[1;33m\u001b[0m\u001b[0m\n\u001b[0m\u001b[0;32m     71\u001b[0m         \u001b[1;32mfinally\u001b[0m\u001b[1;33m:\u001b[0m\u001b[1;33m\u001b[0m\u001b[1;33m\u001b[0m\u001b[0m\n\u001b[0;32m     72\u001b[0m             \u001b[1;32mdel\u001b[0m \u001b[0mfiltered_tb\u001b[0m\u001b[1;33m\u001b[0m\u001b[1;33m\u001b[0m\u001b[0m\n",
      "\u001b[1;32m~\\anaconda3\\lib\\site-packages\\keras\\src\\engine\\training.py\u001b[0m in \u001b[0;36mtf__test_function\u001b[1;34m(iterator)\u001b[0m\n\u001b[0;32m     13\u001b[0m                 \u001b[1;32mtry\u001b[0m\u001b[1;33m:\u001b[0m\u001b[1;33m\u001b[0m\u001b[1;33m\u001b[0m\u001b[0m\n\u001b[0;32m     14\u001b[0m                     \u001b[0mdo_return\u001b[0m \u001b[1;33m=\u001b[0m \u001b[1;32mTrue\u001b[0m\u001b[1;33m\u001b[0m\u001b[1;33m\u001b[0m\u001b[0m\n\u001b[1;32m---> 15\u001b[1;33m                     \u001b[0mretval_\u001b[0m \u001b[1;33m=\u001b[0m \u001b[0mag__\u001b[0m\u001b[1;33m.\u001b[0m\u001b[0mconverted_call\u001b[0m\u001b[1;33m(\u001b[0m\u001b[0mag__\u001b[0m\u001b[1;33m.\u001b[0m\u001b[0mld\u001b[0m\u001b[1;33m(\u001b[0m\u001b[0mstep_function\u001b[0m\u001b[1;33m)\u001b[0m\u001b[1;33m,\u001b[0m \u001b[1;33m(\u001b[0m\u001b[0mag__\u001b[0m\u001b[1;33m.\u001b[0m\u001b[0mld\u001b[0m\u001b[1;33m(\u001b[0m\u001b[0mself\u001b[0m\u001b[1;33m)\u001b[0m\u001b[1;33m,\u001b[0m \u001b[0mag__\u001b[0m\u001b[1;33m.\u001b[0m\u001b[0mld\u001b[0m\u001b[1;33m(\u001b[0m\u001b[0miterator\u001b[0m\u001b[1;33m)\u001b[0m\u001b[1;33m)\u001b[0m\u001b[1;33m,\u001b[0m \u001b[1;32mNone\u001b[0m\u001b[1;33m,\u001b[0m \u001b[0mfscope\u001b[0m\u001b[1;33m)\u001b[0m\u001b[1;33m\u001b[0m\u001b[1;33m\u001b[0m\u001b[0m\n\u001b[0m\u001b[0;32m     16\u001b[0m                 \u001b[1;32mexcept\u001b[0m\u001b[1;33m:\u001b[0m\u001b[1;33m\u001b[0m\u001b[1;33m\u001b[0m\u001b[0m\n\u001b[0;32m     17\u001b[0m                     \u001b[0mdo_return\u001b[0m \u001b[1;33m=\u001b[0m \u001b[1;32mFalse\u001b[0m\u001b[1;33m\u001b[0m\u001b[1;33m\u001b[0m\u001b[0m\n",
      "\u001b[1;31mTypeError\u001b[0m: in user code:\n\n    File \"C:\\Users\\bosch\\anaconda3\\lib\\site-packages\\keras\\src\\engine\\training.py\", line 2042, in test_function  *\n        return step_function(self, iterator)\n    File \"C:\\Users\\bosch\\anaconda3\\lib\\site-packages\\keras\\src\\engine\\training.py\", line 2025, in step_function  **\n        outputs = model.distribute_strategy.run(run_step, args=(data,))\n    File \"C:\\Users\\bosch\\anaconda3\\lib\\site-packages\\keras\\src\\engine\\training.py\", line 2013, in run_step  **\n        outputs = model.test_step(data)\n    File \"C:\\Users\\bosch\\anaconda3\\lib\\site-packages\\keras\\src\\engine\\training.py\", line 1893, in test_step\n        y_pred = self(x, training=False)\n    File \"C:\\Users\\bosch\\anaconda3\\lib\\site-packages\\keras\\src\\utils\\traceback_utils.py\", line 70, in error_handler\n        raise e.with_traceback(filtered_tb) from None\n    File \"C:\\Users\\bosch\\anaconda3\\lib\\site-packages\\keras\\src\\layers\\rnn\\lstm.py\", line 616, in call\n        timesteps = input_shape[0] if self.time_major else input_shape[1]\n\n    TypeError: Exception encountered when calling layer 'forward_lstm_5' (type LSTM).\n    \n    'NoneType' object is not subscriptable\n    \n    Call arguments received by layer 'forward_lstm_5' (type LSTM):\n      • inputs=tf.Tensor(shape=<unknown>, dtype=float32)\n      • mask=None\n      • training=False\n      • initial_state=None\n"
     ]
    }
   ],
   "source": [
    "model_lstm.evaluate(test_ds)"
   ]
  },
  {
   "cell_type": "markdown",
   "id": "be652bb8",
   "metadata": {},
   "source": [
    "[Back to the top](#start)\n",
    "<a name='4.0'></a>\n",
    "\n",
    "<div style=\"background-color:#216375; text-align:center; vertical-align:middle; padding:10px 0; margin-top:5px; margin-bottom:5px\">\n",
    "        <h2 style=\"color:white\"><strong>H4: LSTM voor songteksten</strong></h2>\n",
    "</div>"
   ]
  },
  {
   "cell_type": "markdown",
   "id": "4a1e5f59",
   "metadata": {},
   "source": [
    "<a name='4.1'></a>\n",
    "<h3>&sect;4.1: Het model</h3>"
   ]
  },
  {
   "cell_type": "markdown",
   "id": "6187a769",
   "metadata": {},
   "source": [
    "<a name='4.2'></a>\n",
    "<h3>&sect;4.2: Modelarchitectuur</h3>"
   ]
  },
  {
   "cell_type": "markdown",
   "id": "2dc6e35c",
   "metadata": {},
   "source": [
    "<a name='4.3'></a>\n",
    "<h3>&sect;4.3: Onderbouwing keuzes parameters</h3>"
   ]
  },
  {
   "cell_type": "markdown",
   "id": "cd30285d",
   "metadata": {},
   "source": [
    "<a name='4.4'></a>\n",
    "<h3>&sect;4.4: Datapipeline met data preprocessing, feature engineering, of/en data\n",
    "augmentation</h3>"
   ]
  },
  {
   "cell_type": "markdown",
   "id": "2fef18c9",
   "metadata": {},
   "source": [
    "<a name='4.5'></a>\n",
    "<h3>&sect;4.5: Model trainen</h3>"
   ]
  },
  {
   "cell_type": "markdown",
   "id": "9515ce2f",
   "metadata": {},
   "source": [
    "[Back to the top](#start)\n",
    "<a name='5.0'></a>\n",
    "\n",
    "<div style=\"background-color:#216375; text-align:center; vertical-align:middle; padding:10px 0; margin-top:5px; margin-bottom:5px\">\n",
    "        <h2 style=\"color:white\"><strong>H5: Transformer voor songteksten</strong></h2>\n",
    "</div>"
   ]
  },
  {
   "cell_type": "markdown",
   "id": "d093b339",
   "metadata": {},
   "source": [
    "<a name='5.1'></a>\n",
    "<h3>&sect;5.1: Het model</h3>"
   ]
  },
  {
   "cell_type": "markdown",
   "id": "06e8ea3d",
   "metadata": {},
   "source": [
    "<a name='5.2'></a>\n",
    "<h3>&sect;5.2: Fine-tuning Hugging Face</h3>"
   ]
  },
  {
   "cell_type": "markdown",
   "id": "339833de",
   "metadata": {},
   "source": [
    "<a name='5.3'></a>\n",
    "<h3>&sect;5.3: Naam modelarchitectuur en dataset</h3>"
   ]
  },
  {
   "cell_type": "markdown",
   "id": "424ca908",
   "metadata": {},
   "source": [
    "<a name='5.4'></a>\n",
    "<h3>&sect;5.4: Voordelen vooraf getrainde tekstmodellen</h3>"
   ]
  },
  {
   "cell_type": "markdown",
   "id": "a1ce47a2",
   "metadata": {},
   "source": [
    "<a name='5.5'></a>\n",
    "<h3>&sect;5.5: Stappen finetunen vooraf getraind model en motivatie keuzes</h3>"
   ]
  },
  {
   "cell_type": "markdown",
   "id": "15929fb8",
   "metadata": {},
   "source": [
    "[Back to the top](#start)\n",
    "<a name='6.0'></a>\n",
    "\n",
    "<div style=\"background-color:#216375; text-align:center; vertical-align:middle; padding:10px 0; margin-top:5px; margin-bottom:5px\">\n",
    "        <h2 style=\"color:white\"><strong>H6: Model naar keuze</strong></h2>\n",
    "</div>"
   ]
  },
  {
   "cell_type": "markdown",
   "id": "f67b9afd",
   "metadata": {},
   "source": [
    "<a name='6.1'></a>\n",
    "<h3>&sect;6.1: Het model</h3>"
   ]
  },
  {
   "cell_type": "markdown",
   "id": "c6f09383",
   "metadata": {},
   "source": [
    "<a name='6.2'></a>\n",
    "<h3>&sect;6.2: Modelarchitectuur</h3>"
   ]
  },
  {
   "cell_type": "markdown",
   "id": "ea70d90c",
   "metadata": {},
   "source": [
    "<a name='6.3'></a>\n",
    "<h3>&sect;6.3: Uitleg keuzes model</h3>"
   ]
  },
  {
   "cell_type": "markdown",
   "id": "08c5241f",
   "metadata": {},
   "source": [
    "[Back to the top](#start)\n",
    "<a name='7.0'></a>\n",
    "\n",
    "<div style=\"background-color:#216375; text-align:center; vertical-align:middle; padding:10px 0; margin-top:5px; margin-bottom:5px\">\n",
    "        <h2 style=\"color:white\"><strong>H7: Bevindingen</strong></h2>\n",
    "</div>"
   ]
  },
  {
   "cell_type": "markdown",
   "id": "08688965",
   "metadata": {},
   "source": [
    "<a name='7.1'></a>\n",
    "<h3>&sect;7.1: Samenvatting van de uitkomsten</h3>"
   ]
  },
  {
   "cell_type": "markdown",
   "id": "40b2fa47",
   "metadata": {},
   "source": [
    "##### Geef een beknopt overzicht van de resultaten"
   ]
  },
  {
   "cell_type": "markdown",
   "id": "cec894e4",
   "metadata": {},
   "source": [
    "##### Welke model presteert het beste? Bij welke parameters?"
   ]
  },
  {
   "cell_type": "markdown",
   "id": "c76c39b6",
   "metadata": {},
   "source": [
    "##### Toon je scores op Kaggle en laat zien wat de resultaten waren van je verbeteringen op je score op Kaggle."
   ]
  },
  {
   "cell_type": "markdown",
   "id": "a2aadbd2",
   "metadata": {},
   "source": [
    "[Back to the top](#start)\n",
    "<a name='8.0'></a>\n",
    "\n",
    "<div style=\"background-color:#216375; text-align:center; vertical-align:middle; padding:10px 0; margin-top:5px; margin-bottom:5px\">\n",
    "        <h2 style=\"color:white\"><strong>H8: Conclusie en aanbevelingen</strong></h2>\n",
    "</div>"
   ]
  },
  {
   "cell_type": "markdown",
   "id": "8eb6ad8d",
   "metadata": {},
   "source": [
    "<a name='8.1'></a>\n",
    "<h3>&sect;8.1: Uitdagingen modelleringsproces</h3>"
   ]
  },
  {
   "cell_type": "markdown",
   "id": "33e8273e",
   "metadata": {},
   "source": [
    "<a name='8.2'></a>\n",
    "<h3>&sect;8.2: Prestaties modelarchitecturen</h3>"
   ]
  },
  {
   "cell_type": "markdown",
   "id": "0649c07c",
   "metadata": {},
   "source": [
    "<a name='8.3'></a>\n",
    "<h3>&sect;8.3: Beste modellen audio en tekst</h3>"
   ]
  },
  {
   "cell_type": "markdown",
   "id": "e18fae6f",
   "metadata": {},
   "source": [
    "<a name='8.4'></a>\n",
    "<h3>&sect;8.4: Genres makkelijk te voorspellen met audio en tekst</h3>"
   ]
  },
  {
   "cell_type": "markdown",
   "id": "025e1217",
   "metadata": {},
   "source": [
    "<a name='8.5'></a>\n",
    "<h3>&sect;8.5: Advies voor app</h3>"
   ]
  },
  {
   "cell_type": "markdown",
   "id": "1fe3379a",
   "metadata": {},
   "source": [
    "<a name='8.6'></a>\n",
    "<h3>&sect;8.6: Conceptuele uitbreiding voor systeem</h3>"
   ]
  },
  {
   "cell_type": "markdown",
   "id": "124aabbc",
   "metadata": {},
   "source": [
    "[Back to the top](#start)\n",
    "<a name='9.0'></a>\n",
    "\n",
    "<div style=\"background-color:#216375; text-align:center; vertical-align:middle; padding:10px 0; margin-top:5px; margin-bottom:5px\">\n",
    "        <h2 style=\"color:white\"><strong>H9: Literatuurlijst</strong></h2>\n",
    "</div>"
   ]
  },
  {
   "cell_type": "markdown",
   "id": "8aaafefb",
   "metadata": {},
   "source": []
  }
 ],
 "metadata": {
  "kernelspec": {
   "display_name": "Python 3 (ipykernel)",
   "language": "python",
   "name": "python3"
  },
  "language_info": {
   "codemirror_mode": {
    "name": "ipython",
    "version": 3
   },
   "file_extension": ".py",
   "mimetype": "text/x-python",
   "name": "python",
   "nbconvert_exporter": "python",
   "pygments_lexer": "ipython3",
   "version": "3.9.13"
  }
 },
 "nbformat": 4,
 "nbformat_minor": 5
}
