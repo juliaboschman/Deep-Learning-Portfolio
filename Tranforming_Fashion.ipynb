{
 "cells": [
  {
   "cell_type": "markdown",
   "id": "dd1afc10",
   "metadata": {},
   "source": [
    "<div style=\"background-color:\t#880E4F ; text-align:center; vertical-align: middle; padding:40px 0; margin-top:30px\">\n",
    "<h1 style=\"color:white\">Deep Learning - Transforming Fashion</h1>\n",
    "<b style=\"color:black\"> Kaggle: Yoyoyoghurt(teamnaam), JortAkershoek, juliaboschman, Sam Keesen </b>\n",
    "   \n",
    "<b style=\"color:white\"> Jort Akershoek, Julia Boschman, Sam Keesen</b>\n",
    "    </div>\n",
    "\n",
    "<a name='start'></a>"
   ]
  },
  {
   "cell_type": "markdown",
   "id": "1f2ce908",
   "metadata": {},
   "source": [
    "## Table of contents\n",
    "\n",
    "1. [H1: Inleiding](#1.0)\n",
    "2. [H2: EDA](#2.0)\n",
    "    - [&sect;2.1: Audio fragmenten](#2.1)\n",
    "    - [&sect;2.2: Eigenschappen audio fragmenten](#2.2)\n",
    "    - [&sect;2.3: Songteksten](#2.3)\n",
    "    - [&sect;2.4: Conclusie EDA](#2.4)\n",
    "3. [H3: LSTM voor audioclips](#3.0)\n",
    "    - [&sect;3.1: Feature engineering](#3.1)\n",
    "    - [&sect;3.2: Het model](#3.2)\n",
    "    - [&sect;3.3: Modelarchitectuur](#3.3)\n",
    "    - [&sect;3.4: Stappen feature engineering](#3.4)\n",
    "    - [&sect;3.5: Onderbouwing keuzes parameters](#3.5)\n",
    "    - [&sect;3.6: Geschikte loss functie en optimizer](#3.6)\n",
    "    - [&sect;3.7: Model trainen](#3.7)\n",
    "    - [&sect;3.8: Loss visualisatie](#3.8)\n",
    "    - [&sect;3.9: Functie voor kaggle](#3.9)\n",
    "4. [H4: LSTM voor songteksten](#4.0)\n",
    "    - [&sect;4.1: Datapipeline met data preprocessing, feature engineering, of/en data augmentation](#4.1)\n",
    "    - [&sect;4.2: Het model](#4.2)\n",
    "    - [&sect;4.3: Modelarchitectuur](#4.3)\n",
    "    - [&sect;4.4: Onderbouwing keuzes parameters](#4.4)\n",
    "    - [&sect;4.5: Model trainen](#4.5)\n",
    "5. [H5: Transformer voor songteksten](#5.0)\n",
    "    - [&sect;5.1: Het model](#5.1)\n",
    "    - [&sect;5.2: Fine-tuning Hugging Face](#5.2)\n",
    "    - [&sect;5.3: Naam modelarchitectuur en dataset](#5.3)\n",
    "    - [&sect;5.4: Voordelen vooraf getrainde tekst modellen](#4.4)\n",
    "    - [&sect;5.5: Stappen finetunen vooraf getraind model en motivaties](#5.5)\n",
    "6. [H6: Model naar keuze](#6.0)\n",
    "    - [&sect;6.1: Het model](#6.1)\n",
    "    - [&sect;6.2: Modelarchitectuur](#6.2)\n",
    "    - [&sect;6.3: Uitleg keuzes model](#6.3)\n",
    "7. [H7: Bevindingen](#7.0)\n",
    "    - [&sect;7.1: Samenvatting van de uitkomst](#7.1)\n",
    "8. [H8: Conclusie en aanbevelingen](#8.0)\n",
    "    - [&sect;8.1: Uitdagingen modelleringsproces](#8.1)\n",
    "    - [&sect;8.2: Prestaties modelarchitecturen](#8.2)\n",
    "    - [&sect;8.3: Beste model audio en tekst](#8.3)\n",
    "    - [&sect;8.4: Genres makkelijk te voorspellen met audio en tekst](#8.4)\n",
    "    - [&sect;8.5: Advies voor app](#8.5)\n",
    "    - [&sect;8.6: Conceptuele uitbreiding voor systeem](#8.6)\n",
    "9. [H9: Literatuurlijst](#9.0)"
   ]
  },
  {
   "cell_type": "code",
   "execution_count": null,
   "id": "2b530320",
   "metadata": {},
   "outputs": [],
   "source": [
    "#alle nodige imports"
   ]
  },
  {
   "cell_type": "markdown",
   "id": "e6d9a448",
   "metadata": {},
   "source": [
    "[Back to the top](#start)\n",
    "<a name='1.0'></a>\n",
    "\n",
    "<div style=\"background-color:#880E4F; text-align:center; vertical-align:middle; padding:10px 0; margin-top:5px; margin-bottom:5px\">\n",
    "        <h2 style=\"color:white\"><strong>H1: Inleiding</strong></h2>\n",
    "</div>"
   ]
  },
  {
   "cell_type": "markdown",
   "id": "f8b64fcc",
   "metadata": {},
   "source": []
  },
  {
   "cell_type": "markdown",
   "id": "53558e68",
   "metadata": {},
   "source": [
    "[Back to the top](#start)\n",
    "<a name='2.0'></a>\n",
    "\n",
    "<div style=\"background-color:#880E4F; text-align:center; vertical-align:middle; padding:10px 0; margin-top:5px; margin-bottom:5px\">\n",
    "        <h2 style=\"color:white\"><strong>H2: EDA</strong></h2>\n",
    "</div>"
   ]
  },
  {
   "cell_type": "markdown",
   "id": "fa734468",
   "metadata": {},
   "source": [
    "<a name='2.1'></a>\n",
    "<h3>&sect;2.1: Afbeeldingen en hun bounding-boxes</h3>"
   ]
  },
  {
   "cell_type": "code",
   "execution_count": null,
   "id": "a530fe0b",
   "metadata": {},
   "outputs": [],
   "source": []
  },
  {
   "cell_type": "markdown",
   "id": "dd3dd6ac",
   "metadata": {},
   "source": [
    "<a name='2.2'></a>\n",
    "<h3>&sect;2.2: Categoriën</h3>"
   ]
  },
  {
   "cell_type": "code",
   "execution_count": null,
   "id": "e6cc668b",
   "metadata": {},
   "outputs": [],
   "source": []
  },
  {
   "cell_type": "markdown",
   "id": "2c18a4aa",
   "metadata": {},
   "source": [
    "<a name='2.3'></a>\n",
    "<h3>&sect;2.3: Afbeeldingen image-captioning</h3>"
   ]
  },
  {
   "cell_type": "code",
   "execution_count": null,
   "id": "996ee171",
   "metadata": {},
   "outputs": [],
   "source": []
  },
  {
   "cell_type": "markdown",
   "id": "d572d5c6",
   "metadata": {},
   "source": [
    "<a name='2.4'></a>\n",
    "<h3>&sect;2.4: Gemeenschappelijke items</h3>"
   ]
  },
  {
   "cell_type": "markdown",
   "id": "543b3f73",
   "metadata": {},
   "source": []
  },
  {
   "cell_type": "markdown",
   "id": "a252983e",
   "metadata": {},
   "source": [
    "<a name='2.5'></a>\n",
    "<h3>&sect;2.5: Bevindingen EDA</h3>"
   ]
  },
  {
   "cell_type": "markdown",
   "id": "d22d3f9f",
   "metadata": {},
   "source": []
  },
  {
   "cell_type": "markdown",
   "id": "f83dd74a",
   "metadata": {},
   "source": [
    "[Back to the top](#start)\n",
    "<a name='3.0'></a>\n",
    "\n",
    "<div style=\"background-color:#880E4F; text-align:center; vertical-align:middle; padding:10px 0; margin-top:5px; margin-bottom:5px\">\n",
    "        <h2 style=\"color:white\"><strong>H3: Object detectie</strong></h2>\n",
    "</div>"
   ]
  },
  {
   "cell_type": "markdown",
   "id": "9e9323b8",
   "metadata": {},
   "source": [
    "<a name='3.1'></a>\n",
    "<h3>&sect;3.1: Model</h3>"
   ]
  },
  {
   "cell_type": "code",
   "execution_count": null,
   "id": "9f818246",
   "metadata": {},
   "outputs": [],
   "source": []
  },
  {
   "cell_type": "markdown",
   "id": "60339812",
   "metadata": {},
   "source": [
    "<a name='3.2'></a>\n",
    "<h3>&sect;3.2: Voorspellingen</h3>"
   ]
  },
  {
   "cell_type": "markdown",
   "id": "6a59f8ad",
   "metadata": {},
   "source": []
  },
  {
   "cell_type": "markdown",
   "id": "5c0f77eb",
   "metadata": {},
   "source": [
    "<a name='3.3'></a>\n",
    "<h3>&sect;3.3: Afbeeldingen voorverwerken</h3>"
   ]
  },
  {
   "cell_type": "markdown",
   "id": "f0aebd40",
   "metadata": {},
   "source": []
  },
  {
   "cell_type": "markdown",
   "id": "fe517a62",
   "metadata": {},
   "source": [
    "<a name='3.4'></a>\n",
    "<h3>&sect;3.4: Stappen feature engineering</h3>"
   ]
  },
  {
   "cell_type": "markdown",
   "id": "dc79dc2f",
   "metadata": {},
   "source": []
  },
  {
   "cell_type": "markdown",
   "id": "800c22f7",
   "metadata": {},
   "source": [
    "<a name='3.5'></a>\n",
    "<h3>&sect;3.5: Keuzes parameters, optimizer en epochs</h3>"
   ]
  },
  {
   "cell_type": "markdown",
   "id": "9cf7ebe7",
   "metadata": {},
   "source": []
  },
  {
   "cell_type": "markdown",
   "id": "605ac15b",
   "metadata": {},
   "source": [
    "<a name='3.6'></a>\n",
    "<h3>&sect;3.6: Loss functie</h3>"
   ]
  },
  {
   "cell_type": "markdown",
   "id": "11eb68b7",
   "metadata": {},
   "source": []
  },
  {
   "cell_type": "markdown",
   "id": "95de7d32",
   "metadata": {},
   "source": [
    "[Back to the top](#start)\n",
    "<a name='4.0'></a>\n",
    "\n",
    "<div style=\"background-color:#880E4F; text-align:center; vertical-align:middle; padding:10px 0; margin-top:5px; margin-bottom:5px\">\n",
    "        <h2 style=\"color:white\"><strong>H4: Ondertiteling van afbeeldingen</strong></h2>\n",
    "</div>"
   ]
  },
  {
   "cell_type": "markdown",
   "id": "bffb5d33",
   "metadata": {},
   "source": [
    "<a name='4.1'></a>\n",
    "<h3>&sect;4.1: Finetuning model</h3>"
   ]
  },
  {
   "cell_type": "code",
   "execution_count": null,
   "id": "22d1268f",
   "metadata": {},
   "outputs": [],
   "source": []
  },
  {
   "cell_type": "markdown",
   "id": "e7afc14e",
   "metadata": {},
   "source": [
    "<a name='4.2'></a>\n",
    "<h3>&sect;4.2: Uitleg model</h3>"
   ]
  },
  {
   "cell_type": "markdown",
   "id": "b6f8a670",
   "metadata": {},
   "source": []
  },
  {
   "cell_type": "markdown",
   "id": "424d676c",
   "metadata": {},
   "source": [
    "<a name='4.3'></a>\n",
    "<h3>&sect;4.3: Keuzes parameters, optimizer en epochs</h3>"
   ]
  },
  {
   "cell_type": "markdown",
   "id": "5383c8ce",
   "metadata": {},
   "source": []
  },
  {
   "cell_type": "markdown",
   "id": "b5dcbecb",
   "metadata": {},
   "source": [
    "[Back to the top](#start)\n",
    "<a name='5.0'></a>\n",
    "\n",
    "<div style=\"background-color:#880E4F; text-align:center; vertical-align:middle; padding:10px 0; margin-top:5px; margin-bottom:5px\">\n",
    "        <h2 style=\"color:white\"><strong>H5: Beeld generatie</strong></h2>\n",
    "</div>"
   ]
  },
  {
   "cell_type": "markdown",
   "id": "0fa87856",
   "metadata": {},
   "source": [
    "<a name='5.1'></a>\n",
    "<h3>&sect;5.1: Hugging Face model</h3>"
   ]
  },
  {
   "cell_type": "code",
   "execution_count": null,
   "id": "0675c834",
   "metadata": {},
   "outputs": [],
   "source": []
  },
  {
   "cell_type": "markdown",
   "id": "696e97a3",
   "metadata": {},
   "source": [
    "<a name='5.2'></a>\n",
    "<h3>&sect;5.2: Naam modelarchitectuur en dataset</h3>"
   ]
  },
  {
   "cell_type": "markdown",
   "id": "201e6d20",
   "metadata": {},
   "source": []
  },
  {
   "cell_type": "markdown",
   "id": "92e91b3b",
   "metadata": {},
   "source": [
    "<a name='5.3'></a>\n",
    "<h3>&sect;5.3: Stappen finetunen</h3>"
   ]
  },
  {
   "cell_type": "markdown",
   "id": "0f2bbeed",
   "metadata": {},
   "source": []
  },
  {
   "cell_type": "markdown",
   "id": "919336e7",
   "metadata": {},
   "source": [
    "<a name='5.4'></a>\n",
    "<h3>&sect;5.4: Componenten model</h3>"
   ]
  },
  {
   "cell_type": "markdown",
   "id": "a582b0db",
   "metadata": {},
   "source": []
  },
  {
   "cell_type": "markdown",
   "id": "ca4571bd",
   "metadata": {},
   "source": [
    "<a name='5.5'></a>\n",
    "<h3>&sect;5.5: Afbeeldingen maken en loss functie</h3>"
   ]
  },
  {
   "cell_type": "markdown",
   "id": "e6f6e4bd",
   "metadata": {},
   "source": []
  },
  {
   "cell_type": "markdown",
   "id": "0626f960",
   "metadata": {},
   "source": [
    "<a name='5.6'></a>\n",
    "<h3>&sect;5.6: Keuzes parameters, optimizer en epochs</h3>"
   ]
  },
  {
   "cell_type": "markdown",
   "id": "ecf6d730",
   "metadata": {},
   "source": []
  },
  {
   "cell_type": "markdown",
   "id": "21cd4a9e",
   "metadata": {},
   "source": [
    "[Back to the top](#start)\n",
    "<a name='6.0'></a>\n",
    "\n",
    "<div style=\"background-color:#880E4F; text-align:center; vertical-align:middle; padding:10px 0; margin-top:5px; margin-bottom:5px\">\n",
    "        <h2 style=\"color:white\"><strong>H6: Implementatie</strong></h2>\n",
    "</div>"
   ]
  },
  {
   "cell_type": "markdown",
   "id": "01793ff5",
   "metadata": {},
   "source": [
    "<a name='6.1'></a>\n",
    "<h3>&sect;6.1: App</h3>"
   ]
  },
  {
   "cell_type": "code",
   "execution_count": null,
   "id": "c01df1cf",
   "metadata": {},
   "outputs": [],
   "source": []
  },
  {
   "cell_type": "markdown",
   "id": "d656ea9e",
   "metadata": {},
   "source": [
    "<a name='6.2'></a>\n",
    "<h3>&sect;6.2: Samenvatting uitkomsten modelleren</h3>"
   ]
  },
  {
   "cell_type": "code",
   "execution_count": null,
   "id": "0d26f515",
   "metadata": {},
   "outputs": [],
   "source": []
  },
  {
   "cell_type": "markdown",
   "id": "7810411e",
   "metadata": {},
   "source": [
    "<a name='6.3'></a>\n",
    "<h3>&sect;6.3: Overzicht resultaten</h3>"
   ]
  },
  {
   "cell_type": "markdown",
   "id": "4917f328",
   "metadata": {},
   "source": []
  },
  {
   "cell_type": "markdown",
   "id": "14da7f1e",
   "metadata": {},
   "source": [
    "<a name='6.4'></a>\n",
    "<h3>&sect;6.4: Kaggle scores</h3>"
   ]
  },
  {
   "cell_type": "markdown",
   "id": "c374814a",
   "metadata": {},
   "source": []
  },
  {
   "cell_type": "markdown",
   "id": "86a9186d",
   "metadata": {},
   "source": [
    "[Back to the top](#start)\n",
    "<a name='7.0'></a>\n",
    "\n",
    "<div style=\"background-color:#880E4F; text-align:center; vertical-align:middle; padding:10px 0; margin-top:5px; margin-bottom:5px\">\n",
    "        <h2 style=\"color:white\"><strong>H7: Conclusie en aanbevelingen</strong></h2>\n",
    "</div>"
   ]
  },
  {
   "cell_type": "markdown",
   "id": "ea212776",
   "metadata": {},
   "source": [
    "<a name='7.1'></a>\n",
    "<h3>&sect;7.1: Uitdagingen en omschrijving modelleringsproces</h3>"
   ]
  },
  {
   "cell_type": "code",
   "execution_count": null,
   "id": "30d02af1",
   "metadata": {},
   "outputs": [],
   "source": []
  },
  {
   "cell_type": "markdown",
   "id": "cce1e73f",
   "metadata": {},
   "source": [
    "<a name='7.2'></a>\n",
    "<h3>&sect;7.2: Aanbevolen gebruik</h3>"
   ]
  },
  {
   "cell_type": "code",
   "execution_count": null,
   "id": "799a310b",
   "metadata": {},
   "outputs": [],
   "source": []
  },
  {
   "cell_type": "markdown",
   "id": "9c23dfb0",
   "metadata": {},
   "source": [
    "<a name='7.3'></a>\n",
    "<h3>&sect;7.3: Aanbevelingen soort data</h3>"
   ]
  },
  {
   "cell_type": "code",
   "execution_count": null,
   "id": "eb14329b",
   "metadata": {},
   "outputs": [],
   "source": []
  },
  {
   "cell_type": "markdown",
   "id": "6260c892",
   "metadata": {},
   "source": [
    "<a name='7.4'></a>\n",
    "<h3>&sect;7.4: Resultaten betrouwbaar?</h3>"
   ]
  },
  {
   "cell_type": "code",
   "execution_count": null,
   "id": "db33e665",
   "metadata": {},
   "outputs": [],
   "source": []
  },
  {
   "cell_type": "markdown",
   "id": "81634908",
   "metadata": {},
   "source": [
    "[Back to the top](#start)\n",
    "<a name='8.0'></a>\n",
    "\n",
    "<div style=\"background-color:#880E4F; text-align:center; vertical-align:middle; padding:10px 0; margin-top:5px; margin-bottom:5px\">\n",
    "        <h2 style=\"color:white\"><strong>H8: Literatuurlijst</strong></h2>\n",
    "</div>"
   ]
  },
  {
   "cell_type": "code",
   "execution_count": null,
   "id": "814f6c06",
   "metadata": {},
   "outputs": [],
   "source": []
  }
 ],
 "metadata": {
  "kernelspec": {
   "display_name": "Python 3 (ipykernel)",
   "language": "python",
   "name": "python3"
  },
  "language_info": {
   "codemirror_mode": {
    "name": "ipython",
    "version": 3
   },
   "file_extension": ".py",
   "mimetype": "text/x-python",
   "name": "python",
   "nbconvert_exporter": "python",
   "pygments_lexer": "ipython3",
   "version": "3.9.13"
  }
 },
 "nbformat": 4,
 "nbformat_minor": 5
}
